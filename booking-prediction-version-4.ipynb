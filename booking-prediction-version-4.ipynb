{
 "cells": [
  {
   "cell_type": "code",
   "execution_count": 1,
   "id": "39eb9d5b",
   "metadata": {
    "_cell_guid": "b1076dfc-b9ad-4769-8c92-a6c4dae69d19",
    "_uuid": "8f2839f25d086af736a60e9eeb907d3b93b6e0e5",
    "execution": {
     "iopub.execute_input": "2023-01-15T09:14:25.877903Z",
     "iopub.status.busy": "2023-01-15T09:14:25.876947Z",
     "iopub.status.idle": "2023-01-15T09:14:27.889356Z",
     "shell.execute_reply": "2023-01-15T09:14:27.887837Z",
     "shell.execute_reply.started": "2023-01-15T08:46:21.402021Z"
    },
    "papermill": {
     "duration": 2.083833,
     "end_time": "2023-01-15T09:14:27.889539",
     "exception": false,
     "start_time": "2023-01-15T09:14:25.805706",
     "status": "completed"
    },
    "tags": []
   },
   "outputs": [
    {
     "name": "stdout",
     "output_type": "stream",
     "text": [
      "/kaggle/input/sf-booking/hotels_test.csv\n",
      "/kaggle/input/sf-booking/hotels_train.csv\n",
      "/kaggle/input/sf-booking/submission.csv\n",
      "/kaggle/input/countries/.xml\n"
     ]
    }
   ],
   "source": [
    "# This Python 3 environment comes with many helpful analytics libraries installed\n",
    "# It is defined by the kaggle/python Docker image: https://github.com/kaggle/docker-python\n",
    "# For example, here's several helpful packages to load\n",
    "\n",
    "import numpy as np # linear algebra\n",
    "import pandas as pd # data processing, CSV file I/O (e.g. pd.read_csv)\n",
    "import nltk\n",
    "import category_encoders as ce\n",
    "\n",
    "# импортируем библиотеки для визуализации\n",
    "import matplotlib.pyplot as plt\n",
    "import seaborn as sns \n",
    "%matplotlib inline\n",
    "\n",
    "# Загружаем специальный удобный инструмент для разделения датасета:\n",
    "from sklearn.model_selection import train_test_split\n",
    "\n",
    "# Input data files are available in the read-only \"../input/\" directory\n",
    "# For example, running this (by clicking run or pressing Shift+Enter) will list all files under the input directory\n",
    "\n",
    "import os\n",
    "for dirname, _, filenames in os.walk('/kaggle/input'):\n",
    "    for filename in filenames:\n",
    "        print(os.path.join(dirname, filename))\n",
    "\n",
    "# You can write up to 20GB to the current directory (/kaggle/working/) that gets preserved as output when you create a version using \"Save & Run All\" \n",
    "# You can also write temporary files to /kaggle/temp/, but they won't be saved outside of the current session"
   ]
  },
  {
   "cell_type": "code",
   "execution_count": 2,
   "id": "9a3d8382",
   "metadata": {
    "execution": {
     "iopub.execute_input": "2023-01-15T09:14:28.015169Z",
     "iopub.status.busy": "2023-01-15T09:14:28.014505Z",
     "iopub.status.idle": "2023-01-15T09:14:28.016641Z",
     "shell.execute_reply": "2023-01-15T09:14:28.016130Z",
     "shell.execute_reply.started": "2023-01-15T08:46:26.410876Z"
    },
    "papermill": {
     "duration": 0.067531,
     "end_time": "2023-01-15T09:14:28.016768",
     "exception": false,
     "start_time": "2023-01-15T09:14:27.949237",
     "status": "completed"
    },
    "tags": []
   },
   "outputs": [],
   "source": [
    "# всегда фиксируйте RANDOM_SEED, чтобы ваши эксперименты были воспроизводимы!\n",
    "RANDOM_SEED = 42"
   ]
  },
  {
   "cell_type": "code",
   "execution_count": 3,
   "id": "db0ab68b",
   "metadata": {
    "execution": {
     "iopub.execute_input": "2023-01-15T09:14:28.145747Z",
     "iopub.status.busy": "2023-01-15T09:14:28.145019Z",
     "iopub.status.idle": "2023-01-15T09:14:32.082869Z",
     "shell.execute_reply": "2023-01-15T09:14:32.082243Z",
     "shell.execute_reply.started": "2023-01-15T08:46:28.804759Z"
    },
    "papermill": {
     "duration": 4.007092,
     "end_time": "2023-01-15T09:14:32.083015",
     "exception": false,
     "start_time": "2023-01-15T09:14:28.075923",
     "status": "completed"
    },
    "tags": []
   },
   "outputs": [],
   "source": [
    "# зафиксируем версию пакетов, чтобы эксперименты были воспроизводимы:\n",
    "!pip freeze > requirements.txt"
   ]
  },
  {
   "cell_type": "code",
   "execution_count": 4,
   "id": "9fefe67a",
   "metadata": {
    "execution": {
     "iopub.execute_input": "2023-01-15T09:14:32.209535Z",
     "iopub.status.busy": "2023-01-15T09:14:32.208780Z",
     "iopub.status.idle": "2023-01-15T09:14:37.975559Z",
     "shell.execute_reply": "2023-01-15T09:14:37.974830Z",
     "shell.execute_reply.started": "2023-01-15T08:46:35.791254Z"
    },
    "papermill": {
     "duration": 5.832663,
     "end_time": "2023-01-15T09:14:37.975696",
     "exception": false,
     "start_time": "2023-01-15T09:14:32.143033",
     "status": "completed"
    },
    "tags": []
   },
   "outputs": [],
   "source": [
    "# Подгрузим наши данные из соревнования\n",
    "\n",
    "DATA_DIR = '/kaggle/input/sf-booking/'\n",
    "df_train = pd.read_csv(DATA_DIR+'/hotels_train.csv') # датасет для обучения\n",
    "df_test = pd.read_csv(DATA_DIR+'hotels_test.csv') # датасет для предсказания\n",
    "sample_submission = pd.read_csv(DATA_DIR+'/submission.csv') # самбмишн\n",
    "countries_guide = pd.read_xml('/kaggle/input/countries/.xml')  # Справочник стран"
   ]
  },
  {
   "cell_type": "code",
   "execution_count": 5,
   "id": "bf45db02",
   "metadata": {
    "execution": {
     "iopub.execute_input": "2023-01-15T09:14:38.102827Z",
     "iopub.status.busy": "2023-01-15T09:14:38.102195Z",
     "iopub.status.idle": "2023-01-15T09:14:38.280348Z",
     "shell.execute_reply": "2023-01-15T09:14:38.279776Z",
     "shell.execute_reply.started": "2023-01-15T08:46:48.186814Z"
    },
    "papermill": {
     "duration": 0.245661,
     "end_time": "2023-01-15T09:14:38.280483",
     "exception": false,
     "start_time": "2023-01-15T09:14:38.034822",
     "status": "completed"
    },
    "tags": []
   },
   "outputs": [
    {
     "name": "stdout",
     "output_type": "stream",
     "text": [
      "<class 'pandas.core.frame.DataFrame'>\n",
      "RangeIndex: 386803 entries, 0 to 386802\n",
      "Data columns (total 17 columns):\n",
      " #   Column                                      Non-Null Count   Dtype  \n",
      "---  ------                                      --------------   -----  \n",
      " 0   hotel_address                               386803 non-null  object \n",
      " 1   additional_number_of_scoring                386803 non-null  int64  \n",
      " 2   review_date                                 386803 non-null  object \n",
      " 3   average_score                               386803 non-null  float64\n",
      " 4   hotel_name                                  386803 non-null  object \n",
      " 5   reviewer_nationality                        386803 non-null  object \n",
      " 6   negative_review                             386803 non-null  object \n",
      " 7   review_total_negative_word_counts           386803 non-null  int64  \n",
      " 8   total_number_of_reviews                     386803 non-null  int64  \n",
      " 9   positive_review                             386803 non-null  object \n",
      " 10  review_total_positive_word_counts           386803 non-null  int64  \n",
      " 11  total_number_of_reviews_reviewer_has_given  386803 non-null  int64  \n",
      " 12  reviewer_score                              386803 non-null  float64\n",
      " 13  tags                                        386803 non-null  object \n",
      " 14  days_since_review                           386803 non-null  object \n",
      " 15  lat                                         384355 non-null  float64\n",
      " 16  lng                                         384355 non-null  float64\n",
      "dtypes: float64(4), int64(5), object(8)\n",
      "memory usage: 50.2+ MB\n"
     ]
    }
   ],
   "source": [
    "df_train.info()"
   ]
  },
  {
   "cell_type": "code",
   "execution_count": 6,
   "id": "a861bdf1",
   "metadata": {
    "execution": {
     "iopub.execute_input": "2023-01-15T09:14:38.406570Z",
     "iopub.status.busy": "2023-01-15T09:14:38.405912Z",
     "iopub.status.idle": "2023-01-15T09:14:38.428251Z",
     "shell.execute_reply": "2023-01-15T09:14:38.427599Z",
     "shell.execute_reply.started": "2023-01-15T08:46:50.845537Z"
    },
    "papermill": {
     "duration": 0.088828,
     "end_time": "2023-01-15T09:14:38.428391",
     "exception": false,
     "start_time": "2023-01-15T09:14:38.339563",
     "status": "completed"
    },
    "tags": []
   },
   "outputs": [
    {
     "data": {
      "text/html": [
       "<div>\n",
       "<style scoped>\n",
       "    .dataframe tbody tr th:only-of-type {\n",
       "        vertical-align: middle;\n",
       "    }\n",
       "\n",
       "    .dataframe tbody tr th {\n",
       "        vertical-align: top;\n",
       "    }\n",
       "\n",
       "    .dataframe thead th {\n",
       "        text-align: right;\n",
       "    }\n",
       "</style>\n",
       "<table border=\"1\" class=\"dataframe\">\n",
       "  <thead>\n",
       "    <tr style=\"text-align: right;\">\n",
       "      <th></th>\n",
       "      <th>hotel_address</th>\n",
       "      <th>additional_number_of_scoring</th>\n",
       "      <th>review_date</th>\n",
       "      <th>average_score</th>\n",
       "      <th>hotel_name</th>\n",
       "      <th>reviewer_nationality</th>\n",
       "      <th>negative_review</th>\n",
       "      <th>review_total_negative_word_counts</th>\n",
       "      <th>total_number_of_reviews</th>\n",
       "      <th>positive_review</th>\n",
       "      <th>review_total_positive_word_counts</th>\n",
       "      <th>total_number_of_reviews_reviewer_has_given</th>\n",
       "      <th>reviewer_score</th>\n",
       "      <th>tags</th>\n",
       "      <th>days_since_review</th>\n",
       "      <th>lat</th>\n",
       "      <th>lng</th>\n",
       "    </tr>\n",
       "  </thead>\n",
       "  <tbody>\n",
       "    <tr>\n",
       "      <th>0</th>\n",
       "      <td>Stratton Street Mayfair Westminster Borough Lo...</td>\n",
       "      <td>581</td>\n",
       "      <td>2/19/2016</td>\n",
       "      <td>8.4</td>\n",
       "      <td>The May Fair Hotel</td>\n",
       "      <td>United Kingdom</td>\n",
       "      <td>Leaving</td>\n",
       "      <td>3</td>\n",
       "      <td>1994</td>\n",
       "      <td>Staff were amazing</td>\n",
       "      <td>4</td>\n",
       "      <td>7</td>\n",
       "      <td>10.0</td>\n",
       "      <td>[' Leisure trip ', ' Couple ', ' Studio Suite ...</td>\n",
       "      <td>531 day</td>\n",
       "      <td>51.507894</td>\n",
       "      <td>-0.143671</td>\n",
       "    </tr>\n",
       "    <tr>\n",
       "      <th>1</th>\n",
       "      <td>130 134 Southampton Row Camden London WC1B 5AF...</td>\n",
       "      <td>299</td>\n",
       "      <td>1/12/2017</td>\n",
       "      <td>8.3</td>\n",
       "      <td>Mercure London Bloomsbury Hotel</td>\n",
       "      <td>United Kingdom</td>\n",
       "      <td>poor breakfast</td>\n",
       "      <td>3</td>\n",
       "      <td>1361</td>\n",
       "      <td>location</td>\n",
       "      <td>2</td>\n",
       "      <td>14</td>\n",
       "      <td>6.3</td>\n",
       "      <td>[' Business trip ', ' Couple ', ' Standard Dou...</td>\n",
       "      <td>203 day</td>\n",
       "      <td>51.521009</td>\n",
       "      <td>-0.123097</td>\n",
       "    </tr>\n",
       "  </tbody>\n",
       "</table>\n",
       "</div>"
      ],
      "text/plain": [
       "                                       hotel_address  \\\n",
       "0  Stratton Street Mayfair Westminster Borough Lo...   \n",
       "1  130 134 Southampton Row Camden London WC1B 5AF...   \n",
       "\n",
       "   additional_number_of_scoring review_date  average_score  \\\n",
       "0                           581   2/19/2016            8.4   \n",
       "1                           299   1/12/2017            8.3   \n",
       "\n",
       "                        hotel_name reviewer_nationality  negative_review  \\\n",
       "0               The May Fair Hotel      United Kingdom          Leaving    \n",
       "1  Mercure London Bloomsbury Hotel      United Kingdom    poor breakfast   \n",
       "\n",
       "   review_total_negative_word_counts  total_number_of_reviews  \\\n",
       "0                                  3                     1994   \n",
       "1                                  3                     1361   \n",
       "\n",
       "       positive_review  review_total_positive_word_counts  \\\n",
       "0   Staff were amazing                                  4   \n",
       "1             location                                  2   \n",
       "\n",
       "   total_number_of_reviews_reviewer_has_given  reviewer_score  \\\n",
       "0                                           7            10.0   \n",
       "1                                          14             6.3   \n",
       "\n",
       "                                                tags days_since_review  \\\n",
       "0  [' Leisure trip ', ' Couple ', ' Studio Suite ...           531 day   \n",
       "1  [' Business trip ', ' Couple ', ' Standard Dou...           203 day   \n",
       "\n",
       "         lat       lng  \n",
       "0  51.507894 -0.143671  \n",
       "1  51.521009 -0.123097  "
      ]
     },
     "execution_count": 6,
     "metadata": {},
     "output_type": "execute_result"
    }
   ],
   "source": [
    "df_train.head(2)"
   ]
  },
  {
   "cell_type": "code",
   "execution_count": 7,
   "id": "c651260d",
   "metadata": {
    "execution": {
     "iopub.execute_input": "2023-01-15T09:14:38.605780Z",
     "iopub.status.busy": "2023-01-15T09:14:38.605123Z",
     "iopub.status.idle": "2023-01-15T09:14:38.619339Z",
     "shell.execute_reply": "2023-01-15T09:14:38.619766Z",
     "shell.execute_reply.started": "2023-01-15T08:46:53.579504Z"
    },
    "papermill": {
     "duration": 0.131786,
     "end_time": "2023-01-15T09:14:38.619933",
     "exception": false,
     "start_time": "2023-01-15T09:14:38.488147",
     "status": "completed"
    },
    "tags": []
   },
   "outputs": [
    {
     "name": "stdout",
     "output_type": "stream",
     "text": [
      "<class 'pandas.core.frame.DataFrame'>\n",
      "RangeIndex: 128935 entries, 0 to 128934\n",
      "Data columns (total 16 columns):\n",
      " #   Column                                      Non-Null Count   Dtype  \n",
      "---  ------                                      --------------   -----  \n",
      " 0   hotel_address                               128935 non-null  object \n",
      " 1   additional_number_of_scoring                128935 non-null  int64  \n",
      " 2   review_date                                 128935 non-null  object \n",
      " 3   average_score                               128935 non-null  float64\n",
      " 4   hotel_name                                  128935 non-null  object \n",
      " 5   reviewer_nationality                        128935 non-null  object \n",
      " 6   negative_review                             128935 non-null  object \n",
      " 7   review_total_negative_word_counts           128935 non-null  int64  \n",
      " 8   total_number_of_reviews                     128935 non-null  int64  \n",
      " 9   positive_review                             128935 non-null  object \n",
      " 10  review_total_positive_word_counts           128935 non-null  int64  \n",
      " 11  total_number_of_reviews_reviewer_has_given  128935 non-null  int64  \n",
      " 12  tags                                        128935 non-null  object \n",
      " 13  days_since_review                           128935 non-null  object \n",
      " 14  lat                                         128115 non-null  float64\n",
      " 15  lng                                         128115 non-null  float64\n",
      "dtypes: float64(3), int64(5), object(8)\n",
      "memory usage: 15.7+ MB\n"
     ]
    }
   ],
   "source": [
    "df_test.info()"
   ]
  },
  {
   "cell_type": "code",
   "execution_count": 8,
   "id": "787d0fef",
   "metadata": {
    "execution": {
     "iopub.execute_input": "2023-01-15T09:14:38.757809Z",
     "iopub.status.busy": "2023-01-15T09:14:38.756912Z",
     "iopub.status.idle": "2023-01-15T09:14:38.762373Z",
     "shell.execute_reply": "2023-01-15T09:14:38.761679Z",
     "shell.execute_reply.started": "2023-01-15T08:46:56.216860Z"
    },
    "papermill": {
     "duration": 0.081904,
     "end_time": "2023-01-15T09:14:38.762516",
     "exception": false,
     "start_time": "2023-01-15T09:14:38.680612",
     "status": "completed"
    },
    "tags": []
   },
   "outputs": [
    {
     "data": {
      "text/html": [
       "<div>\n",
       "<style scoped>\n",
       "    .dataframe tbody tr th:only-of-type {\n",
       "        vertical-align: middle;\n",
       "    }\n",
       "\n",
       "    .dataframe tbody tr th {\n",
       "        vertical-align: top;\n",
       "    }\n",
       "\n",
       "    .dataframe thead th {\n",
       "        text-align: right;\n",
       "    }\n",
       "</style>\n",
       "<table border=\"1\" class=\"dataframe\">\n",
       "  <thead>\n",
       "    <tr style=\"text-align: right;\">\n",
       "      <th></th>\n",
       "      <th>hotel_address</th>\n",
       "      <th>additional_number_of_scoring</th>\n",
       "      <th>review_date</th>\n",
       "      <th>average_score</th>\n",
       "      <th>hotel_name</th>\n",
       "      <th>reviewer_nationality</th>\n",
       "      <th>negative_review</th>\n",
       "      <th>review_total_negative_word_counts</th>\n",
       "      <th>total_number_of_reviews</th>\n",
       "      <th>positive_review</th>\n",
       "      <th>review_total_positive_word_counts</th>\n",
       "      <th>total_number_of_reviews_reviewer_has_given</th>\n",
       "      <th>tags</th>\n",
       "      <th>days_since_review</th>\n",
       "      <th>lat</th>\n",
       "      <th>lng</th>\n",
       "    </tr>\n",
       "  </thead>\n",
       "  <tbody>\n",
       "    <tr>\n",
       "      <th>0</th>\n",
       "      <td>Via Senigallia 6 20161 Milan Italy</td>\n",
       "      <td>904</td>\n",
       "      <td>7/21/2017</td>\n",
       "      <td>8.1</td>\n",
       "      <td>Hotel Da Vinci</td>\n",
       "      <td>United Kingdom</td>\n",
       "      <td>Would have appreciated a shop in the hotel th...</td>\n",
       "      <td>52</td>\n",
       "      <td>16670</td>\n",
       "      <td>Hotel was great clean friendly staff free bre...</td>\n",
       "      <td>62</td>\n",
       "      <td>1</td>\n",
       "      <td>[' Leisure trip ', ' Couple ', ' Double Room '...</td>\n",
       "      <td>13 days</td>\n",
       "      <td>45.533137</td>\n",
       "      <td>9.171102</td>\n",
       "    </tr>\n",
       "    <tr>\n",
       "      <th>1</th>\n",
       "      <td>Arlandaweg 10 Westpoort 1043 EW Amsterdam Neth...</td>\n",
       "      <td>612</td>\n",
       "      <td>12/12/2016</td>\n",
       "      <td>8.6</td>\n",
       "      <td>Urban Lodge Hotel</td>\n",
       "      <td>Belgium</td>\n",
       "      <td>No tissue paper box was present at the room</td>\n",
       "      <td>10</td>\n",
       "      <td>5018</td>\n",
       "      <td>No Positive</td>\n",
       "      <td>0</td>\n",
       "      <td>7</td>\n",
       "      <td>[' Leisure trip ', ' Group ', ' Triple Room ',...</td>\n",
       "      <td>234 day</td>\n",
       "      <td>52.385649</td>\n",
       "      <td>4.834443</td>\n",
       "    </tr>\n",
       "  </tbody>\n",
       "</table>\n",
       "</div>"
      ],
      "text/plain": [
       "                                       hotel_address  \\\n",
       "0                 Via Senigallia 6 20161 Milan Italy   \n",
       "1  Arlandaweg 10 Westpoort 1043 EW Amsterdam Neth...   \n",
       "\n",
       "   additional_number_of_scoring review_date  average_score         hotel_name  \\\n",
       "0                           904   7/21/2017            8.1     Hotel Da Vinci   \n",
       "1                           612  12/12/2016            8.6  Urban Lodge Hotel   \n",
       "\n",
       "  reviewer_nationality                                    negative_review  \\\n",
       "0      United Kingdom    Would have appreciated a shop in the hotel th...   \n",
       "1             Belgium         No tissue paper box was present at the room   \n",
       "\n",
       "   review_total_negative_word_counts  total_number_of_reviews  \\\n",
       "0                                 52                    16670   \n",
       "1                                 10                     5018   \n",
       "\n",
       "                                     positive_review  \\\n",
       "0   Hotel was great clean friendly staff free bre...   \n",
       "1                                        No Positive   \n",
       "\n",
       "   review_total_positive_word_counts  \\\n",
       "0                                 62   \n",
       "1                                  0   \n",
       "\n",
       "   total_number_of_reviews_reviewer_has_given  \\\n",
       "0                                           1   \n",
       "1                                           7   \n",
       "\n",
       "                                                tags days_since_review  \\\n",
       "0  [' Leisure trip ', ' Couple ', ' Double Room '...           13 days   \n",
       "1  [' Leisure trip ', ' Group ', ' Triple Room ',...           234 day   \n",
       "\n",
       "         lat       lng  \n",
       "0  45.533137  9.171102  \n",
       "1  52.385649  4.834443  "
      ]
     },
     "execution_count": 8,
     "metadata": {},
     "output_type": "execute_result"
    }
   ],
   "source": [
    "df_test.head(2)"
   ]
  },
  {
   "cell_type": "code",
   "execution_count": 9,
   "id": "83d4cf9a",
   "metadata": {
    "execution": {
     "iopub.execute_input": "2023-01-15T09:14:38.891854Z",
     "iopub.status.busy": "2023-01-15T09:14:38.887563Z",
     "iopub.status.idle": "2023-01-15T09:14:38.894847Z",
     "shell.execute_reply": "2023-01-15T09:14:38.894403Z",
     "shell.execute_reply.started": "2023-01-15T08:46:58.793004Z"
    },
    "papermill": {
     "duration": 0.071214,
     "end_time": "2023-01-15T09:14:38.894992",
     "exception": false,
     "start_time": "2023-01-15T09:14:38.823778",
     "status": "completed"
    },
    "tags": []
   },
   "outputs": [
    {
     "data": {
      "text/html": [
       "<div>\n",
       "<style scoped>\n",
       "    .dataframe tbody tr th:only-of-type {\n",
       "        vertical-align: middle;\n",
       "    }\n",
       "\n",
       "    .dataframe tbody tr th {\n",
       "        vertical-align: top;\n",
       "    }\n",
       "\n",
       "    .dataframe thead th {\n",
       "        text-align: right;\n",
       "    }\n",
       "</style>\n",
       "<table border=\"1\" class=\"dataframe\">\n",
       "  <thead>\n",
       "    <tr style=\"text-align: right;\">\n",
       "      <th></th>\n",
       "      <th>reviewer_score</th>\n",
       "      <th>id</th>\n",
       "    </tr>\n",
       "  </thead>\n",
       "  <tbody>\n",
       "    <tr>\n",
       "      <th>0</th>\n",
       "      <td>1</td>\n",
       "      <td>488440</td>\n",
       "    </tr>\n",
       "    <tr>\n",
       "      <th>1</th>\n",
       "      <td>10</td>\n",
       "      <td>274649</td>\n",
       "    </tr>\n",
       "  </tbody>\n",
       "</table>\n",
       "</div>"
      ],
      "text/plain": [
       "   reviewer_score      id\n",
       "0               1  488440\n",
       "1              10  274649"
      ]
     },
     "execution_count": 9,
     "metadata": {},
     "output_type": "execute_result"
    }
   ],
   "source": [
    "sample_submission.head(2)"
   ]
  },
  {
   "cell_type": "code",
   "execution_count": 10,
   "id": "ecd68d91",
   "metadata": {
    "execution": {
     "iopub.execute_input": "2023-01-15T09:14:39.020641Z",
     "iopub.status.busy": "2023-01-15T09:14:39.020046Z",
     "iopub.status.idle": "2023-01-15T09:14:39.030237Z",
     "shell.execute_reply": "2023-01-15T09:14:39.029553Z",
     "shell.execute_reply.started": "2023-01-15T08:47:01.030799Z"
    },
    "papermill": {
     "duration": 0.072841,
     "end_time": "2023-01-15T09:14:39.030402",
     "exception": false,
     "start_time": "2023-01-15T09:14:38.957561",
     "status": "completed"
    },
    "tags": []
   },
   "outputs": [
    {
     "name": "stdout",
     "output_type": "stream",
     "text": [
      "<class 'pandas.core.frame.DataFrame'>\n",
      "RangeIndex: 128935 entries, 0 to 128934\n",
      "Data columns (total 2 columns):\n",
      " #   Column          Non-Null Count   Dtype\n",
      "---  ------          --------------   -----\n",
      " 0   reviewer_score  128935 non-null  int64\n",
      " 1   id              128935 non-null  int64\n",
      "dtypes: int64(2)\n",
      "memory usage: 2.0 MB\n"
     ]
    }
   ],
   "source": [
    "sample_submission.info()"
   ]
  },
  {
   "cell_type": "code",
   "execution_count": 11,
   "id": "4819adf7",
   "metadata": {
    "execution": {
     "iopub.execute_input": "2023-01-15T09:14:39.160398Z",
     "iopub.status.busy": "2023-01-15T09:14:39.159654Z",
     "iopub.status.idle": "2023-01-15T09:14:39.506712Z",
     "shell.execute_reply": "2023-01-15T09:14:39.506060Z",
     "shell.execute_reply.started": "2023-01-15T08:56:30.976725Z"
    },
    "papermill": {
     "duration": 0.41383,
     "end_time": "2023-01-15T09:14:39.506872",
     "exception": false,
     "start_time": "2023-01-15T09:14:39.093042",
     "status": "completed"
    },
    "tags": []
   },
   "outputs": [],
   "source": [
    "# ВАЖНО! дря корректной обработки признаков объединяем трейн и тест в один датасет\n",
    "df_train['sample'] = 1 # помечаем где у нас трейн\n",
    "df_test['sample'] = 0 # помечаем где у нас тест\n",
    "df_test['reviewer_score'] = 0 # в тесте у нас нет значения reviewer_score, мы его должны предсказать, по этому пока просто заполняем нулями\n",
    "\n",
    "data = df_test.append(df_train, sort=False).reset_index(drop=True) # объединяем"
   ]
  },
  {
   "cell_type": "code",
   "execution_count": 12,
   "id": "32f31d5f",
   "metadata": {
    "execution": {
     "iopub.execute_input": "2023-01-15T09:14:39.634885Z",
     "iopub.status.busy": "2023-01-15T09:14:39.634289Z",
     "iopub.status.idle": "2023-01-15T09:14:39.849545Z",
     "shell.execute_reply": "2023-01-15T09:14:39.848940Z",
     "shell.execute_reply.started": "2023-01-15T08:56:33.486406Z"
    },
    "papermill": {
     "duration": 0.281215,
     "end_time": "2023-01-15T09:14:39.849721",
     "exception": false,
     "start_time": "2023-01-15T09:14:39.568506",
     "status": "completed"
    },
    "tags": []
   },
   "outputs": [
    {
     "name": "stdout",
     "output_type": "stream",
     "text": [
      "<class 'pandas.core.frame.DataFrame'>\n",
      "RangeIndex: 515738 entries, 0 to 515737\n",
      "Data columns (total 18 columns):\n",
      " #   Column                                      Non-Null Count   Dtype  \n",
      "---  ------                                      --------------   -----  \n",
      " 0   hotel_address                               515738 non-null  object \n",
      " 1   additional_number_of_scoring                515738 non-null  int64  \n",
      " 2   review_date                                 515738 non-null  object \n",
      " 3   average_score                               515738 non-null  float64\n",
      " 4   hotel_name                                  515738 non-null  object \n",
      " 5   reviewer_nationality                        515738 non-null  object \n",
      " 6   negative_review                             515738 non-null  object \n",
      " 7   review_total_negative_word_counts           515738 non-null  int64  \n",
      " 8   total_number_of_reviews                     515738 non-null  int64  \n",
      " 9   positive_review                             515738 non-null  object \n",
      " 10  review_total_positive_word_counts           515738 non-null  int64  \n",
      " 11  total_number_of_reviews_reviewer_has_given  515738 non-null  int64  \n",
      " 12  tags                                        515738 non-null  object \n",
      " 13  days_since_review                           515738 non-null  object \n",
      " 14  lat                                         512470 non-null  float64\n",
      " 15  lng                                         512470 non-null  float64\n",
      " 16  sample                                      515738 non-null  int64  \n",
      " 17  reviewer_score                              515738 non-null  float64\n",
      "dtypes: float64(4), int64(6), object(8)\n",
      "memory usage: 70.8+ MB\n"
     ]
    }
   ],
   "source": [
    "data.info()"
   ]
  },
  {
   "cell_type": "markdown",
   "id": "224cff50",
   "metadata": {
    "papermill": {
     "duration": 0.061776,
     "end_time": "2023-01-15T09:14:39.975381",
     "exception": false,
     "start_time": "2023-01-15T09:14:39.913605",
     "status": "completed"
    },
    "tags": []
   },
   "source": [
    "# Преобразуем текстовые признаки"
   ]
  },
  {
   "cell_type": "code",
   "execution_count": 13,
   "id": "907fda6a",
   "metadata": {
    "execution": {
     "iopub.execute_input": "2023-01-15T09:14:40.108159Z",
     "iopub.status.busy": "2023-01-15T09:14:40.101566Z",
     "iopub.status.idle": "2023-01-15T09:14:41.796104Z",
     "shell.execute_reply": "2023-01-15T09:14:41.795646Z",
     "shell.execute_reply.started": "2023-01-15T08:56:37.351455Z"
    },
    "papermill": {
     "duration": 1.758986,
     "end_time": "2023-01-15T09:14:41.796244",
     "exception": false,
     "start_time": "2023-01-15T09:14:40.037258",
     "status": "completed"
    },
    "tags": []
   },
   "outputs": [
    {
     "data": {
      "text/plain": [
       "United Kingdom    262301\n",
       "Spain              60149\n",
       "France             59928\n",
       "Netherlands        57214\n",
       "Austria            38939\n",
       "Italy              37207\n",
       "Name: country, dtype: int64"
      ]
     },
     "execution_count": 13,
     "metadata": {},
     "output_type": "execute_result"
    }
   ],
   "source": [
    "#выделим названия стран\n",
    "def get_countries(country):\n",
    "    adress_list = country.split(' ')\n",
    "    if adress_list[-1] == 'Kingdom':\n",
    "        countries = adress_list[-2]+' '+ adress_list[-1]\n",
    "    else: countries = adress_list[-1]\n",
    "    return countries\n",
    "\n",
    "data['country'] = data['hotel_address'].apply(get_countries)\n",
    "\n",
    " #Проверим все ли значения являются названиями стран.\n",
    "country_list = countries_guide['english'].to_list()\n",
    "data['country'] = data['country'].apply(lambda x: x if x in country_list else '')\n",
    "data['country'].value_counts()"
   ]
  },
  {
   "cell_type": "code",
   "execution_count": 14,
   "id": "1eb0f23f",
   "metadata": {
    "execution": {
     "iopub.execute_input": "2023-01-15T09:14:41.924950Z",
     "iopub.status.busy": "2023-01-15T09:14:41.924300Z",
     "iopub.status.idle": "2023-01-15T09:14:42.282821Z",
     "shell.execute_reply": "2023-01-15T09:14:42.283302Z",
     "shell.execute_reply.started": "2023-01-15T08:56:42.035554Z"
    },
    "papermill": {
     "duration": 0.425261,
     "end_time": "2023-01-15T09:14:42.283484",
     "exception": false,
     "start_time": "2023-01-15T09:14:41.858223",
     "status": "completed"
    },
    "tags": []
   },
   "outputs": [],
   "source": [
    "#Закодируем названия стран\n",
    "encoder = ce.OneHotEncoder(cols=['country']) # указываем столбец для кодирования\n",
    "type_bin = encoder.fit_transform(data['country'])\n",
    "data = pd.concat([data, type_bin], axis=1)"
   ]
  },
  {
   "cell_type": "code",
   "execution_count": 15,
   "id": "29146ac4",
   "metadata": {
    "execution": {
     "iopub.execute_input": "2023-01-15T09:14:42.410693Z",
     "iopub.status.busy": "2023-01-15T09:14:42.410003Z",
     "iopub.status.idle": "2023-01-15T09:14:42.414073Z",
     "shell.execute_reply": "2023-01-15T09:14:42.414595Z",
     "shell.execute_reply.started": "2023-01-15T08:56:44.288825Z"
    },
    "papermill": {
     "duration": 0.06887,
     "end_time": "2023-01-15T09:14:42.414765",
     "exception": false,
     "start_time": "2023-01-15T09:14:42.345895",
     "status": "completed"
    },
    "tags": []
   },
   "outputs": [],
   "source": [
    "#Добавим столбец в список для удаления\n",
    "data_drop = ['country']\n"
   ]
  },
  {
   "cell_type": "code",
   "execution_count": 16,
   "id": "e5bf7cb1",
   "metadata": {
    "execution": {
     "iopub.execute_input": "2023-01-15T09:14:42.544136Z",
     "iopub.status.busy": "2023-01-15T09:14:42.542018Z",
     "iopub.status.idle": "2023-01-15T09:14:42.916808Z",
     "shell.execute_reply": "2023-01-15T09:14:42.916311Z",
     "shell.execute_reply.started": "2023-01-15T08:56:46.505886Z"
    },
    "papermill": {
     "duration": 0.440156,
     "end_time": "2023-01-15T09:14:42.916950",
     "exception": false,
     "start_time": "2023-01-15T09:14:42.476794",
     "status": "completed"
    },
    "tags": []
   },
   "outputs": [
    {
     "data": {
      "text/plain": [
       "United       262301\n",
       "Barcelona     60149\n",
       "Paris         59928\n",
       "Amsterdam     57214\n",
       "Vienna        38939\n",
       "Milan         37207\n",
       "Name: city, dtype: int64"
      ]
     },
     "execution_count": 16,
     "metadata": {},
     "output_type": "execute_result"
    }
   ],
   "source": [
    "#выделим названия городов\n",
    "def get_cities(city):\n",
    "    adress_list = city.split(' ')\n",
    "    cities = adress_list[-2]\n",
    "    return cities\n",
    "data['city'] = data['hotel_address'].apply(get_cities)\n",
    "data['city'].value_counts()"
   ]
  },
  {
   "cell_type": "code",
   "execution_count": 17,
   "id": "1d01c743",
   "metadata": {
    "execution": {
     "iopub.execute_input": "2023-01-15T09:14:43.050379Z",
     "iopub.status.busy": "2023-01-15T09:14:43.048990Z",
     "iopub.status.idle": "2023-01-15T09:14:43.186631Z",
     "shell.execute_reply": "2023-01-15T09:14:43.187218Z",
     "shell.execute_reply.started": "2023-01-15T08:56:49.171558Z"
    },
    "papermill": {
     "duration": 0.207607,
     "end_time": "2023-01-15T09:14:43.187386",
     "exception": false,
     "start_time": "2023-01-15T09:14:42.979779",
     "status": "completed"
    },
    "tags": []
   },
   "outputs": [
    {
     "data": {
      "text/plain": [
       "London       262301\n",
       "Barcelona     60149\n",
       "Paris         59928\n",
       "Amsterdam     57214\n",
       "Vienna        38939\n",
       "Milan         37207\n",
       "Name: city, dtype: int64"
      ]
     },
     "execution_count": 17,
     "metadata": {},
     "output_type": "execute_result"
    }
   ],
   "source": [
    "# Исправим название Лондона\n",
    "data['city'] = data['city'].apply(lambda x: 'London' if x == 'United' else x)\n",
    "data['city'].value_counts()"
   ]
  },
  {
   "cell_type": "code",
   "execution_count": 18,
   "id": "e818a20c",
   "metadata": {
    "execution": {
     "iopub.execute_input": "2023-01-15T09:14:43.321025Z",
     "iopub.status.busy": "2023-01-15T09:14:43.320335Z",
     "iopub.status.idle": "2023-01-15T09:14:43.970732Z",
     "shell.execute_reply": "2023-01-15T09:14:43.971908Z",
     "shell.execute_reply.started": "2023-01-15T08:56:51.761488Z"
    },
    "papermill": {
     "duration": 0.717258,
     "end_time": "2023-01-15T09:14:43.972229",
     "exception": false,
     "start_time": "2023-01-15T09:14:43.254971",
     "status": "completed"
    },
    "tags": []
   },
   "outputs": [
    {
     "name": "stdout",
     "output_type": "stream",
     "text": [
      "<class 'pandas.core.frame.DataFrame'>\n",
      "RangeIndex: 515738 entries, 0 to 515737\n",
      "Data columns (total 32 columns):\n",
      " #   Column                                      Non-Null Count   Dtype  \n",
      "---  ------                                      --------------   -----  \n",
      " 0   hotel_address                               515738 non-null  object \n",
      " 1   additional_number_of_scoring                515738 non-null  int64  \n",
      " 2   review_date                                 515738 non-null  object \n",
      " 3   average_score                               515738 non-null  float64\n",
      " 4   hotel_name                                  515738 non-null  object \n",
      " 5   reviewer_nationality                        515738 non-null  object \n",
      " 6   negative_review                             515738 non-null  object \n",
      " 7   review_total_negative_word_counts           515738 non-null  int64  \n",
      " 8   total_number_of_reviews                     515738 non-null  int64  \n",
      " 9   positive_review                             515738 non-null  object \n",
      " 10  review_total_positive_word_counts           515738 non-null  int64  \n",
      " 11  total_number_of_reviews_reviewer_has_given  515738 non-null  int64  \n",
      " 12  tags                                        515738 non-null  object \n",
      " 13  days_since_review                           515738 non-null  object \n",
      " 14  lat                                         512470 non-null  float64\n",
      " 15  lng                                         512470 non-null  float64\n",
      " 16  sample                                      515738 non-null  int64  \n",
      " 17  reviewer_score                              515738 non-null  float64\n",
      " 18  country                                     515738 non-null  object \n",
      " 19  country_1                                   515738 non-null  int64  \n",
      " 20  country_2                                   515738 non-null  int64  \n",
      " 21  country_3                                   515738 non-null  int64  \n",
      " 22  country_4                                   515738 non-null  int64  \n",
      " 23  country_5                                   515738 non-null  int64  \n",
      " 24  country_6                                   515738 non-null  int64  \n",
      " 25  city                                        515738 non-null  object \n",
      " 26  city_1                                      515738 non-null  int64  \n",
      " 27  city_2                                      515738 non-null  int64  \n",
      " 28  city_3                                      515738 non-null  int64  \n",
      " 29  city_4                                      515738 non-null  int64  \n",
      " 30  city_5                                      515738 non-null  int64  \n",
      " 31  city_6                                      515738 non-null  int64  \n",
      "dtypes: float64(4), int64(18), object(10)\n",
      "memory usage: 125.9+ MB\n"
     ]
    }
   ],
   "source": [
    "#Закодируем названия городов\n",
    "encoder = ce.OneHotEncoder(cols=['city']) # указываем столбец для кодирования\n",
    "type_bin = encoder.fit_transform(data['city'])\n",
    "data = pd.concat([data, type_bin], axis=1)\n",
    "data.info()"
   ]
  },
  {
   "cell_type": "code",
   "execution_count": 19,
   "id": "7d16f676",
   "metadata": {
    "execution": {
     "iopub.execute_input": "2023-01-15T09:14:44.105149Z",
     "iopub.status.busy": "2023-01-15T09:14:44.104322Z",
     "iopub.status.idle": "2023-01-15T09:14:44.889032Z",
     "shell.execute_reply": "2023-01-15T09:14:44.888220Z",
     "shell.execute_reply.started": "2023-01-15T08:56:58.209290Z"
    },
    "papermill": {
     "duration": 0.854265,
     "end_time": "2023-01-15T09:14:44.889269",
     "exception": false,
     "start_time": "2023-01-15T09:14:44.035004",
     "status": "completed"
    },
    "tags": []
   },
   "outputs": [
    {
     "name": "stdout",
     "output_type": "stream",
     "text": [
      "<class 'pandas.core.frame.DataFrame'>\n",
      "RangeIndex: 515738 entries, 0 to 515737\n",
      "Data columns (total 32 columns):\n",
      " #   Column                                      Non-Null Count   Dtype  \n",
      "---  ------                                      --------------   -----  \n",
      " 0   hotel_address                               515738 non-null  object \n",
      " 1   additional_number_of_scoring                515738 non-null  int64  \n",
      " 2   review_date                                 515738 non-null  object \n",
      " 3   average_score                               515738 non-null  float64\n",
      " 4   hotel_name                                  515738 non-null  object \n",
      " 5   reviewer_nationality                        515738 non-null  object \n",
      " 6   negative_review                             515738 non-null  object \n",
      " 7   review_total_negative_word_counts           515738 non-null  int64  \n",
      " 8   total_number_of_reviews                     515738 non-null  int64  \n",
      " 9   positive_review                             515738 non-null  object \n",
      " 10  review_total_positive_word_counts           515738 non-null  int64  \n",
      " 11  total_number_of_reviews_reviewer_has_given  515738 non-null  int64  \n",
      " 12  tags                                        515738 non-null  object \n",
      " 13  days_since_review                           515738 non-null  object \n",
      " 14  lat                                         515738 non-null  float64\n",
      " 15  lng                                         515738 non-null  float64\n",
      " 16  sample                                      515738 non-null  int64  \n",
      " 17  reviewer_score                              515738 non-null  float64\n",
      " 18  country                                     515738 non-null  object \n",
      " 19  country_1                                   515738 non-null  int64  \n",
      " 20  country_2                                   515738 non-null  int64  \n",
      " 21  country_3                                   515738 non-null  int64  \n",
      " 22  country_4                                   515738 non-null  int64  \n",
      " 23  country_5                                   515738 non-null  int64  \n",
      " 24  country_6                                   515738 non-null  int64  \n",
      " 25  city                                        515738 non-null  object \n",
      " 26  city_1                                      515738 non-null  int64  \n",
      " 27  city_2                                      515738 non-null  int64  \n",
      " 28  city_3                                      515738 non-null  int64  \n",
      " 29  city_4                                      515738 non-null  int64  \n",
      " 30  city_5                                      515738 non-null  int64  \n",
      " 31  city_6                                      515738 non-null  int64  \n",
      "dtypes: float64(4), int64(18), object(10)\n",
      "memory usage: 125.9+ MB\n"
     ]
    }
   ],
   "source": [
    "# Заполним пропуски медианной соответствующему городу\n",
    "data_lat_lng = data.copy()\n",
    "City = data_lat_lng.groupby(['city'])\n",
    "City.lat.median()\n",
    "City.lng.median()\n",
    "data_lat_lng.lat = City.lat.apply(lambda x: x.fillna(x.median()))\n",
    "data_lat_lng.lng = City.lng.apply(lambda x: x.fillna(x.median()))\n",
    "data = data_lat_lng\n",
    "data.info()"
   ]
  },
  {
   "cell_type": "code",
   "execution_count": 20,
   "id": "d4fd4317",
   "metadata": {
    "execution": {
     "iopub.execute_input": "2023-01-15T09:14:45.018897Z",
     "iopub.status.busy": "2023-01-15T09:14:45.017729Z",
     "iopub.status.idle": "2023-01-15T09:14:45.021612Z",
     "shell.execute_reply": "2023-01-15T09:14:45.021102Z",
     "shell.execute_reply.started": "2023-01-15T08:57:04.244228Z"
    },
    "papermill": {
     "duration": 0.069862,
     "end_time": "2023-01-15T09:14:45.021745",
     "exception": false,
     "start_time": "2023-01-15T09:14:44.951883",
     "status": "completed"
    },
    "tags": []
   },
   "outputs": [],
   "source": [
    "#Добавим столбец с названием города в список для удаления\n",
    "data_drop.append('city')"
   ]
  },
  {
   "cell_type": "markdown",
   "id": "2c949317",
   "metadata": {
    "papermill": {
     "duration": 0.064183,
     "end_time": "2023-01-15T09:14:45.157044",
     "exception": false,
     "start_time": "2023-01-15T09:14:45.092861",
     "status": "completed"
    },
    "tags": []
   },
   "source": [
    "# Поскольку каждая страна предоставлена одним городом, посмотрим распределение оценок по странам"
   ]
  },
  {
   "cell_type": "code",
   "execution_count": 21,
   "id": "29729056",
   "metadata": {
    "execution": {
     "iopub.execute_input": "2023-01-15T09:14:45.296130Z",
     "iopub.status.busy": "2023-01-15T09:14:45.295196Z",
     "iopub.status.idle": "2023-01-15T09:14:47.331311Z",
     "shell.execute_reply": "2023-01-15T09:14:47.331760Z",
     "shell.execute_reply.started": "2023-01-15T08:57:06.724436Z"
    },
    "papermill": {
     "duration": 2.11149,
     "end_time": "2023-01-15T09:14:47.331921",
     "exception": false,
     "start_time": "2023-01-15T09:14:45.220431",
     "status": "completed"
    },
    "tags": []
   },
   "outputs": [
    {
     "data": {
      "image/png": "[encoded data removed]",
      "text/plain": [
       "<Figure size 720x360 with 1 Axes>"
      ]
     },
     "metadata": {
      "needs_background": "light"
     },
     "output_type": "display_data"
    },
    {
     "data": {
      "image/png": "[encoded data removed]",
      "text/plain": [
       "<Figure size 1440x720 with 6 Axes>"
      ]
     },
     "metadata": {
      "needs_background": "light"
     },
     "output_type": "display_data"
    }
   ],
   "source": [
    "fig, axes = plt.subplots(nrows=1, ncols=1, figsize=(10, 5))\n",
    "boxplot = sns.boxplot(\n",
    "    data = data[data['sample'] == 1],\n",
    "    y = 'country',\n",
    "    x = 'reviewer_score',\n",
    "    orient ='h',\n",
    "    width = 0.5,\n",
    "   )\n",
    "boxplot.set_title('Распределение оценок в зависимости от страны отеля', size = 20);\n",
    "boxplot.set_xlabel('Оценка');\n",
    "boxplot.set_ylabel('Страна');\n",
    "\n",
    "fig, axes = plt.subplots(nrows=2, ncols=3, figsize=(20, 10))\n",
    "\n",
    "# Для Великобритании\n",
    "histplot = sns.histplot(\n",
    "    data = data[data['country'] == 'United Kingdom'],\n",
    "    x = 'reviewer_score',\n",
    "    bins=10,   \n",
    "    ax=axes[0,0]   \n",
    ")\n",
    "histplot.set_title('United Kingdom');\n",
    "histplot.set_xlabel('Оценка');\n",
    "histplot.set_ylabel('Количество');\n",
    "\n",
    "# Для Франции\n",
    "histplot = sns.histplot(\n",
    "    data = data[data['country'] == 'France'],\n",
    "    x = 'reviewer_score',\n",
    "    bins=10,   \n",
    "    ax=axes[0,1]   \n",
    ")\n",
    "histplot.set_title('France');\n",
    "histplot.set_xlabel('Оценка');\n",
    "histplot.set_ylabel('Количество');\n",
    "\n",
    "# Для Голандии\n",
    "histplot = sns.histplot(\n",
    "    data = data[data['country'] == 'Netherlands'],\n",
    "    x = 'reviewer_score',\n",
    "    bins=10,   \n",
    "    ax=axes[0,2]   \n",
    ")\n",
    "histplot.set_title('Netherlands');\n",
    "histplot.set_xlabel('Оценка');\n",
    "histplot.set_ylabel('Количество');\n",
    "\n",
    "# Для Италии\n",
    "histplot = sns.histplot(\n",
    "    data = data[data['country'] == 'Italy'],\n",
    "    x = 'reviewer_score',\n",
    "    bins=10,   \n",
    "    ax=axes[1,0]   \n",
    ")\n",
    "histplot.set_title('Italy');\n",
    "histplot.set_xlabel('Оценка');\n",
    "histplot.set_ylabel('Количество');\n",
    "\n",
    "# Для Австрии\n",
    "histplot = sns.histplot(\n",
    "    data = data[data['country'] == 'Austria'],\n",
    "    x = 'reviewer_score',\n",
    "    bins=10,   \n",
    "    ax=axes[1,1]   \n",
    ")\n",
    "histplot.set_title('Austria');\n",
    "histplot.set_xlabel('Оценка');\n",
    "histplot.set_ylabel('Количество');\n",
    "\n",
    "# Для Испании\n",
    "histplot = sns.histplot(\n",
    "    data = data[data['country'] == 'Spain'],\n",
    "    x = 'reviewer_score',\n",
    "    bins=10,   \n",
    "    ax=axes[1,2]   \n",
    ")\n",
    "histplot.set_title('Spain');\n",
    "histplot.set_xlabel('Оценка');\n",
    "histplot.set_ylabel('Количество');"
   ]
  },
  {
   "cell_type": "markdown",
   "id": "0b353445",
   "metadata": {
    "papermill": {
     "duration": 0.065925,
     "end_time": "2023-01-15T09:14:47.463100",
     "exception": false,
     "start_time": "2023-01-15T09:14:47.397175",
     "status": "completed"
    },
    "tags": []
   },
   "source": [
    "Для всех стран наблюдается одинаковая картина: наибольшее количество оценок расположено в диапазоне от 8,5 до 9,5. При этом у Испании и Австрии медиана выше, чем у остальных стран. Большая доля туристов не оставили оценку, это может исказить итоговую оценку. Большая часть туристов поставили высший бал отелям."
   ]
  },
  {
   "cell_type": "markdown",
   "id": "a230ad5a",
   "metadata": {
    "papermill": {
     "duration": 0.06567,
     "end_time": "2023-01-15T09:14:47.593487",
     "exception": false,
     "start_time": "2023-01-15T09:14:47.527817",
     "status": "completed"
    },
    "tags": []
   },
   "source": [
    "# Определим растояние от отеля до центра города"
   ]
  },
  {
   "cell_type": "code",
   "execution_count": 22,
   "id": "001c3a66",
   "metadata": {
    "execution": {
     "iopub.execute_input": "2023-01-15T09:14:47.726790Z",
     "iopub.status.busy": "2023-01-15T09:14:47.726058Z",
     "iopub.status.idle": "2023-01-15T09:17:00.736403Z",
     "shell.execute_reply": "2023-01-15T09:17:00.736940Z",
     "shell.execute_reply.started": "2023-01-15T08:57:16.187622Z"
    },
    "papermill": {
     "duration": 133.078932,
     "end_time": "2023-01-15T09:17:00.737153",
     "exception": false,
     "start_time": "2023-01-15T09:14:47.658221",
     "status": "completed"
    },
    "tags": []
   },
   "outputs": [],
   "source": [
    "import geopy.distance\n",
    "\n",
    "# для формирования нового признака используются координаты центра каждого города \n",
    "\n",
    "centers = pd.DataFrame(\n",
    "    data = [\n",
    "        ['United Kingdom', 'London', 51.5085300, -0.1257400],\n",
    "        ['France', 'Paris', 48.8534100, 2.3488000],\n",
    "        ['Spain', 'Barcelona', 41.3887900, 2.1589900],\n",
    "        ['Italy', 'Milan', 45.4642700, 9.1895100],\n",
    "        ['Austria', 'Vienna', 48.2084900, 16.3720800],\n",
    "        ['Netherlands', 'Amsterdam', 52.3740300, 4.8896900],\n",
    "    ],\n",
    "    columns= ['country', 'city', 'center_lat', 'center_lng']\n",
    ").set_index('country')\n",
    "\n",
    "#функция вычисления до центра города по координатам\n",
    "def get_dist_to_center(country, lng, lat):\n",
    "   \n",
    "    center_lat = centers['center_lat'][country]\n",
    "    center_lng = centers['center_lng'][country]\n",
    "\n",
    "    return geopy.distance.geodesic([center_lng, center_lat], [lng, lat]).km\n",
    "\n",
    "data['hotel_distance_to_center'] = data.apply(\n",
    "    lambda row: get_dist_to_center(row['country'], row['lng'], row['lat']), axis=1)"
   ]
  },
  {
   "cell_type": "code",
   "execution_count": 23,
   "id": "47714d2b",
   "metadata": {
    "execution": {
     "iopub.execute_input": "2023-01-15T09:17:00.872507Z",
     "iopub.status.busy": "2023-01-15T09:17:00.870297Z",
     "iopub.status.idle": "2023-01-15T09:17:01.138641Z",
     "shell.execute_reply": "2023-01-15T09:17:01.139250Z",
     "shell.execute_reply.started": "2023-01-15T09:00:35.675589Z"
    },
    "papermill": {
     "duration": 0.336001,
     "end_time": "2023-01-15T09:17:01.139459",
     "exception": false,
     "start_time": "2023-01-15T09:17:00.803458",
     "status": "completed"
    },
    "tags": []
   },
   "outputs": [
    {
     "name": "stdout",
     "output_type": "stream",
     "text": [
      "<class 'pandas.core.frame.DataFrame'>\n",
      "RangeIndex: 515738 entries, 0 to 515737\n",
      "Data columns (total 33 columns):\n",
      " #   Column                                      Non-Null Count   Dtype  \n",
      "---  ------                                      --------------   -----  \n",
      " 0   hotel_address                               515738 non-null  object \n",
      " 1   additional_number_of_scoring                515738 non-null  int64  \n",
      " 2   review_date                                 515738 non-null  object \n",
      " 3   average_score                               515738 non-null  float64\n",
      " 4   hotel_name                                  515738 non-null  object \n",
      " 5   reviewer_nationality                        515738 non-null  object \n",
      " 6   negative_review                             515738 non-null  object \n",
      " 7   review_total_negative_word_counts           515738 non-null  int64  \n",
      " 8   total_number_of_reviews                     515738 non-null  int64  \n",
      " 9   positive_review                             515738 non-null  object \n",
      " 10  review_total_positive_word_counts           515738 non-null  int64  \n",
      " 11  total_number_of_reviews_reviewer_has_given  515738 non-null  int64  \n",
      " 12  tags                                        515738 non-null  object \n",
      " 13  days_since_review                           515738 non-null  object \n",
      " 14  lat                                         515738 non-null  float64\n",
      " 15  lng                                         515738 non-null  float64\n",
      " 16  sample                                      515738 non-null  int64  \n",
      " 17  reviewer_score                              515738 non-null  float64\n",
      " 18  country                                     515738 non-null  object \n",
      " 19  country_1                                   515738 non-null  int64  \n",
      " 20  country_2                                   515738 non-null  int64  \n",
      " 21  country_3                                   515738 non-null  int64  \n",
      " 22  country_4                                   515738 non-null  int64  \n",
      " 23  country_5                                   515738 non-null  int64  \n",
      " 24  country_6                                   515738 non-null  int64  \n",
      " 25  city                                        515738 non-null  object \n",
      " 26  city_1                                      515738 non-null  int64  \n",
      " 27  city_2                                      515738 non-null  int64  \n",
      " 28  city_3                                      515738 non-null  int64  \n",
      " 29  city_4                                      515738 non-null  int64  \n",
      " 30  city_5                                      515738 non-null  int64  \n",
      " 31  city_6                                      515738 non-null  int64  \n",
      " 32  hotel_distance_to_center                    515738 non-null  float64\n",
      "dtypes: float64(5), int64(18), object(10)\n",
      "memory usage: 129.8+ MB\n"
     ]
    }
   ],
   "source": [
    "data.info()"
   ]
  },
  {
   "cell_type": "code",
   "execution_count": 24,
   "id": "ae45a6f3",
   "metadata": {
    "execution": {
     "iopub.execute_input": "2023-01-15T09:17:01.275460Z",
     "iopub.status.busy": "2023-01-15T09:17:01.274657Z",
     "iopub.status.idle": "2023-01-15T09:17:01.280190Z",
     "shell.execute_reply": "2023-01-15T09:17:01.280634Z",
     "shell.execute_reply.started": "2023-01-15T09:00:40.510212Z"
    },
    "papermill": {
     "duration": 0.074866,
     "end_time": "2023-01-15T09:17:01.280793",
     "exception": false,
     "start_time": "2023-01-15T09:17:01.205927",
     "status": "completed"
    },
    "tags": []
   },
   "outputs": [],
   "source": [
    "# Округлим растояние до 1 знака после запятой\n",
    "data['hotel_distance_to_center_round'] = round(data['hotel_distance_to_center'],1)"
   ]
  },
  {
   "cell_type": "code",
   "execution_count": 25,
   "id": "b15ea89c",
   "metadata": {
    "execution": {
     "iopub.execute_input": "2023-01-15T09:17:01.418118Z",
     "iopub.status.busy": "2023-01-15T09:17:01.416877Z",
     "iopub.status.idle": "2023-01-15T09:17:01.421388Z",
     "shell.execute_reply": "2023-01-15T09:17:01.420719Z",
     "shell.execute_reply.started": "2023-01-15T09:00:42.834074Z"
    },
    "papermill": {
     "duration": 0.074412,
     "end_time": "2023-01-15T09:17:01.421529",
     "exception": false,
     "start_time": "2023-01-15T09:17:01.347117",
     "status": "completed"
    },
    "tags": []
   },
   "outputs": [],
   "source": [
    "# добавим столбец без округлния в список на удаление\n",
    "data_drop.append('hotel_distance_to_center')"
   ]
  },
  {
   "cell_type": "markdown",
   "id": "69d1f41b",
   "metadata": {
    "papermill": {
     "duration": 0.066497,
     "end_time": "2023-01-15T09:17:01.553821",
     "exception": false,
     "start_time": "2023-01-15T09:17:01.487324",
     "status": "completed"
    },
    "tags": []
   },
   "source": [
    "#  Посмотрим влияет ли растояние до отеля на оценку"
   ]
  },
  {
   "cell_type": "code",
   "execution_count": 26,
   "id": "6ceb0165",
   "metadata": {
    "execution": {
     "iopub.execute_input": "2023-01-15T09:17:01.694273Z",
     "iopub.status.busy": "2023-01-15T09:17:01.693488Z",
     "iopub.status.idle": "2023-01-15T09:17:07.034354Z",
     "shell.execute_reply": "2023-01-15T09:17:07.034725Z",
     "shell.execute_reply.started": "2023-01-15T09:00:45.252314Z"
    },
    "papermill": {
     "duration": 5.410195,
     "end_time": "2023-01-15T09:17:07.034872",
     "exception": false,
     "start_time": "2023-01-15T09:17:01.624677",
     "status": "completed"
    },
    "tags": []
   },
   "outputs": [
    {
     "data": {
      "image/png": "[encoded data removed]",
      "text/plain": [
       "<Figure size 1440x360 with 1 Axes>"
      ]
     },
     "metadata": {
      "needs_background": "light"
     },
     "output_type": "display_data"
    }
   ],
   "source": [
    "fig, axes = plt.subplots(nrows=1, ncols=1, figsize=(20, 5))\n",
    "\n",
    "barplot = sns.barplot(\n",
    "    data = data[data['sample'] == 1],\n",
    "    x = 'reviewer_score',\n",
    "    y = 'hotel_distance_to_center'\n",
    ")\n",
    "barplot.set_title('Распределение оцeнок в зависимости от расстояния от отеля', size = 20);\n",
    "barplot.set_xlabel('Оценка');\n",
    "barplot.set_ylabel('Растояние до центра');"
   ]
  },
  {
   "cell_type": "markdown",
   "id": "8e535e5a",
   "metadata": {
    "papermill": {
     "duration": 0.067996,
     "end_time": "2023-01-15T09:17:07.170011",
     "exception": false,
     "start_time": "2023-01-15T09:17:07.102015",
     "status": "completed"
    },
    "tags": []
   },
   "source": [
    "В графике можно заметить тенденцию, что оценка растет с уменьшением растояния до центра. Однако наблюдаются оценки не попадающие под тенденцию. Например оценка 3,1 соответствует растоянию 3 км. Что ближе к центру, чем с оценкой 10. "
   ]
  },
  {
   "cell_type": "markdown",
   "id": "26dffe37",
   "metadata": {
    "papermill": {
     "duration": 0.066877,
     "end_time": "2023-01-15T09:17:07.303695",
     "exception": false,
     "start_time": "2023-01-15T09:17:07.236818",
     "status": "completed"
    },
    "tags": []
   },
   "source": [
    "# Выделим из даты отзыва данные"
   ]
  },
  {
   "cell_type": "code",
   "execution_count": 27,
   "id": "44feadc0",
   "metadata": {
    "execution": {
     "iopub.execute_input": "2023-01-15T09:17:07.441225Z",
     "iopub.status.busy": "2023-01-15T09:17:07.440466Z",
     "iopub.status.idle": "2023-01-15T09:17:07.707940Z",
     "shell.execute_reply": "2023-01-15T09:17:07.708378Z",
     "shell.execute_reply.started": "2023-01-15T09:00:54.182672Z"
    },
    "papermill": {
     "duration": 0.337164,
     "end_time": "2023-01-15T09:17:07.708533",
     "exception": false,
     "start_time": "2023-01-15T09:17:07.371369",
     "status": "completed"
    },
    "tags": []
   },
   "outputs": [
    {
     "data": {
      "text/html": [
       "<div>\n",
       "<style scoped>\n",
       "    .dataframe tbody tr th:only-of-type {\n",
       "        vertical-align: middle;\n",
       "    }\n",
       "\n",
       "    .dataframe tbody tr th {\n",
       "        vertical-align: top;\n",
       "    }\n",
       "\n",
       "    .dataframe thead th {\n",
       "        text-align: right;\n",
       "    }\n",
       "</style>\n",
       "<table border=\"1\" class=\"dataframe\">\n",
       "  <thead>\n",
       "    <tr style=\"text-align: right;\">\n",
       "      <th></th>\n",
       "      <th>hotel_address</th>\n",
       "      <th>additional_number_of_scoring</th>\n",
       "      <th>review_date</th>\n",
       "      <th>average_score</th>\n",
       "      <th>hotel_name</th>\n",
       "      <th>reviewer_nationality</th>\n",
       "      <th>negative_review</th>\n",
       "      <th>review_total_negative_word_counts</th>\n",
       "      <th>total_number_of_reviews</th>\n",
       "      <th>positive_review</th>\n",
       "      <th>...</th>\n",
       "      <th>city_3</th>\n",
       "      <th>city_4</th>\n",
       "      <th>city_5</th>\n",
       "      <th>city_6</th>\n",
       "      <th>hotel_distance_to_center</th>\n",
       "      <th>hotel_distance_to_center_round</th>\n",
       "      <th>year of review</th>\n",
       "      <th>month of review</th>\n",
       "      <th>day of review</th>\n",
       "      <th>weekday of review</th>\n",
       "    </tr>\n",
       "  </thead>\n",
       "  <tbody>\n",
       "    <tr>\n",
       "      <th>0</th>\n",
       "      <td>Via Senigallia 6 20161 Milan Italy</td>\n",
       "      <td>904</td>\n",
       "      <td>2017-07-21</td>\n",
       "      <td>8.1</td>\n",
       "      <td>Hotel Da Vinci</td>\n",
       "      <td>United Kingdom</td>\n",
       "      <td>Would have appreciated a shop in the hotel th...</td>\n",
       "      <td>52</td>\n",
       "      <td>16670</td>\n",
       "      <td>Hotel was great clean friendly staff free bre...</td>\n",
       "      <td>...</td>\n",
       "      <td>0</td>\n",
       "      <td>0</td>\n",
       "      <td>0</td>\n",
       "      <td>0</td>\n",
       "      <td>7.837768</td>\n",
       "      <td>7.8</td>\n",
       "      <td>2017</td>\n",
       "      <td>7</td>\n",
       "      <td>21</td>\n",
       "      <td>4</td>\n",
       "    </tr>\n",
       "    <tr>\n",
       "      <th>1</th>\n",
       "      <td>Arlandaweg 10 Westpoort 1043 EW Amsterdam Neth...</td>\n",
       "      <td>612</td>\n",
       "      <td>2016-12-12</td>\n",
       "      <td>8.6</td>\n",
       "      <td>Urban Lodge Hotel</td>\n",
       "      <td>Belgium</td>\n",
       "      <td>No tissue paper box was present at the room</td>\n",
       "      <td>10</td>\n",
       "      <td>5018</td>\n",
       "      <td>No Positive</td>\n",
       "      <td>...</td>\n",
       "      <td>0</td>\n",
       "      <td>0</td>\n",
       "      <td>0</td>\n",
       "      <td>0</td>\n",
       "      <td>6.243807</td>\n",
       "      <td>6.2</td>\n",
       "      <td>2016</td>\n",
       "      <td>12</td>\n",
       "      <td>12</td>\n",
       "      <td>0</td>\n",
       "    </tr>\n",
       "    <tr>\n",
       "      <th>2</th>\n",
       "      <td>Mallorca 251 Eixample 08008 Barcelona Spain</td>\n",
       "      <td>46</td>\n",
       "      <td>2015-11-26</td>\n",
       "      <td>8.3</td>\n",
       "      <td>Alexandra Barcelona A DoubleTree by Hilton</td>\n",
       "      <td>Sweden</td>\n",
       "      <td>Pillows</td>\n",
       "      <td>3</td>\n",
       "      <td>351</td>\n",
       "      <td>Nice welcoming and service</td>\n",
       "      <td>...</td>\n",
       "      <td>1</td>\n",
       "      <td>0</td>\n",
       "      <td>0</td>\n",
       "      <td>0</td>\n",
       "      <td>0.563942</td>\n",
       "      <td>0.6</td>\n",
       "      <td>2015</td>\n",
       "      <td>11</td>\n",
       "      <td>26</td>\n",
       "      <td>3</td>\n",
       "    </tr>\n",
       "    <tr>\n",
       "      <th>3</th>\n",
       "      <td>Piazza Della Repubblica 17 Central Station 201...</td>\n",
       "      <td>241</td>\n",
       "      <td>2015-10-17</td>\n",
       "      <td>9.1</td>\n",
       "      <td>Hotel Principe Di Savoia</td>\n",
       "      <td>United States of America</td>\n",
       "      <td>No Negative</td>\n",
       "      <td>0</td>\n",
       "      <td>1543</td>\n",
       "      <td>Everything including the nice upgrade The Hot...</td>\n",
       "      <td>...</td>\n",
       "      <td>0</td>\n",
       "      <td>0</td>\n",
       "      <td>0</td>\n",
       "      <td>0</td>\n",
       "      <td>1.873428</td>\n",
       "      <td>1.9</td>\n",
       "      <td>2015</td>\n",
       "      <td>10</td>\n",
       "      <td>17</td>\n",
       "      <td>5</td>\n",
       "    </tr>\n",
       "    <tr>\n",
       "      <th>4</th>\n",
       "      <td>Singel 303 309 Amsterdam City Center 1012 WJ A...</td>\n",
       "      <td>834</td>\n",
       "      <td>2016-05-16</td>\n",
       "      <td>9.1</td>\n",
       "      <td>Hotel Esther a</td>\n",
       "      <td>United Kingdom</td>\n",
       "      <td>No Negative</td>\n",
       "      <td>0</td>\n",
       "      <td>4687</td>\n",
       "      <td>Lovely hotel v welcoming staff</td>\n",
       "      <td>...</td>\n",
       "      <td>0</td>\n",
       "      <td>0</td>\n",
       "      <td>0</td>\n",
       "      <td>0</td>\n",
       "      <td>0.403517</td>\n",
       "      <td>0.4</td>\n",
       "      <td>2016</td>\n",
       "      <td>5</td>\n",
       "      <td>16</td>\n",
       "      <td>0</td>\n",
       "    </tr>\n",
       "  </tbody>\n",
       "</table>\n",
       "<p>5 rows × 38 columns</p>\n",
       "</div>"
      ],
      "text/plain": [
       "                                       hotel_address  \\\n",
       "0                 Via Senigallia 6 20161 Milan Italy   \n",
       "1  Arlandaweg 10 Westpoort 1043 EW Amsterdam Neth...   \n",
       "2        Mallorca 251 Eixample 08008 Barcelona Spain   \n",
       "3  Piazza Della Repubblica 17 Central Station 201...   \n",
       "4  Singel 303 309 Amsterdam City Center 1012 WJ A...   \n",
       "\n",
       "   additional_number_of_scoring review_date  average_score  \\\n",
       "0                           904  2017-07-21            8.1   \n",
       "1                           612  2016-12-12            8.6   \n",
       "2                            46  2015-11-26            8.3   \n",
       "3                           241  2015-10-17            9.1   \n",
       "4                           834  2016-05-16            9.1   \n",
       "\n",
       "                                   hotel_name        reviewer_nationality  \\\n",
       "0                              Hotel Da Vinci             United Kingdom    \n",
       "1                           Urban Lodge Hotel                    Belgium    \n",
       "2  Alexandra Barcelona A DoubleTree by Hilton                     Sweden    \n",
       "3                    Hotel Principe Di Savoia   United States of America    \n",
       "4                              Hotel Esther a             United Kingdom    \n",
       "\n",
       "                                     negative_review  \\\n",
       "0   Would have appreciated a shop in the hotel th...   \n",
       "1        No tissue paper box was present at the room   \n",
       "2                                           Pillows    \n",
       "3                                        No Negative   \n",
       "4                                        No Negative   \n",
       "\n",
       "   review_total_negative_word_counts  total_number_of_reviews  \\\n",
       "0                                 52                    16670   \n",
       "1                                 10                     5018   \n",
       "2                                  3                      351   \n",
       "3                                  0                     1543   \n",
       "4                                  0                     4687   \n",
       "\n",
       "                                     positive_review  ...  city_3  city_4  \\\n",
       "0   Hotel was great clean friendly staff free bre...  ...       0       0   \n",
       "1                                        No Positive  ...       0       0   \n",
       "2                         Nice welcoming and service  ...       1       0   \n",
       "3   Everything including the nice upgrade The Hot...  ...       0       0   \n",
       "4                    Lovely hotel v welcoming staff   ...       0       0   \n",
       "\n",
       "  city_5 city_6  hotel_distance_to_center  hotel_distance_to_center_round  \\\n",
       "0      0      0                  7.837768                             7.8   \n",
       "1      0      0                  6.243807                             6.2   \n",
       "2      0      0                  0.563942                             0.6   \n",
       "3      0      0                  1.873428                             1.9   \n",
       "4      0      0                  0.403517                             0.4   \n",
       "\n",
       "   year of review  month of review day of review  weekday of review  \n",
       "0            2017                7            21                  4  \n",
       "1            2016               12            12                  0  \n",
       "2            2015               11            26                  3  \n",
       "3            2015               10            17                  5  \n",
       "4            2016                5            16                  0  \n",
       "\n",
       "[5 rows x 38 columns]"
      ]
     },
     "execution_count": 27,
     "metadata": {},
     "output_type": "execute_result"
    }
   ],
   "source": [
    "data['review_date']= pd.to_datetime(data['review_date'])\n",
    "data['year of review'] = data['review_date'].dt.year\n",
    "data['month of review'] = data['review_date'].dt.month\n",
    "data['day of review'] = data['review_date'].dt.day\n",
    "data['weekday of review'] = data['review_date'].dt.dayofweek\n",
    "data.head()"
   ]
  },
  {
   "cell_type": "code",
   "execution_count": 28,
   "id": "eed59054",
   "metadata": {
    "execution": {
     "iopub.execute_input": "2023-01-15T09:17:07.848501Z",
     "iopub.status.busy": "2023-01-15T09:17:07.847764Z",
     "iopub.status.idle": "2023-01-15T09:17:07.850543Z",
     "shell.execute_reply": "2023-01-15T09:17:07.850912Z",
     "shell.execute_reply.started": "2023-01-15T09:00:57.713371Z"
    },
    "papermill": {
     "duration": 0.072332,
     "end_time": "2023-01-15T09:17:07.851061",
     "exception": false,
     "start_time": "2023-01-15T09:17:07.778729",
     "status": "completed"
    },
    "tags": []
   },
   "outputs": [],
   "source": [
    "#Добавим колонку с датой в список для удаления\n",
    "data_drop.append('review_date')"
   ]
  },
  {
   "cell_type": "code",
   "execution_count": 29,
   "id": "4c2efb16",
   "metadata": {
    "execution": {
     "iopub.execute_input": "2023-01-15T09:17:07.991318Z",
     "iopub.status.busy": "2023-01-15T09:17:07.990550Z",
     "iopub.status.idle": "2023-01-15T09:17:09.320846Z",
     "shell.execute_reply": "2023-01-15T09:17:09.320277Z",
     "shell.execute_reply.started": "2023-01-15T09:01:01.078083Z"
    },
    "papermill": {
     "duration": 1.402235,
     "end_time": "2023-01-15T09:17:09.321002",
     "exception": false,
     "start_time": "2023-01-15T09:17:07.918767",
     "status": "completed"
    },
    "tags": []
   },
   "outputs": [],
   "source": [
    "# Также у нас есть признак days_since_review который можно перевести в числовой удалив слова day и days.\n",
    "# И сразу поменяем тип данных с int.\n",
    "data['days_since_review'] = data['days_since_review'].str.split().str[0]\n",
    "data['days_since_review'] = data['days_since_review'].astype('int')"
   ]
  },
  {
   "cell_type": "code",
   "execution_count": 30,
   "id": "8613045c",
   "metadata": {
    "execution": {
     "iopub.execute_input": "2023-01-15T09:17:09.472959Z",
     "iopub.status.busy": "2023-01-15T09:17:09.458398Z",
     "iopub.status.idle": "2023-01-15T09:17:09.482973Z",
     "shell.execute_reply": "2023-01-15T09:17:09.482405Z",
     "shell.execute_reply.started": "2023-01-15T09:01:05.545387Z"
    },
    "papermill": {
     "duration": 0.093997,
     "end_time": "2023-01-15T09:17:09.483124",
     "exception": false,
     "start_time": "2023-01-15T09:17:09.389127",
     "status": "completed"
    },
    "tags": []
   },
   "outputs": [
    {
     "data": {
      "text/html": [
       "<div>\n",
       "<style scoped>\n",
       "    .dataframe tbody tr th:only-of-type {\n",
       "        vertical-align: middle;\n",
       "    }\n",
       "\n",
       "    .dataframe tbody tr th {\n",
       "        vertical-align: top;\n",
       "    }\n",
       "\n",
       "    .dataframe thead th {\n",
       "        text-align: right;\n",
       "    }\n",
       "</style>\n",
       "<table border=\"1\" class=\"dataframe\">\n",
       "  <thead>\n",
       "    <tr style=\"text-align: right;\">\n",
       "      <th></th>\n",
       "      <th>hotel_address</th>\n",
       "      <th>additional_number_of_scoring</th>\n",
       "      <th>review_date</th>\n",
       "      <th>average_score</th>\n",
       "      <th>hotel_name</th>\n",
       "      <th>reviewer_nationality</th>\n",
       "      <th>negative_review</th>\n",
       "      <th>review_total_negative_word_counts</th>\n",
       "      <th>total_number_of_reviews</th>\n",
       "      <th>positive_review</th>\n",
       "      <th>...</th>\n",
       "      <th>city_3</th>\n",
       "      <th>city_4</th>\n",
       "      <th>city_5</th>\n",
       "      <th>city_6</th>\n",
       "      <th>hotel_distance_to_center</th>\n",
       "      <th>hotel_distance_to_center_round</th>\n",
       "      <th>year of review</th>\n",
       "      <th>month of review</th>\n",
       "      <th>day of review</th>\n",
       "      <th>weekday of review</th>\n",
       "    </tr>\n",
       "  </thead>\n",
       "  <tbody>\n",
       "    <tr>\n",
       "      <th>0</th>\n",
       "      <td>Via Senigallia 6 20161 Milan Italy</td>\n",
       "      <td>904</td>\n",
       "      <td>2017-07-21</td>\n",
       "      <td>8.1</td>\n",
       "      <td>Hotel Da Vinci</td>\n",
       "      <td>United Kingdom</td>\n",
       "      <td>Would have appreciated a shop in the hotel th...</td>\n",
       "      <td>52</td>\n",
       "      <td>16670</td>\n",
       "      <td>Hotel was great clean friendly staff free bre...</td>\n",
       "      <td>...</td>\n",
       "      <td>0</td>\n",
       "      <td>0</td>\n",
       "      <td>0</td>\n",
       "      <td>0</td>\n",
       "      <td>7.837768</td>\n",
       "      <td>7.8</td>\n",
       "      <td>2017</td>\n",
       "      <td>7</td>\n",
       "      <td>21</td>\n",
       "      <td>4</td>\n",
       "    </tr>\n",
       "    <tr>\n",
       "      <th>1</th>\n",
       "      <td>Arlandaweg 10 Westpoort 1043 EW Amsterdam Neth...</td>\n",
       "      <td>612</td>\n",
       "      <td>2016-12-12</td>\n",
       "      <td>8.6</td>\n",
       "      <td>Urban Lodge Hotel</td>\n",
       "      <td>Belgium</td>\n",
       "      <td>No tissue paper box was present at the room</td>\n",
       "      <td>10</td>\n",
       "      <td>5018</td>\n",
       "      <td>No Positive</td>\n",
       "      <td>...</td>\n",
       "      <td>0</td>\n",
       "      <td>0</td>\n",
       "      <td>0</td>\n",
       "      <td>0</td>\n",
       "      <td>6.243807</td>\n",
       "      <td>6.2</td>\n",
       "      <td>2016</td>\n",
       "      <td>12</td>\n",
       "      <td>12</td>\n",
       "      <td>0</td>\n",
       "    </tr>\n",
       "    <tr>\n",
       "      <th>2</th>\n",
       "      <td>Mallorca 251 Eixample 08008 Barcelona Spain</td>\n",
       "      <td>46</td>\n",
       "      <td>2015-11-26</td>\n",
       "      <td>8.3</td>\n",
       "      <td>Alexandra Barcelona A DoubleTree by Hilton</td>\n",
       "      <td>Sweden</td>\n",
       "      <td>Pillows</td>\n",
       "      <td>3</td>\n",
       "      <td>351</td>\n",
       "      <td>Nice welcoming and service</td>\n",
       "      <td>...</td>\n",
       "      <td>1</td>\n",
       "      <td>0</td>\n",
       "      <td>0</td>\n",
       "      <td>0</td>\n",
       "      <td>0.563942</td>\n",
       "      <td>0.6</td>\n",
       "      <td>2015</td>\n",
       "      <td>11</td>\n",
       "      <td>26</td>\n",
       "      <td>3</td>\n",
       "    </tr>\n",
       "    <tr>\n",
       "      <th>3</th>\n",
       "      <td>Piazza Della Repubblica 17 Central Station 201...</td>\n",
       "      <td>241</td>\n",
       "      <td>2015-10-17</td>\n",
       "      <td>9.1</td>\n",
       "      <td>Hotel Principe Di Savoia</td>\n",
       "      <td>United States of America</td>\n",
       "      <td>No Negative</td>\n",
       "      <td>0</td>\n",
       "      <td>1543</td>\n",
       "      <td>Everything including the nice upgrade The Hot...</td>\n",
       "      <td>...</td>\n",
       "      <td>0</td>\n",
       "      <td>0</td>\n",
       "      <td>0</td>\n",
       "      <td>0</td>\n",
       "      <td>1.873428</td>\n",
       "      <td>1.9</td>\n",
       "      <td>2015</td>\n",
       "      <td>10</td>\n",
       "      <td>17</td>\n",
       "      <td>5</td>\n",
       "    </tr>\n",
       "    <tr>\n",
       "      <th>4</th>\n",
       "      <td>Singel 303 309 Amsterdam City Center 1012 WJ A...</td>\n",
       "      <td>834</td>\n",
       "      <td>2016-05-16</td>\n",
       "      <td>9.1</td>\n",
       "      <td>Hotel Esther a</td>\n",
       "      <td>United Kingdom</td>\n",
       "      <td>No Negative</td>\n",
       "      <td>0</td>\n",
       "      <td>4687</td>\n",
       "      <td>Lovely hotel v welcoming staff</td>\n",
       "      <td>...</td>\n",
       "      <td>0</td>\n",
       "      <td>0</td>\n",
       "      <td>0</td>\n",
       "      <td>0</td>\n",
       "      <td>0.403517</td>\n",
       "      <td>0.4</td>\n",
       "      <td>2016</td>\n",
       "      <td>5</td>\n",
       "      <td>16</td>\n",
       "      <td>0</td>\n",
       "    </tr>\n",
       "  </tbody>\n",
       "</table>\n",
       "<p>5 rows × 38 columns</p>\n",
       "</div>"
      ],
      "text/plain": [
       "                                       hotel_address  \\\n",
       "0                 Via Senigallia 6 20161 Milan Italy   \n",
       "1  Arlandaweg 10 Westpoort 1043 EW Amsterdam Neth...   \n",
       "2        Mallorca 251 Eixample 08008 Barcelona Spain   \n",
       "3  Piazza Della Repubblica 17 Central Station 201...   \n",
       "4  Singel 303 309 Amsterdam City Center 1012 WJ A...   \n",
       "\n",
       "   additional_number_of_scoring review_date  average_score  \\\n",
       "0                           904  2017-07-21            8.1   \n",
       "1                           612  2016-12-12            8.6   \n",
       "2                            46  2015-11-26            8.3   \n",
       "3                           241  2015-10-17            9.1   \n",
       "4                           834  2016-05-16            9.1   \n",
       "\n",
       "                                   hotel_name        reviewer_nationality  \\\n",
       "0                              Hotel Da Vinci             United Kingdom    \n",
       "1                           Urban Lodge Hotel                    Belgium    \n",
       "2  Alexandra Barcelona A DoubleTree by Hilton                     Sweden    \n",
       "3                    Hotel Principe Di Savoia   United States of America    \n",
       "4                              Hotel Esther a             United Kingdom    \n",
       "\n",
       "                                     negative_review  \\\n",
       "0   Would have appreciated a shop in the hotel th...   \n",
       "1        No tissue paper box was present at the room   \n",
       "2                                           Pillows    \n",
       "3                                        No Negative   \n",
       "4                                        No Negative   \n",
       "\n",
       "   review_total_negative_word_counts  total_number_of_reviews  \\\n",
       "0                                 52                    16670   \n",
       "1                                 10                     5018   \n",
       "2                                  3                      351   \n",
       "3                                  0                     1543   \n",
       "4                                  0                     4687   \n",
       "\n",
       "                                     positive_review  ...  city_3  city_4  \\\n",
       "0   Hotel was great clean friendly staff free bre...  ...       0       0   \n",
       "1                                        No Positive  ...       0       0   \n",
       "2                         Nice welcoming and service  ...       1       0   \n",
       "3   Everything including the nice upgrade The Hot...  ...       0       0   \n",
       "4                    Lovely hotel v welcoming staff   ...       0       0   \n",
       "\n",
       "  city_5  city_6  hotel_distance_to_center  hotel_distance_to_center_round  \\\n",
       "0      0       0                  7.837768                             7.8   \n",
       "1      0       0                  6.243807                             6.2   \n",
       "2      0       0                  0.563942                             0.6   \n",
       "3      0       0                  1.873428                             1.9   \n",
       "4      0       0                  0.403517                             0.4   \n",
       "\n",
       "   year of review  month of review day of review  weekday of review  \n",
       "0            2017                7            21                  4  \n",
       "1            2016               12            12                  0  \n",
       "2            2015               11            26                  3  \n",
       "3            2015               10            17                  5  \n",
       "4            2016                5            16                  0  \n",
       "\n",
       "[5 rows x 38 columns]"
      ]
     },
     "execution_count": 30,
     "metadata": {},
     "output_type": "execute_result"
    }
   ],
   "source": [
    "data.head()"
   ]
  },
  {
   "cell_type": "markdown",
   "id": "50a600cd",
   "metadata": {
    "papermill": {
     "duration": 0.070251,
     "end_time": "2023-01-15T09:17:09.621469",
     "exception": false,
     "start_time": "2023-01-15T09:17:09.551218",
     "status": "completed"
    },
    "tags": []
   },
   "source": [
    "# Посмотрим зависит ли оценка от месяца и дня недели"
   ]
  },
  {
   "cell_type": "code",
   "execution_count": 31,
   "id": "71731a8c",
   "metadata": {
    "execution": {
     "iopub.execute_input": "2023-01-15T09:17:09.824643Z",
     "iopub.status.busy": "2023-01-15T09:17:09.817306Z",
     "iopub.status.idle": "2023-01-15T09:17:10.699884Z",
     "shell.execute_reply": "2023-01-15T09:17:10.699396Z",
     "shell.execute_reply.started": "2023-01-15T09:01:08.707175Z"
    },
    "papermill": {
     "duration": 1.010274,
     "end_time": "2023-01-15T09:17:10.700008",
     "exception": false,
     "start_time": "2023-01-15T09:17:09.689734",
     "status": "completed"
    },
    "tags": []
   },
   "outputs": [
    {
     "data": {
      "image/png": "[encoded data removed]",
      "text/plain": [
       "<Figure size 1440x360 with 2 Axes>"
      ]
     },
     "metadata": {
      "needs_background": "light"
     },
     "output_type": "display_data"
    }
   ],
   "source": [
    "fig, axes = plt.subplots(nrows=1, ncols=2, figsize=(20, 5))\n",
    "\n",
    "boxplot = sns.boxplot(\n",
    "    data = data[data['sample'] == 1],\n",
    "    y = 'month of review',\n",
    "    x = 'reviewer_score',\n",
    "    orient ='h',\n",
    "    width = 0.5,\n",
    "    ax=axes[0]\n",
    "   )\n",
    "boxplot.set_title('Распределение оценок в зависимости от месяца', size = 20);\n",
    "boxplot.set_xlabel('Оценка');\n",
    "boxplot.set_ylabel('Месяц');\n",
    "\n",
    "boxplot = sns.boxplot(\n",
    "    data = data[data['sample'] == 1],\n",
    "    y = 'weekday of review',\n",
    "    x = 'reviewer_score',\n",
    "    orient ='h',\n",
    "    width = 0.5,\n",
    "    ax=axes[1]\n",
    "   )\n",
    "\n",
    "boxplot.set_xlabel('Оценка');\n",
    "boxplot.set_ylabel('День недели');\n"
   ]
  },
  {
   "cell_type": "markdown",
   "id": "961bbd6d",
   "metadata": {
    "papermill": {
     "duration": 0.067424,
     "end_time": "2023-01-15T09:17:10.836097",
     "exception": false,
     "start_time": "2023-01-15T09:17:10.768673",
     "status": "completed"
    },
    "tags": []
   },
   "source": [
    "Из графиков видно, что сезон влияет на оценку. Хотя диапазон популярных оценок не меняется по месяцам. Медиана в январе и феврале выше, чем в остальных месяцах. День недели не оказал влияния на оценку."
   ]
  },
  {
   "cell_type": "markdown",
   "id": "90134a9b",
   "metadata": {
    "papermill": {
     "duration": 0.066998,
     "end_time": "2023-01-15T09:17:10.971024",
     "exception": false,
     "start_time": "2023-01-15T09:17:10.904026",
     "status": "completed"
    },
    "tags": []
   },
   "source": [
    "# Определим каки отели наиболее популярные"
   ]
  },
  {
   "cell_type": "code",
   "execution_count": 32,
   "id": "83197543",
   "metadata": {
    "execution": {
     "iopub.execute_input": "2023-01-15T09:17:11.149111Z",
     "iopub.status.busy": "2023-01-15T09:17:11.146433Z",
     "iopub.status.idle": "2023-01-15T09:17:11.154577Z",
     "shell.execute_reply": "2023-01-15T09:17:11.153960Z",
     "shell.execute_reply.started": "2023-01-15T09:01:14.224697Z"
    },
    "papermill": {
     "duration": 0.115253,
     "end_time": "2023-01-15T09:17:11.154721",
     "exception": false,
     "start_time": "2023-01-15T09:17:11.039468",
     "status": "completed"
    },
    "tags": []
   },
   "outputs": [
    {
     "data": {
      "text/plain": [
       "Britannia International Hotel Canary Wharf           0.009286\n",
       "Strand Palace Hotel                                  0.008252\n",
       "Park Plaza Westminster Bridge London                 0.008084\n",
       "Copthorne Tara Hotel London Kensington               0.006938\n",
       "DoubleTree by Hilton Hotel London Tower of London    0.006228\n",
       "                                                       ...   \n",
       "Hotel Eitlj rg                                       0.000023\n",
       "Hotel Daniel Paris                                   0.000023\n",
       "Mercure Paris Porte d Orleans                        0.000019\n",
       "Hotel Wagner                                         0.000019\n",
       "Hotel Gallitzinberg                                  0.000016\n",
       "Name: hotel_name, Length: 1492, dtype: float64"
      ]
     },
     "execution_count": 32,
     "metadata": {},
     "output_type": "execute_result"
    }
   ],
   "source": [
    "data['hotel_name'].value_counts(normalize = True)"
   ]
  },
  {
   "cell_type": "code",
   "execution_count": 33,
   "id": "f5f82869",
   "metadata": {
    "execution": {
     "iopub.execute_input": "2023-01-15T09:17:11.308398Z",
     "iopub.status.busy": "2023-01-15T09:17:11.307671Z",
     "iopub.status.idle": "2023-01-15T09:17:13.072044Z",
     "shell.execute_reply": "2023-01-15T09:17:13.072527Z",
     "shell.execute_reply.started": "2023-01-15T09:01:17.470957Z"
    },
    "papermill": {
     "duration": 1.848762,
     "end_time": "2023-01-15T09:17:13.072676",
     "exception": false,
     "start_time": "2023-01-15T09:17:11.223914",
     "status": "completed"
    },
    "tags": []
   },
   "outputs": [
    {
     "data": {
      "image/png": "[encoded data removed]",
      "text/plain": [
       "<Figure size 2160x288 with 1 Axes>"
      ]
     },
     "metadata": {
      "needs_background": "light"
     },
     "output_type": "display_data"
    }
   ],
   "source": [
    "grouped_hotels = data.groupby(['hotel_name'])['hotel_name'].count()\n",
    "grouped_hotels = grouped_hotels.nlargest(100) #Выведем информацию о 100 чаще встречающихся отелях\n",
    "grouped_hotels.plot(\n",
    "    grid=True,\n",
    "    kind='bar',\n",
    "    figsize=(30, 4),\n",
    "    title='Упоминания об отеле в датасэте'\n",
    ");"
   ]
  },
  {
   "cell_type": "code",
   "execution_count": 34,
   "id": "a6b8ce93",
   "metadata": {
    "execution": {
     "iopub.execute_input": "2023-01-15T09:17:13.220685Z",
     "iopub.status.busy": "2023-01-15T09:17:13.219980Z",
     "iopub.status.idle": "2023-01-15T09:17:13.253565Z",
     "shell.execute_reply": "2023-01-15T09:17:13.254025Z",
     "shell.execute_reply.started": "2023-01-15T09:01:24.347864Z"
    },
    "papermill": {
     "duration": 0.109566,
     "end_time": "2023-01-15T09:17:13.254203",
     "exception": false,
     "start_time": "2023-01-15T09:17:13.144637",
     "status": "completed"
    },
    "tags": []
   },
   "outputs": [
    {
     "data": {
      "text/plain": [
       " United Kingdom               245246\n",
       " United States of America      35437\n",
       " Australia                     21686\n",
       " Ireland                       14827\n",
       " United Arab Emirates          10235\n",
       "                               ...  \n",
       " Comoros                           1\n",
       " Anguilla                          1\n",
       " Tuvalu                            1\n",
       " Cape Verde                        1\n",
       " Palau                             1\n",
       "Name: reviewer_nationality, Length: 227, dtype: int64"
      ]
     },
     "execution_count": 34,
     "metadata": {},
     "output_type": "execute_result"
    }
   ],
   "source": [
    "#Определим из каких стран туристы оставляли отзывы\n",
    "data['reviewer_nationality'].value_counts()"
   ]
  },
  {
   "cell_type": "code",
   "execution_count": 35,
   "id": "d71fb141",
   "metadata": {
    "execution": {
     "iopub.execute_input": "2023-01-15T09:17:13.405824Z",
     "iopub.status.busy": "2023-01-15T09:17:13.405210Z",
     "iopub.status.idle": "2023-01-15T09:17:13.408466Z",
     "shell.execute_reply": "2023-01-15T09:17:13.408991Z",
     "shell.execute_reply.started": "2023-01-15T09:01:26.872470Z"
    },
    "papermill": {
     "duration": 0.079947,
     "end_time": "2023-01-15T09:17:13.409218",
     "exception": false,
     "start_time": "2023-01-15T09:17:13.329271",
     "status": "completed"
    },
    "tags": []
   },
   "outputs": [],
   "source": [
    "#Всего в датасете отзывы от туристов из 227 стран"
   ]
  },
  {
   "cell_type": "code",
   "execution_count": 36,
   "id": "808c58e5",
   "metadata": {
    "execution": {
     "iopub.execute_input": "2023-01-15T09:17:13.557206Z",
     "iopub.status.busy": "2023-01-15T09:17:13.556558Z",
     "iopub.status.idle": "2023-01-15T09:17:14.122295Z",
     "shell.execute_reply": "2023-01-15T09:17:14.122794Z",
     "shell.execute_reply.started": "2023-01-15T09:01:28.581264Z"
    },
    "papermill": {
     "duration": 0.641616,
     "end_time": "2023-01-15T09:17:14.122969",
     "exception": false,
     "start_time": "2023-01-15T09:17:13.481353",
     "status": "completed"
    },
    "tags": []
   },
   "outputs": [],
   "source": [
    "# Закодируем признак reviewer_nationality\n",
    "bin_encoder = ce.BinaryEncoder(cols=['reviewer_nationality']) # указываем столбец для кодирования\n",
    "type_bin = bin_encoder.fit_transform(data['reviewer_nationality'])\n",
    "data = pd.concat([data, type_bin], axis=1)\n",
    "data.drop(['reviewer_nationality'],axis=1,inplace=True)"
   ]
  },
  {
   "cell_type": "markdown",
   "id": "33936798",
   "metadata": {
    "papermill": {
     "duration": 0.071761,
     "end_time": "2023-01-15T09:17:14.268177",
     "exception": false,
     "start_time": "2023-01-15T09:17:14.196416",
     "status": "completed"
    },
    "tags": []
   },
   "source": [
    "# Поработаем с тегами"
   ]
  },
  {
   "cell_type": "code",
   "execution_count": 37,
   "id": "3606f156",
   "metadata": {
    "execution": {
     "iopub.execute_input": "2023-01-15T09:17:14.416186Z",
     "iopub.status.busy": "2023-01-15T09:17:14.415638Z",
     "iopub.status.idle": "2023-01-15T09:17:14.524979Z",
     "shell.execute_reply": "2023-01-15T09:17:14.525520Z",
     "shell.execute_reply.started": "2023-01-15T09:01:31.874085Z"
    },
    "papermill": {
     "duration": 0.185355,
     "end_time": "2023-01-15T09:17:14.525681",
     "exception": false,
     "start_time": "2023-01-15T09:17:14.340326",
     "status": "completed"
    },
    "tags": []
   },
   "outputs": [
    {
     "data": {
      "text/plain": [
       "[' Leisure trip ', ' Couple ', ' Double Room ', ' Stayed 1 night ', ' Submitted from a mobile device ']                                                   5101\n",
       "[' Leisure trip ', ' Couple ', ' Standard Double Room ', ' Stayed 1 night ', ' Submitted from a mobile device ']                                          4931\n",
       "[' Leisure trip ', ' Couple ', ' Superior Double Room ', ' Stayed 1 night ', ' Submitted from a mobile device ']                                          4366\n",
       "[' Leisure trip ', ' Couple ', ' Deluxe Double Room ', ' Stayed 1 night ', ' Submitted from a mobile device ']                                            3991\n",
       "[' Leisure trip ', ' Couple ', ' Double Room ', ' Stayed 2 nights ', ' Submitted from a mobile device ']                                                  3291\n",
       "                                                                                                                                                          ... \n",
       "[' Leisure trip ', ' Couple ', ' Superior Queen Room 2 adults ', ' Stayed 4 nights ']                                                                        1\n",
       "[' Leisure trip ', ' Solo traveler ', ' Small Double Room Annex building ', ' Stayed 3 nights ']                                                             1\n",
       "[' With a pet ', ' Business trip ', ' Family with older children ', ' Superior Double Room ', ' Stayed 4 nights ', ' Submitted from a mobile device ']       1\n",
       "[' Leisure trip ', ' Family with young children ', ' Two Connecting Superior Double Rooms ', ' Stayed 4 nights ']                                            1\n",
       "[' Leisure trip ', ' Couple ', ' Bunk Bed Room ', ' Stayed 4 nights ']                                                                                       1\n",
       "Name: tags, Length: 55242, dtype: int64"
      ]
     },
     "execution_count": 37,
     "metadata": {},
     "output_type": "execute_result"
    }
   ],
   "source": [
    "data['tags'].value_counts()"
   ]
  },
  {
   "cell_type": "code",
   "execution_count": 38,
   "id": "1c2b67d5",
   "metadata": {
    "execution": {
     "iopub.execute_input": "2023-01-15T09:17:14.674971Z",
     "iopub.status.busy": "2023-01-15T09:17:14.674445Z",
     "iopub.status.idle": "2023-01-15T09:17:16.531703Z",
     "shell.execute_reply": "2023-01-15T09:17:16.532290Z",
     "shell.execute_reply.started": "2023-01-15T09:01:35.099292Z"
    },
    "papermill": {
     "duration": 1.933213,
     "end_time": "2023-01-15T09:17:16.532491",
     "exception": false,
     "start_time": "2023-01-15T09:17:14.599278",
     "status": "completed"
    },
    "tags": []
   },
   "outputs": [
    {
     "data": {
      "text/html": [
       "<div>\n",
       "<style scoped>\n",
       "    .dataframe tbody tr th:only-of-type {\n",
       "        vertical-align: middle;\n",
       "    }\n",
       "\n",
       "    .dataframe tbody tr th {\n",
       "        vertical-align: top;\n",
       "    }\n",
       "\n",
       "    .dataframe thead th {\n",
       "        text-align: right;\n",
       "    }\n",
       "</style>\n",
       "<table border=\"1\" class=\"dataframe\">\n",
       "  <thead>\n",
       "    <tr style=\"text-align: right;\">\n",
       "      <th></th>\n",
       "      <th>hotel_address</th>\n",
       "      <th>additional_number_of_scoring</th>\n",
       "      <th>review_date</th>\n",
       "      <th>average_score</th>\n",
       "      <th>hotel_name</th>\n",
       "      <th>negative_review</th>\n",
       "      <th>review_total_negative_word_counts</th>\n",
       "      <th>total_number_of_reviews</th>\n",
       "      <th>positive_review</th>\n",
       "      <th>review_total_positive_word_counts</th>\n",
       "      <th>...</th>\n",
       "      <th>weekday of review</th>\n",
       "      <th>reviewer_nationality_0</th>\n",
       "      <th>reviewer_nationality_1</th>\n",
       "      <th>reviewer_nationality_2</th>\n",
       "      <th>reviewer_nationality_3</th>\n",
       "      <th>reviewer_nationality_4</th>\n",
       "      <th>reviewer_nationality_5</th>\n",
       "      <th>reviewer_nationality_6</th>\n",
       "      <th>reviewer_nationality_7</th>\n",
       "      <th>nights</th>\n",
       "    </tr>\n",
       "  </thead>\n",
       "  <tbody>\n",
       "    <tr>\n",
       "      <th>0</th>\n",
       "      <td>Via Senigallia 6 20161 Milan Italy</td>\n",
       "      <td>904</td>\n",
       "      <td>2017-07-21</td>\n",
       "      <td>8.1</td>\n",
       "      <td>Hotel Da Vinci</td>\n",
       "      <td>Would have appreciated a shop in the hotel th...</td>\n",
       "      <td>52</td>\n",
       "      <td>16670</td>\n",
       "      <td>Hotel was great clean friendly staff free bre...</td>\n",
       "      <td>62</td>\n",
       "      <td>...</td>\n",
       "      <td>4</td>\n",
       "      <td>0</td>\n",
       "      <td>0</td>\n",
       "      <td>0</td>\n",
       "      <td>0</td>\n",
       "      <td>0</td>\n",
       "      <td>0</td>\n",
       "      <td>0</td>\n",
       "      <td>1</td>\n",
       "      <td>2</td>\n",
       "    </tr>\n",
       "    <tr>\n",
       "      <th>1</th>\n",
       "      <td>Arlandaweg 10 Westpoort 1043 EW Amsterdam Neth...</td>\n",
       "      <td>612</td>\n",
       "      <td>2016-12-12</td>\n",
       "      <td>8.6</td>\n",
       "      <td>Urban Lodge Hotel</td>\n",
       "      <td>No tissue paper box was present at the room</td>\n",
       "      <td>10</td>\n",
       "      <td>5018</td>\n",
       "      <td>No Positive</td>\n",
       "      <td>0</td>\n",
       "      <td>...</td>\n",
       "      <td>0</td>\n",
       "      <td>0</td>\n",
       "      <td>0</td>\n",
       "      <td>0</td>\n",
       "      <td>0</td>\n",
       "      <td>0</td>\n",
       "      <td>0</td>\n",
       "      <td>1</td>\n",
       "      <td>0</td>\n",
       "      <td>1</td>\n",
       "    </tr>\n",
       "  </tbody>\n",
       "</table>\n",
       "<p>2 rows × 46 columns</p>\n",
       "</div>"
      ],
      "text/plain": [
       "                                       hotel_address  \\\n",
       "0                 Via Senigallia 6 20161 Milan Italy   \n",
       "1  Arlandaweg 10 Westpoort 1043 EW Amsterdam Neth...   \n",
       "\n",
       "   additional_number_of_scoring review_date  average_score         hotel_name  \\\n",
       "0                           904  2017-07-21            8.1     Hotel Da Vinci   \n",
       "1                           612  2016-12-12            8.6  Urban Lodge Hotel   \n",
       "\n",
       "                                     negative_review  \\\n",
       "0   Would have appreciated a shop in the hotel th...   \n",
       "1        No tissue paper box was present at the room   \n",
       "\n",
       "   review_total_negative_word_counts  total_number_of_reviews  \\\n",
       "0                                 52                    16670   \n",
       "1                                 10                     5018   \n",
       "\n",
       "                                     positive_review  \\\n",
       "0   Hotel was great clean friendly staff free bre...   \n",
       "1                                        No Positive   \n",
       "\n",
       "   review_total_positive_word_counts  ...  weekday of review  \\\n",
       "0                                 62  ...                  4   \n",
       "1                                  0  ...                  0   \n",
       "\n",
       "  reviewer_nationality_0  reviewer_nationality_1  reviewer_nationality_2  \\\n",
       "0                      0                       0                       0   \n",
       "1                      0                       0                       0   \n",
       "\n",
       "   reviewer_nationality_3  reviewer_nationality_4  reviewer_nationality_5  \\\n",
       "0                       0                       0                       0   \n",
       "1                       0                       0                       0   \n",
       "\n",
       "  reviewer_nationality_6  reviewer_nationality_7  nights  \n",
       "0                      0                       1       2  \n",
       "1                      1                       0       1  \n",
       "\n",
       "[2 rows x 46 columns]"
      ]
     },
     "execution_count": 38,
     "metadata": {},
     "output_type": "execute_result"
    }
   ],
   "source": [
    "#Из тегов выясним, на сколько ночей останавливаются путешественники в отелях.\n",
    "def get_nights(tags):\n",
    "    tags_list2 = tags.split(' ')\n",
    "    night_list = ['nights','night']\n",
    "    nights = 0\n",
    "    for i in range(len(tags_list2)):\n",
    "        if tags_list2[i] in night_list:\n",
    "            nights = tags_list2[i-1]\n",
    "    return int(nights)\n",
    "\n",
    "data['nights'] = data['tags'].apply(get_nights)\n",
    "data.head(2)"
   ]
  },
  {
   "cell_type": "markdown",
   "id": "7d3914ab",
   "metadata": {
    "papermill": {
     "duration": 0.073789,
     "end_time": "2023-01-15T09:17:16.679635",
     "exception": false,
     "start_time": "2023-01-15T09:17:16.605846",
     "status": "completed"
    },
    "tags": []
   },
   "source": [
    "# Посмотрим зависит ли оценка от количества ночей"
   ]
  },
  {
   "cell_type": "code",
   "execution_count": 39,
   "id": "9c2e64f7",
   "metadata": {
    "execution": {
     "iopub.execute_input": "2023-01-15T09:17:16.835800Z",
     "iopub.status.busy": "2023-01-15T09:17:16.835167Z",
     "iopub.status.idle": "2023-01-15T09:17:17.683415Z",
     "shell.execute_reply": "2023-01-15T09:17:17.682812Z"
    },
    "papermill": {
     "duration": 0.929458,
     "end_time": "2023-01-15T09:17:17.683549",
     "exception": false,
     "start_time": "2023-01-15T09:17:16.754091",
     "status": "completed"
    },
    "tags": []
   },
   "outputs": [
    {
     "data": {
      "image/png": "[encoded data removed]",
      "text/plain": [
       "<Figure size 720x1440 with 1 Axes>"
      ]
     },
     "metadata": {
      "needs_background": "light"
     },
     "output_type": "display_data"
    }
   ],
   "source": [
    "fig, axes = plt.subplots(nrows=1, ncols=1, figsize=(10, 20))\n",
    "\n",
    "boxplot = sns.boxplot(\n",
    "    data = data[data['sample'] == 1],\n",
    "    y = 'nights',\n",
    "    x = 'reviewer_score',\n",
    "    orient ='h',\n",
    "    width = 0.5\n",
    ")\n",
    "boxplot.set_title('Распределение оценок в зависимости от количества ночей', size = 20);\n",
    "boxplot.set_xlabel('Оценка');\n",
    "boxplot.set_ylabel('Количество ночей');"
   ]
  },
  {
   "cell_type": "markdown",
   "id": "d22f8cdf",
   "metadata": {
    "papermill": {
     "duration": 0.076897,
     "end_time": "2023-01-15T09:17:17.835424",
     "exception": false,
     "start_time": "2023-01-15T09:17:17.758527",
     "status": "completed"
    },
    "tags": []
   },
   "source": [
    "До 8 ночей оценки идентичные. Чем больше ночей, тем больше разброс в оценках, что может быть вызвано малым количеством наблюдений."
   ]
  },
  {
   "cell_type": "code",
   "execution_count": 40,
   "id": "d43bf2a9",
   "metadata": {
    "execution": {
     "iopub.execute_input": "2023-01-15T09:17:17.990770Z",
     "iopub.status.busy": "2023-01-15T09:17:17.990192Z",
     "iopub.status.idle": "2023-01-15T09:17:19.601257Z",
     "shell.execute_reply": "2023-01-15T09:17:19.600760Z",
     "shell.execute_reply.started": "2023-01-15T09:01:45.065267Z"
    },
    "papermill": {
     "duration": 1.688706,
     "end_time": "2023-01-15T09:17:19.601391",
     "exception": false,
     "start_time": "2023-01-15T09:17:17.912685",
     "status": "completed"
    },
    "tags": []
   },
   "outputs": [
    {
     "data": {
      "text/plain": [
       "Leisure     417778\n",
       "Business     82939\n",
       "0            15021\n",
       "Name: reason_of_trip, dtype: int64"
      ]
     },
     "execution_count": 40,
     "metadata": {},
     "output_type": "execute_result"
    }
   ],
   "source": [
    "#Из тегов выясним, причину путешествия.\n",
    "def get_reason_of_trip(tags):\n",
    "    tags_list2 = tags.split(' ')\n",
    "    reason_list = ['trip']\n",
    "    reason_of_trip = 0\n",
    "    for i in range(len(tags_list2)):\n",
    "        if tags_list2[i] in reason_list:\n",
    "            reason_of_trip = tags_list2[i-1]\n",
    "    return reason_of_trip\n",
    "\n",
    "data['reason_of_trip'] = data['tags'].apply(get_reason_of_trip)\n",
    "data['reason_of_trip'].value_counts()"
   ]
  },
  {
   "cell_type": "code",
   "execution_count": 41,
   "id": "0eb0621c",
   "metadata": {
    "execution": {
     "iopub.execute_input": "2023-01-15T09:17:19.757819Z",
     "iopub.status.busy": "2023-01-15T09:17:19.757122Z",
     "iopub.status.idle": "2023-01-15T09:17:20.363665Z",
     "shell.execute_reply": "2023-01-15T09:17:20.362515Z",
     "shell.execute_reply.started": "2023-01-15T09:01:49.762147Z"
    },
    "papermill": {
     "duration": 0.686143,
     "end_time": "2023-01-15T09:17:20.363836",
     "exception": false,
     "start_time": "2023-01-15T09:17:19.677693",
     "status": "completed"
    },
    "tags": []
   },
   "outputs": [
    {
     "name": "stdout",
     "output_type": "stream",
     "text": [
      "<class 'pandas.core.frame.DataFrame'>\n",
      "RangeIndex: 515738 entries, 0 to 515737\n",
      "Data columns (total 50 columns):\n",
      " #   Column                                      Non-Null Count   Dtype         \n",
      "---  ------                                      --------------   -----         \n",
      " 0   hotel_address                               515738 non-null  object        \n",
      " 1   additional_number_of_scoring                515738 non-null  int64         \n",
      " 2   review_date                                 515738 non-null  datetime64[ns]\n",
      " 3   average_score                               515738 non-null  float64       \n",
      " 4   hotel_name                                  515738 non-null  object        \n",
      " 5   negative_review                             515738 non-null  object        \n",
      " 6   review_total_negative_word_counts           515738 non-null  int64         \n",
      " 7   total_number_of_reviews                     515738 non-null  int64         \n",
      " 8   positive_review                             515738 non-null  object        \n",
      " 9   review_total_positive_word_counts           515738 non-null  int64         \n",
      " 10  total_number_of_reviews_reviewer_has_given  515738 non-null  int64         \n",
      " 11  tags                                        515738 non-null  object        \n",
      " 12  days_since_review                           515738 non-null  int64         \n",
      " 13  lat                                         515738 non-null  float64       \n",
      " 14  lng                                         515738 non-null  float64       \n",
      " 15  sample                                      515738 non-null  int64         \n",
      " 16  reviewer_score                              515738 non-null  float64       \n",
      " 17  country                                     515738 non-null  object        \n",
      " 18  country_1                                   515738 non-null  int64         \n",
      " 19  country_2                                   515738 non-null  int64         \n",
      " 20  country_3                                   515738 non-null  int64         \n",
      " 21  country_4                                   515738 non-null  int64         \n",
      " 22  country_5                                   515738 non-null  int64         \n",
      " 23  country_6                                   515738 non-null  int64         \n",
      " 24  city                                        515738 non-null  object        \n",
      " 25  city_1                                      515738 non-null  int64         \n",
      " 26  city_2                                      515738 non-null  int64         \n",
      " 27  city_3                                      515738 non-null  int64         \n",
      " 28  city_4                                      515738 non-null  int64         \n",
      " 29  city_5                                      515738 non-null  int64         \n",
      " 30  city_6                                      515738 non-null  int64         \n",
      " 31  hotel_distance_to_center                    515738 non-null  float64       \n",
      " 32  hotel_distance_to_center_round              515738 non-null  float64       \n",
      " 33  year of review                              515738 non-null  int64         \n",
      " 34  month of review                             515738 non-null  int64         \n",
      " 35  day of review                               515738 non-null  int64         \n",
      " 36  weekday of review                           515738 non-null  int64         \n",
      " 37  reviewer_nationality_0                      515738 non-null  int64         \n",
      " 38  reviewer_nationality_1                      515738 non-null  int64         \n",
      " 39  reviewer_nationality_2                      515738 non-null  int64         \n",
      " 40  reviewer_nationality_3                      515738 non-null  int64         \n",
      " 41  reviewer_nationality_4                      515738 non-null  int64         \n",
      " 42  reviewer_nationality_5                      515738 non-null  int64         \n",
      " 43  reviewer_nationality_6                      515738 non-null  int64         \n",
      " 44  reviewer_nationality_7                      515738 non-null  int64         \n",
      " 45  nights                                      515738 non-null  int64         \n",
      " 46  reason_of_trip                              515738 non-null  object        \n",
      " 47  reason_of_trip_1                            515738 non-null  int64         \n",
      " 48  reason_of_trip_2                            515738 non-null  int64         \n",
      " 49  reason_of_trip_3                            515738 non-null  int64         \n",
      "dtypes: datetime64[ns](1), float64(6), int64(35), object(8)\n",
      "memory usage: 196.7+ MB\n"
     ]
    }
   ],
   "source": [
    "#Закодируем причины\n",
    "encoder = ce.OneHotEncoder(cols=['reason_of_trip']) # указываем столбец для кодирования\n",
    "type_bin = encoder.fit_transform(data['reason_of_trip'])\n",
    "data = pd.concat([data, type_bin], axis=1)\n",
    "data.info()"
   ]
  },
  {
   "cell_type": "code",
   "execution_count": 42,
   "id": "900eac58",
   "metadata": {
    "execution": {
     "iopub.execute_input": "2023-01-15T09:17:20.520143Z",
     "iopub.status.busy": "2023-01-15T09:17:20.519261Z",
     "iopub.status.idle": "2023-01-15T09:17:20.522912Z",
     "shell.execute_reply": "2023-01-15T09:17:20.523328Z",
     "shell.execute_reply.started": "2023-01-15T09:01:53.832040Z"
    },
    "papermill": {
     "duration": 0.084344,
     "end_time": "2023-01-15T09:17:20.523491",
     "exception": false,
     "start_time": "2023-01-15T09:17:20.439147",
     "status": "completed"
    },
    "tags": []
   },
   "outputs": [],
   "source": [
    "#Добавим колонку с причиной в список на удаление\n",
    "data_drop.append('reason_of_trip')"
   ]
  },
  {
   "cell_type": "code",
   "execution_count": 43,
   "id": "0f88ee74",
   "metadata": {
    "execution": {
     "iopub.execute_input": "2023-01-15T09:17:20.678128Z",
     "iopub.status.busy": "2023-01-15T09:17:20.677425Z",
     "iopub.status.idle": "2023-01-15T09:17:22.614249Z",
     "shell.execute_reply": "2023-01-15T09:17:22.613577Z",
     "shell.execute_reply.started": "2023-01-15T09:01:55.938670Z"
    },
    "papermill": {
     "duration": 2.014209,
     "end_time": "2023-01-15T09:17:22.614389",
     "exception": false,
     "start_time": "2023-01-15T09:17:20.600180",
     "status": "completed"
    },
    "tags": []
   },
   "outputs": [
    {
     "data": {
      "text/plain": [
       "Couple    251636\n",
       "Solo      108246\n",
       "Family     89399\n",
       "0          66457\n",
       "Name: type_of_travalers, dtype: int64"
      ]
     },
     "execution_count": 43,
     "metadata": {},
     "output_type": "execute_result"
    }
   ],
   "source": [
    "#Из тегов выясним, состав путешествующих.\n",
    "def get_type_of_travalers(tags):    \n",
    "    tags_list2 = tags.split(' ')\n",
    "    travalers_list = ['Solo','Couple','Family']\n",
    "    type_of_travalers = 0\n",
    "    for i in range(len(tags_list2)):\n",
    "        if tags_list2[i] in travalers_list:\n",
    "            type_of_travalers = tags_list2[i]\n",
    "    return type_of_travalers\n",
    "\n",
    "data['type_of_travalers'] = data['tags'].apply(get_type_of_travalers)\n",
    "data['type_of_travalers'].value_counts()"
   ]
  },
  {
   "cell_type": "markdown",
   "id": "ea73715d",
   "metadata": {
    "papermill": {
     "duration": 0.075726,
     "end_time": "2023-01-15T09:17:22.765602",
     "exception": false,
     "start_time": "2023-01-15T09:17:22.689876",
     "status": "completed"
    },
    "tags": []
   },
   "source": [
    "# Посмотрим зависит ли оценка от состава путешествующих"
   ]
  },
  {
   "cell_type": "code",
   "execution_count": 44,
   "id": "65965df9",
   "metadata": {
    "execution": {
     "iopub.execute_input": "2023-01-15T09:17:22.928702Z",
     "iopub.status.busy": "2023-01-15T09:17:22.928052Z",
     "iopub.status.idle": "2023-01-15T09:17:23.644714Z",
     "shell.execute_reply": "2023-01-15T09:17:23.644266Z",
     "shell.execute_reply.started": "2023-01-15T09:02:00.504508Z"
    },
    "papermill": {
     "duration": 0.804074,
     "end_time": "2023-01-15T09:17:23.644890",
     "exception": false,
     "start_time": "2023-01-15T09:17:22.840816",
     "status": "completed"
    },
    "tags": []
   },
   "outputs": [
    {
     "data": {
      "image/png": "[encoded data removed]",
      "text/plain": [
       "<Figure size 720x360 with 1 Axes>"
      ]
     },
     "metadata": {
      "needs_background": "light"
     },
     "output_type": "display_data"
    }
   ],
   "source": [
    "fig, axes = plt.subplots(nrows=1, ncols=1, figsize=(10, 5))\n",
    "\n",
    "boxplot = sns.boxplot(\n",
    "    data = data[data['sample'] == 1],\n",
    "    y = 'type_of_travalers',\n",
    "    x = 'reviewer_score',\n",
    "    orient ='h',\n",
    "    width = 0.5\n",
    ")\n",
    "boxplot.set_title('Распределение оценок в зависимости от состава путешествующих', size = 20);\n",
    "boxplot.set_xlabel('Оценка');\n",
    "boxplot.set_ylabel('Состав');"
   ]
  },
  {
   "cell_type": "markdown",
   "id": "b3876115",
   "metadata": {
    "papermill": {
     "duration": 0.079146,
     "end_time": "2023-01-15T09:17:23.801346",
     "exception": false,
     "start_time": "2023-01-15T09:17:23.722200",
     "status": "completed"
    },
    "tags": []
   },
   "source": [
    "Самый большой разброс оценок наблюдается у путешествующих в одиночку. Самая высокая медиана наблюдается у пар."
   ]
  },
  {
   "cell_type": "code",
   "execution_count": 45,
   "id": "c5517a69",
   "metadata": {
    "execution": {
     "iopub.execute_input": "2023-01-15T09:17:23.959063Z",
     "iopub.status.busy": "2023-01-15T09:17:23.957771Z",
     "iopub.status.idle": "2023-01-15T09:17:24.580764Z",
     "shell.execute_reply": "2023-01-15T09:17:24.581214Z",
     "shell.execute_reply.started": "2023-01-15T09:02:04.680921Z"
    },
    "papermill": {
     "duration": 0.70385,
     "end_time": "2023-01-15T09:17:24.581362",
     "exception": false,
     "start_time": "2023-01-15T09:17:23.877512",
     "status": "completed"
    },
    "tags": []
   },
   "outputs": [
    {
     "name": "stdout",
     "output_type": "stream",
     "text": [
      "<class 'pandas.core.frame.DataFrame'>\n",
      "RangeIndex: 515738 entries, 0 to 515737\n",
      "Data columns (total 55 columns):\n",
      " #   Column                                      Non-Null Count   Dtype         \n",
      "---  ------                                      --------------   -----         \n",
      " 0   hotel_address                               515738 non-null  object        \n",
      " 1   additional_number_of_scoring                515738 non-null  int64         \n",
      " 2   review_date                                 515738 non-null  datetime64[ns]\n",
      " 3   average_score                               515738 non-null  float64       \n",
      " 4   hotel_name                                  515738 non-null  object        \n",
      " 5   negative_review                             515738 non-null  object        \n",
      " 6   review_total_negative_word_counts           515738 non-null  int64         \n",
      " 7   total_number_of_reviews                     515738 non-null  int64         \n",
      " 8   positive_review                             515738 non-null  object        \n",
      " 9   review_total_positive_word_counts           515738 non-null  int64         \n",
      " 10  total_number_of_reviews_reviewer_has_given  515738 non-null  int64         \n",
      " 11  tags                                        515738 non-null  object        \n",
      " 12  days_since_review                           515738 non-null  int64         \n",
      " 13  lat                                         515738 non-null  float64       \n",
      " 14  lng                                         515738 non-null  float64       \n",
      " 15  sample                                      515738 non-null  int64         \n",
      " 16  reviewer_score                              515738 non-null  float64       \n",
      " 17  country                                     515738 non-null  object        \n",
      " 18  country_1                                   515738 non-null  int64         \n",
      " 19  country_2                                   515738 non-null  int64         \n",
      " 20  country_3                                   515738 non-null  int64         \n",
      " 21  country_4                                   515738 non-null  int64         \n",
      " 22  country_5                                   515738 non-null  int64         \n",
      " 23  country_6                                   515738 non-null  int64         \n",
      " 24  city                                        515738 non-null  object        \n",
      " 25  city_1                                      515738 non-null  int64         \n",
      " 26  city_2                                      515738 non-null  int64         \n",
      " 27  city_3                                      515738 non-null  int64         \n",
      " 28  city_4                                      515738 non-null  int64         \n",
      " 29  city_5                                      515738 non-null  int64         \n",
      " 30  city_6                                      515738 non-null  int64         \n",
      " 31  hotel_distance_to_center                    515738 non-null  float64       \n",
      " 32  hotel_distance_to_center_round              515738 non-null  float64       \n",
      " 33  year of review                              515738 non-null  int64         \n",
      " 34  month of review                             515738 non-null  int64         \n",
      " 35  day of review                               515738 non-null  int64         \n",
      " 36  weekday of review                           515738 non-null  int64         \n",
      " 37  reviewer_nationality_0                      515738 non-null  int64         \n",
      " 38  reviewer_nationality_1                      515738 non-null  int64         \n",
      " 39  reviewer_nationality_2                      515738 non-null  int64         \n",
      " 40  reviewer_nationality_3                      515738 non-null  int64         \n",
      " 41  reviewer_nationality_4                      515738 non-null  int64         \n",
      " 42  reviewer_nationality_5                      515738 non-null  int64         \n",
      " 43  reviewer_nationality_6                      515738 non-null  int64         \n",
      " 44  reviewer_nationality_7                      515738 non-null  int64         \n",
      " 45  nights                                      515738 non-null  int64         \n",
      " 46  reason_of_trip                              515738 non-null  object        \n",
      " 47  reason_of_trip_1                            515738 non-null  int64         \n",
      " 48  reason_of_trip_2                            515738 non-null  int64         \n",
      " 49  reason_of_trip_3                            515738 non-null  int64         \n",
      " 50  type_of_travalers                           515738 non-null  object        \n",
      " 51  type_of_travalers_1                         515738 non-null  int64         \n",
      " 52  type_of_travalers_2                         515738 non-null  int64         \n",
      " 53  type_of_travalers_3                         515738 non-null  int64         \n",
      " 54  type_of_travalers_4                         515738 non-null  int64         \n",
      "dtypes: datetime64[ns](1), float64(6), int64(39), object(9)\n",
      "memory usage: 216.4+ MB\n"
     ]
    }
   ],
   "source": [
    "#Закодируем состав путешествующих\n",
    "encoder = ce.OneHotEncoder(cols=['type_of_travalers']) # указываем столбец для кодирования\n",
    "type_bin = encoder.fit_transform(data['type_of_travalers'])\n",
    "data = pd.concat([data, type_bin], axis=1)\n",
    "data.info()"
   ]
  },
  {
   "cell_type": "code",
   "execution_count": 46,
   "id": "6a84ae71",
   "metadata": {
    "execution": {
     "iopub.execute_input": "2023-01-15T09:17:24.741557Z",
     "iopub.status.busy": "2023-01-15T09:17:24.740693Z",
     "iopub.status.idle": "2023-01-15T09:17:25.069343Z",
     "shell.execute_reply": "2023-01-15T09:17:25.068729Z",
     "shell.execute_reply.started": "2023-01-15T09:02:08.976382Z"
    },
    "papermill": {
     "duration": 0.407701,
     "end_time": "2023-01-15T09:17:25.069495",
     "exception": false,
     "start_time": "2023-01-15T09:17:24.661794",
     "status": "completed"
    },
    "tags": []
   },
   "outputs": [],
   "source": [
    "#Удалим колонку с составом путешествующих\n",
    "data.drop(columns = 'type_of_travalers', inplace = True)"
   ]
  },
  {
   "cell_type": "code",
   "execution_count": 47,
   "id": "9ef86528",
   "metadata": {
    "execution": {
     "iopub.execute_input": "2023-01-15T09:17:25.230654Z",
     "iopub.status.busy": "2023-01-15T09:17:25.230000Z",
     "iopub.status.idle": "2023-01-15T09:17:27.207215Z",
     "shell.execute_reply": "2023-01-15T09:17:27.207659Z",
     "shell.execute_reply.started": "2023-01-15T09:02:11.968747Z"
    },
    "papermill": {
     "duration": 2.061566,
     "end_time": "2023-01-15T09:17:27.207807",
     "exception": false,
     "start_time": "2023-01-15T09:17:25.146241",
     "status": "completed"
    },
    "tags": []
   },
   "outputs": [
    {
     "data": {
      "text/plain": [
       "0    454723\n",
       "1     61015\n",
       "Name: young_children, dtype: int64"
      ]
     },
     "execution_count": 47,
     "metadata": {},
     "output_type": "execute_result"
    }
   ],
   "source": [
    "#Из тегов выясним, есть ли маленькие дети.\n",
    "def get_young_children(tags):    \n",
    "    tags_list2 = tags.split(' ')\n",
    "    young_children_list = ['young','baby','babies']\n",
    "    young_children = 0\n",
    "    for i in range(len(tags_list2)):\n",
    "        if tags_list2[i] in young_children_list:\n",
    "            young_children = 1\n",
    "    return young_children\n",
    "  \n",
    "data['young_children'] = data['tags'].apply(get_young_children)\n",
    "data['young_children'].value_counts()"
   ]
  },
  {
   "cell_type": "code",
   "execution_count": 48,
   "id": "4432f35d",
   "metadata": {
    "execution": {
     "iopub.execute_input": "2023-01-15T09:17:27.371254Z",
     "iopub.status.busy": "2023-01-15T09:17:27.367990Z",
     "iopub.status.idle": "2023-01-15T09:17:28.957466Z",
     "shell.execute_reply": "2023-01-15T09:17:28.956821Z",
     "shell.execute_reply.started": "2023-01-15T09:02:16.064047Z"
    },
    "papermill": {
     "duration": 1.671324,
     "end_time": "2023-01-15T09:17:28.957614",
     "exception": false,
     "start_time": "2023-01-15T09:17:27.286290",
     "status": "completed"
    },
    "tags": []
   },
   "outputs": [
    {
     "data": {
      "text/plain": [
       "0    489389\n",
       "1     26349\n",
       "Name: older_children, dtype: int64"
      ]
     },
     "execution_count": 48,
     "metadata": {},
     "output_type": "execute_result"
    }
   ],
   "source": [
    "#Из тегов выясним, есть ли взрослые дети.\n",
    "def get_older_children(tags):    \n",
    "    tags_list2 = tags.split(' ')\n",
    "    older_children_list = ['older']\n",
    "    older_children = 0\n",
    "    for i in range(len(tags_list2)):\n",
    "        if tags_list2[i] in older_children_list:\n",
    "            older_children = 1\n",
    "    return older_children \n",
    "\n",
    "data['older_children'] = data['tags'].apply(get_older_children)\n",
    "data['older_children'].value_counts()"
   ]
  },
  {
   "cell_type": "code",
   "execution_count": 49,
   "id": "dcd0432c",
   "metadata": {
    "execution": {
     "iopub.execute_input": "2023-01-15T09:17:29.118854Z",
     "iopub.status.busy": "2023-01-15T09:17:29.118253Z",
     "iopub.status.idle": "2023-01-15T09:17:29.688886Z",
     "shell.execute_reply": "2023-01-15T09:17:29.689351Z",
     "shell.execute_reply.started": "2023-01-15T09:02:20.208499Z"
    },
    "papermill": {
     "duration": 0.655096,
     "end_time": "2023-01-15T09:17:29.689502",
     "exception": false,
     "start_time": "2023-01-15T09:17:29.034406",
     "status": "completed"
    },
    "tags": []
   },
   "outputs": [
    {
     "data": {
      "text/plain": [
       "2        300983\n",
       "other    178030\n",
       "1         27140\n",
       "3          9585\n",
       "Name: count_of_room, dtype: int64"
      ]
     },
     "execution_count": 49,
     "metadata": {},
     "output_type": "execute_result"
    }
   ],
   "source": [
    "#Из тегов выясним количество комнат.\n",
    "def get_count_of_room(tags):    \n",
    "    tags_list2 = tags.split(' ')\n",
    "    count_of_room = 0\n",
    "    if 'Single' in tags:\n",
    "        count_of_room = 1\n",
    "    elif ('Double' or 'Twin' or 'Duplex') in tags:\n",
    "        count_of_room = 2\n",
    "    elif 'Triple' in tags:\n",
    "        count_of_room = 3\n",
    "    else: count_of_room = 'other'\n",
    "    return count_of_room\n",
    "\n",
    "data['count_of_room'] = data['tags'].apply(get_count_of_room)\n",
    "data['count_of_room'].value_counts()\n",
    "\n"
   ]
  },
  {
   "cell_type": "markdown",
   "id": "241a1610",
   "metadata": {
    "papermill": {
     "duration": 0.076683,
     "end_time": "2023-01-15T09:17:29.844318",
     "exception": false,
     "start_time": "2023-01-15T09:17:29.767635",
     "status": "completed"
    },
    "tags": []
   },
   "source": [
    "Выделение количествав комнат, не очень показательно, так как значительное количество попало в категорию \"other\"."
   ]
  },
  {
   "cell_type": "code",
   "execution_count": 50,
   "id": "11ab76bc",
   "metadata": {
    "execution": {
     "iopub.execute_input": "2023-01-15T09:17:30.002952Z",
     "iopub.status.busy": "2023-01-15T09:17:30.002251Z",
     "iopub.status.idle": "2023-01-15T09:17:30.588023Z",
     "shell.execute_reply": "2023-01-15T09:17:30.587494Z",
     "shell.execute_reply.started": "2023-01-15T09:02:24.000438Z"
    },
    "papermill": {
     "duration": 0.66524,
     "end_time": "2023-01-15T09:17:30.588200",
     "exception": false,
     "start_time": "2023-01-15T09:17:29.922960",
     "status": "completed"
    },
    "tags": []
   },
   "outputs": [
    {
     "name": "stdout",
     "output_type": "stream",
     "text": [
      "<class 'pandas.core.frame.DataFrame'>\n",
      "RangeIndex: 515738 entries, 0 to 515737\n",
      "Data columns (total 61 columns):\n",
      " #   Column                                      Non-Null Count   Dtype         \n",
      "---  ------                                      --------------   -----         \n",
      " 0   hotel_address                               515738 non-null  object        \n",
      " 1   additional_number_of_scoring                515738 non-null  int64         \n",
      " 2   review_date                                 515738 non-null  datetime64[ns]\n",
      " 3   average_score                               515738 non-null  float64       \n",
      " 4   hotel_name                                  515738 non-null  object        \n",
      " 5   negative_review                             515738 non-null  object        \n",
      " 6   review_total_negative_word_counts           515738 non-null  int64         \n",
      " 7   total_number_of_reviews                     515738 non-null  int64         \n",
      " 8   positive_review                             515738 non-null  object        \n",
      " 9   review_total_positive_word_counts           515738 non-null  int64         \n",
      " 10  total_number_of_reviews_reviewer_has_given  515738 non-null  int64         \n",
      " 11  tags                                        515738 non-null  object        \n",
      " 12  days_since_review                           515738 non-null  int64         \n",
      " 13  lat                                         515738 non-null  float64       \n",
      " 14  lng                                         515738 non-null  float64       \n",
      " 15  sample                                      515738 non-null  int64         \n",
      " 16  reviewer_score                              515738 non-null  float64       \n",
      " 17  country                                     515738 non-null  object        \n",
      " 18  country_1                                   515738 non-null  int64         \n",
      " 19  country_2                                   515738 non-null  int64         \n",
      " 20  country_3                                   515738 non-null  int64         \n",
      " 21  country_4                                   515738 non-null  int64         \n",
      " 22  country_5                                   515738 non-null  int64         \n",
      " 23  country_6                                   515738 non-null  int64         \n",
      " 24  city                                        515738 non-null  object        \n",
      " 25  city_1                                      515738 non-null  int64         \n",
      " 26  city_2                                      515738 non-null  int64         \n",
      " 27  city_3                                      515738 non-null  int64         \n",
      " 28  city_4                                      515738 non-null  int64         \n",
      " 29  city_5                                      515738 non-null  int64         \n",
      " 30  city_6                                      515738 non-null  int64         \n",
      " 31  hotel_distance_to_center                    515738 non-null  float64       \n",
      " 32  hotel_distance_to_center_round              515738 non-null  float64       \n",
      " 33  year of review                              515738 non-null  int64         \n",
      " 34  month of review                             515738 non-null  int64         \n",
      " 35  day of review                               515738 non-null  int64         \n",
      " 36  weekday of review                           515738 non-null  int64         \n",
      " 37  reviewer_nationality_0                      515738 non-null  int64         \n",
      " 38  reviewer_nationality_1                      515738 non-null  int64         \n",
      " 39  reviewer_nationality_2                      515738 non-null  int64         \n",
      " 40  reviewer_nationality_3                      515738 non-null  int64         \n",
      " 41  reviewer_nationality_4                      515738 non-null  int64         \n",
      " 42  reviewer_nationality_5                      515738 non-null  int64         \n",
      " 43  reviewer_nationality_6                      515738 non-null  int64         \n",
      " 44  reviewer_nationality_7                      515738 non-null  int64         \n",
      " 45  nights                                      515738 non-null  int64         \n",
      " 46  reason_of_trip                              515738 non-null  object        \n",
      " 47  reason_of_trip_1                            515738 non-null  int64         \n",
      " 48  reason_of_trip_2                            515738 non-null  int64         \n",
      " 49  reason_of_trip_3                            515738 non-null  int64         \n",
      " 50  type_of_travalers_1                         515738 non-null  int64         \n",
      " 51  type_of_travalers_2                         515738 non-null  int64         \n",
      " 52  type_of_travalers_3                         515738 non-null  int64         \n",
      " 53  type_of_travalers_4                         515738 non-null  int64         \n",
      " 54  young_children                              515738 non-null  int64         \n",
      " 55  older_children                              515738 non-null  int64         \n",
      " 56  count_of_room                               515738 non-null  object        \n",
      " 57  count_of_room_1                             515738 non-null  int64         \n",
      " 58  count_of_room_2                             515738 non-null  int64         \n",
      " 59  count_of_room_3                             515738 non-null  int64         \n",
      " 60  count_of_room_4                             515738 non-null  int64         \n",
      "dtypes: datetime64[ns](1), float64(6), int64(45), object(9)\n",
      "memory usage: 240.0+ MB\n"
     ]
    }
   ],
   "source": [
    "#Закодируем количество комнат\n",
    "encoder = ce.OneHotEncoder(cols=['count_of_room']) # указываем столбец для кодирования\n",
    "type_bin = encoder.fit_transform(data['count_of_room'])\n",
    "data = pd.concat([data, type_bin], axis=1)\n",
    "data.info()"
   ]
  },
  {
   "cell_type": "code",
   "execution_count": 51,
   "id": "680443dc",
   "metadata": {
    "execution": {
     "iopub.execute_input": "2023-01-15T09:17:30.761713Z",
     "iopub.status.busy": "2023-01-15T09:17:30.760709Z",
     "iopub.status.idle": "2023-01-15T09:17:30.762956Z",
     "shell.execute_reply": "2023-01-15T09:17:30.763581Z",
     "shell.execute_reply.started": "2023-01-15T09:02:28.108248Z"
    },
    "papermill": {
     "duration": 0.091166,
     "end_time": "2023-01-15T09:17:30.763816",
     "exception": false,
     "start_time": "2023-01-15T09:17:30.672650",
     "status": "completed"
    },
    "tags": []
   },
   "outputs": [],
   "source": [
    "#Добавим колонку с составом путешествующих в список на удаление\n",
    "data_drop.append('count_of_room')"
   ]
  },
  {
   "cell_type": "code",
   "execution_count": 52,
   "id": "fef64e83",
   "metadata": {
    "execution": {
     "iopub.execute_input": "2023-01-15T09:17:30.927604Z",
     "iopub.status.busy": "2023-01-15T09:17:30.926903Z",
     "iopub.status.idle": "2023-01-15T09:17:30.929153Z",
     "shell.execute_reply": "2023-01-15T09:17:30.928629Z",
     "shell.execute_reply.started": "2023-01-15T09:02:30.529908Z"
    },
    "papermill": {
     "duration": 0.08433,
     "end_time": "2023-01-15T09:17:30.929270",
     "exception": false,
     "start_time": "2023-01-15T09:17:30.844940",
     "status": "completed"
    },
    "tags": []
   },
   "outputs": [],
   "source": [
    "#Добавим колонку tags  в список на удаление\n",
    "data_drop.append('tags')"
   ]
  },
  {
   "cell_type": "markdown",
   "id": "d2f851df",
   "metadata": {
    "papermill": {
     "duration": 0.084249,
     "end_time": "2023-01-15T09:17:31.093215",
     "exception": false,
     "start_time": "2023-01-15T09:17:31.008966",
     "status": "completed"
    },
    "tags": []
   },
   "source": [
    "# Обработаем отзывы"
   ]
  },
  {
   "cell_type": "code",
   "execution_count": 53,
   "id": "7b213a86",
   "metadata": {
    "execution": {
     "iopub.execute_input": "2023-01-15T09:17:31.266432Z",
     "iopub.status.busy": "2023-01-15T09:17:31.265602Z",
     "iopub.status.idle": "2023-01-15T09:21:26.030161Z",
     "shell.execute_reply": "2023-01-15T09:21:26.029616Z",
     "shell.execute_reply.started": "2023-01-15T09:02:33.207762Z"
    },
    "papermill": {
     "duration": 234.854462,
     "end_time": "2023-01-15T09:21:26.030305",
     "exception": false,
     "start_time": "2023-01-15T09:17:31.175843",
     "status": "completed"
    },
    "tags": []
   },
   "outputs": [
    {
     "name": "stderr",
     "output_type": "stream",
     "text": [
      "/opt/conda/lib/python3.7/site-packages/nltk/twitter/__init__.py:20: UserWarning: The twython library has not been installed. Some functionality from the twitter package will not be available.\n",
      "  warnings.warn(\"The twython library has not been installed. \"\n"
     ]
    }
   ],
   "source": [
    "from nltk.sentiment.vader import SentimentIntensityAnalyzer\n",
    "\n",
    "# Первым делов подправим явные выражения \n",
    "data['negative_review'] = data['negative_review'].apply(lambda x: x.replace('No Negative', 'Positive'))\n",
    "data['negative_review'] = data['negative_review'].apply(lambda x: x.replace('N A', 'Positive'))\n",
    "data['negative_review'] = data['negative_review'].apply(\n",
    "    lambda x: x.replace('All good', 'Positive'))\n",
    "data['negative_review'] = data['negative_review'].apply(\n",
    "    lambda x: x.replace('No complaints', 'Positive'))\n",
    "data['negative_review'] = data['negative_review'].apply(\n",
    "    lambda x: x.replace('Nothing to dislike', 'Positive'))\n",
    "data['positive_review'] = data['positive_review'].apply(\n",
    "    lambda x: x.replace('No Positive', 'Negative'))\n",
    "\n",
    "# создаем два экземпляра анализатора, чтобы разделить лексикон \n",
    "# для разной системы оценки положительных и отрицательных отзывов:\n",
    "sia_neg = SentimentIntensityAnalyzer()\n",
    "sia_pos = SentimentIntensityAnalyzer()\n",
    "\n",
    "data['neg_scores'] = data['negative_review'].apply(lambda x: sia_neg.polarity_scores(x))\n",
    "data['pos_scores'] = data['positive_review'].apply(lambda x: sia_pos.polarity_scores(x))\n",
    "\n",
    "# формируем новые признаки:\n",
    "data['n_review_sentiments_neg'] = data['neg_scores'].apply(lambda x: x['neg'])\n",
    "data['n_review_sentiments_neu'] = data['neg_scores'].apply(lambda x: x['neu'])\n",
    "data['n_review_sentiments_pos'] = data['neg_scores'].apply(lambda x: x['pos'])\n",
    "data['n_review_sentiments_compound'] = data['neg_scores'].apply(lambda x: x['compound'])\n",
    "\n",
    "data['p_review_sentiments_neg'] = data['pos_scores'].apply(lambda x: x['neg'])\n",
    "data['p_review_sentiments_neu'] = data['pos_scores'].apply(lambda x: x['neu'])\n",
    "data['p_review_sentiments_pos'] = data['pos_scores'].apply(lambda x: x['pos'])\n",
    "data['p_review_sentiments_compound'] = data['pos_scores'].apply(lambda x: x['compound'])"
   ]
  },
  {
   "cell_type": "code",
   "execution_count": 54,
   "id": "1673d8a0",
   "metadata": {
    "execution": {
     "iopub.execute_input": "2023-01-15T09:21:26.208898Z",
     "iopub.status.busy": "2023-01-15T09:21:26.188950Z",
     "iopub.status.idle": "2023-01-15T09:21:26.568172Z",
     "shell.execute_reply": "2023-01-15T09:21:26.567476Z",
     "shell.execute_reply.started": "2023-01-15T09:07:22.923466Z"
    },
    "papermill": {
     "duration": 0.459803,
     "end_time": "2023-01-15T09:21:26.568349",
     "exception": false,
     "start_time": "2023-01-15T09:21:26.108546",
     "status": "completed"
    },
    "tags": []
   },
   "outputs": [
    {
     "name": "stdout",
     "output_type": "stream",
     "text": [
      "<class 'pandas.core.frame.DataFrame'>\n",
      "RangeIndex: 515738 entries, 0 to 515737\n",
      "Data columns (total 71 columns):\n",
      " #   Column                                      Non-Null Count   Dtype         \n",
      "---  ------                                      --------------   -----         \n",
      " 0   hotel_address                               515738 non-null  object        \n",
      " 1   additional_number_of_scoring                515738 non-null  int64         \n",
      " 2   review_date                                 515738 non-null  datetime64[ns]\n",
      " 3   average_score                               515738 non-null  float64       \n",
      " 4   hotel_name                                  515738 non-null  object        \n",
      " 5   negative_review                             515738 non-null  object        \n",
      " 6   review_total_negative_word_counts           515738 non-null  int64         \n",
      " 7   total_number_of_reviews                     515738 non-null  int64         \n",
      " 8   positive_review                             515738 non-null  object        \n",
      " 9   review_total_positive_word_counts           515738 non-null  int64         \n",
      " 10  total_number_of_reviews_reviewer_has_given  515738 non-null  int64         \n",
      " 11  tags                                        515738 non-null  object        \n",
      " 12  days_since_review                           515738 non-null  int64         \n",
      " 13  lat                                         515738 non-null  float64       \n",
      " 14  lng                                         515738 non-null  float64       \n",
      " 15  sample                                      515738 non-null  int64         \n",
      " 16  reviewer_score                              515738 non-null  float64       \n",
      " 17  country                                     515738 non-null  object        \n",
      " 18  country_1                                   515738 non-null  int64         \n",
      " 19  country_2                                   515738 non-null  int64         \n",
      " 20  country_3                                   515738 non-null  int64         \n",
      " 21  country_4                                   515738 non-null  int64         \n",
      " 22  country_5                                   515738 non-null  int64         \n",
      " 23  country_6                                   515738 non-null  int64         \n",
      " 24  city                                        515738 non-null  object        \n",
      " 25  city_1                                      515738 non-null  int64         \n",
      " 26  city_2                                      515738 non-null  int64         \n",
      " 27  city_3                                      515738 non-null  int64         \n",
      " 28  city_4                                      515738 non-null  int64         \n",
      " 29  city_5                                      515738 non-null  int64         \n",
      " 30  city_6                                      515738 non-null  int64         \n",
      " 31  hotel_distance_to_center                    515738 non-null  float64       \n",
      " 32  hotel_distance_to_center_round              515738 non-null  float64       \n",
      " 33  year of review                              515738 non-null  int64         \n",
      " 34  month of review                             515738 non-null  int64         \n",
      " 35  day of review                               515738 non-null  int64         \n",
      " 36  weekday of review                           515738 non-null  int64         \n",
      " 37  reviewer_nationality_0                      515738 non-null  int64         \n",
      " 38  reviewer_nationality_1                      515738 non-null  int64         \n",
      " 39  reviewer_nationality_2                      515738 non-null  int64         \n",
      " 40  reviewer_nationality_3                      515738 non-null  int64         \n",
      " 41  reviewer_nationality_4                      515738 non-null  int64         \n",
      " 42  reviewer_nationality_5                      515738 non-null  int64         \n",
      " 43  reviewer_nationality_6                      515738 non-null  int64         \n",
      " 44  reviewer_nationality_7                      515738 non-null  int64         \n",
      " 45  nights                                      515738 non-null  int64         \n",
      " 46  reason_of_trip                              515738 non-null  object        \n",
      " 47  reason_of_trip_1                            515738 non-null  int64         \n",
      " 48  reason_of_trip_2                            515738 non-null  int64         \n",
      " 49  reason_of_trip_3                            515738 non-null  int64         \n",
      " 50  type_of_travalers_1                         515738 non-null  int64         \n",
      " 51  type_of_travalers_2                         515738 non-null  int64         \n",
      " 52  type_of_travalers_3                         515738 non-null  int64         \n",
      " 53  type_of_travalers_4                         515738 non-null  int64         \n",
      " 54  young_children                              515738 non-null  int64         \n",
      " 55  older_children                              515738 non-null  int64         \n",
      " 56  count_of_room                               515738 non-null  object        \n",
      " 57  count_of_room_1                             515738 non-null  int64         \n",
      " 58  count_of_room_2                             515738 non-null  int64         \n",
      " 59  count_of_room_3                             515738 non-null  int64         \n",
      " 60  count_of_room_4                             515738 non-null  int64         \n",
      " 61  neg_scores                                  515738 non-null  object        \n",
      " 62  pos_scores                                  515738 non-null  object        \n",
      " 63  n_review_sentiments_neg                     515738 non-null  float64       \n",
      " 64  n_review_sentiments_neu                     515738 non-null  float64       \n",
      " 65  n_review_sentiments_pos                     515738 non-null  float64       \n",
      " 66  n_review_sentiments_compound                515738 non-null  float64       \n",
      " 67  p_review_sentiments_neg                     515738 non-null  float64       \n",
      " 68  p_review_sentiments_neu                     515738 non-null  float64       \n",
      " 69  p_review_sentiments_pos                     515738 non-null  float64       \n",
      " 70  p_review_sentiments_compound                515738 non-null  float64       \n",
      "dtypes: datetime64[ns](1), float64(14), int64(45), object(11)\n",
      "memory usage: 279.4+ MB\n"
     ]
    }
   ],
   "source": [
    "data.info()"
   ]
  },
  {
   "cell_type": "code",
   "execution_count": 55,
   "id": "7268357d",
   "metadata": {
    "execution": {
     "iopub.execute_input": "2023-01-15T09:21:26.736213Z",
     "iopub.status.busy": "2023-01-15T09:21:26.735435Z",
     "iopub.status.idle": "2023-01-15T09:21:26.739922Z",
     "shell.execute_reply": "2023-01-15T09:21:26.740490Z",
     "shell.execute_reply.started": "2023-01-15T09:07:32.924648Z"
    },
    "papermill": {
     "duration": 0.090003,
     "end_time": "2023-01-15T09:21:26.740668",
     "exception": false,
     "start_time": "2023-01-15T09:21:26.650665",
     "status": "completed"
    },
    "tags": []
   },
   "outputs": [],
   "source": [
    "data_drop.extend(['negative_review', 'positive_review'])"
   ]
  },
  {
   "cell_type": "code",
   "execution_count": 56,
   "id": "d236d88a",
   "metadata": {
    "execution": {
     "iopub.execute_input": "2023-01-15T09:21:26.901485Z",
     "iopub.status.busy": "2023-01-15T09:21:26.900738Z",
     "iopub.status.idle": "2023-01-15T09:21:32.555863Z",
     "shell.execute_reply": "2023-01-15T09:21:32.555280Z",
     "shell.execute_reply.started": "2023-01-15T09:07:35.100560Z"
    },
    "papermill": {
     "duration": 5.736787,
     "end_time": "2023-01-15T09:21:32.556010",
     "exception": false,
     "start_time": "2023-01-15T09:21:26.819223",
     "status": "completed"
    },
    "tags": []
   },
   "outputs": [
    {
     "name": "stdout",
     "output_type": "stream",
     "text": [
      "Наиболее высокая корреляция между признаками:\n"
     ]
    },
    {
     "data": {
      "text/html": [
       "<div>\n",
       "<style scoped>\n",
       "    .dataframe tbody tr th:only-of-type {\n",
       "        vertical-align: middle;\n",
       "    }\n",
       "\n",
       "    .dataframe tbody tr th {\n",
       "        vertical-align: top;\n",
       "    }\n",
       "\n",
       "    .dataframe thead th {\n",
       "        text-align: right;\n",
       "    }\n",
       "</style>\n",
       "<table border=\"1\" class=\"dataframe\">\n",
       "  <thead>\n",
       "    <tr style=\"text-align: right;\">\n",
       "      <th></th>\n",
       "      <th>level_0</th>\n",
       "      <th>level_1</th>\n",
       "      <th>0</th>\n",
       "    </tr>\n",
       "  </thead>\n",
       "  <tbody>\n",
       "    <tr>\n",
       "      <th>1134</th>\n",
       "      <td>city_3</td>\n",
       "      <td>country_3</td>\n",
       "      <td>1.000000</td>\n",
       "    </tr>\n",
       "    <tr>\n",
       "      <th>966</th>\n",
       "      <td>country_6</td>\n",
       "      <td>city_6</td>\n",
       "      <td>1.000000</td>\n",
       "    </tr>\n",
       "    <tr>\n",
       "      <th>1014</th>\n",
       "      <td>city_1</td>\n",
       "      <td>country_1</td>\n",
       "      <td>1.000000</td>\n",
       "    </tr>\n",
       "    <tr>\n",
       "      <th>1074</th>\n",
       "      <td>city_2</td>\n",
       "      <td>country_2</td>\n",
       "      <td>1.000000</td>\n",
       "    </tr>\n",
       "    <tr>\n",
       "      <th>1194</th>\n",
       "      <td>city_4</td>\n",
       "      <td>country_4</td>\n",
       "      <td>1.000000</td>\n",
       "    </tr>\n",
       "    <tr>\n",
       "      <th>1254</th>\n",
       "      <td>city_5</td>\n",
       "      <td>country_5</td>\n",
       "      <td>1.000000</td>\n",
       "    </tr>\n",
       "    <tr>\n",
       "      <th>1381</th>\n",
       "      <td>hotel_distance_to_center</td>\n",
       "      <td>hotel_distance_to_center_round</td>\n",
       "      <td>0.999976</td>\n",
       "    </tr>\n",
       "    <tr>\n",
       "      <th>3121</th>\n",
       "      <td>n_review_sentiments_neu</td>\n",
       "      <td>n_review_sentiments_pos</td>\n",
       "      <td>0.940379</td>\n",
       "    </tr>\n",
       "    <tr>\n",
       "      <th>599</th>\n",
       "      <td>reviewer_score</td>\n",
       "      <td>sample</td>\n",
       "      <td>0.931753</td>\n",
       "    </tr>\n",
       "    <tr>\n",
       "      <th>1481</th>\n",
       "      <td>year of review</td>\n",
       "      <td>days_since_review</td>\n",
       "      <td>0.917266</td>\n",
       "    </tr>\n",
       "    <tr>\n",
       "      <th>2281</th>\n",
       "      <td>reason_of_trip_1</td>\n",
       "      <td>reason_of_trip_2</td>\n",
       "      <td>0.904034</td>\n",
       "    </tr>\n",
       "    <tr>\n",
       "      <th>2938</th>\n",
       "      <td>count_of_room_3</td>\n",
       "      <td>count_of_room_1</td>\n",
       "      <td>0.859558</td>\n",
       "    </tr>\n",
       "    <tr>\n",
       "      <th>774</th>\n",
       "      <td>country_3</td>\n",
       "      <td>lat</td>\n",
       "      <td>0.844601</td>\n",
       "    </tr>\n",
       "    <tr>\n",
       "      <th>1128</th>\n",
       "      <td>city_3</td>\n",
       "      <td>lat</td>\n",
       "      <td>0.844601</td>\n",
       "    </tr>\n",
       "    <tr>\n",
       "      <th>1306</th>\n",
       "      <td>city_6</td>\n",
       "      <td>lng</td>\n",
       "      <td>0.824934</td>\n",
       "    </tr>\n",
       "    <tr>\n",
       "      <th>952</th>\n",
       "      <td>country_6</td>\n",
       "      <td>lng</td>\n",
       "      <td>0.824934</td>\n",
       "    </tr>\n",
       "    <tr>\n",
       "      <th>177</th>\n",
       "      <td>total_number_of_reviews</td>\n",
       "      <td>additional_number_of_scoring</td>\n",
       "      <td>0.824884</td>\n",
       "    </tr>\n",
       "    <tr>\n",
       "      <th>2699</th>\n",
       "      <td>young_children</td>\n",
       "      <td>type_of_travalers_4</td>\n",
       "      <td>0.799937</td>\n",
       "    </tr>\n",
       "    <tr>\n",
       "      <th>3421</th>\n",
       "      <td>p_review_sentiments_pos</td>\n",
       "      <td>p_review_sentiments_compound</td>\n",
       "      <td>0.698729</td>\n",
       "    </tr>\n",
       "    <tr>\n",
       "      <th>3181</th>\n",
       "      <td>n_review_sentiments_pos</td>\n",
       "      <td>n_review_sentiments_compound</td>\n",
       "      <td>0.697847</td>\n",
       "    </tr>\n",
       "  </tbody>\n",
       "</table>\n",
       "</div>"
      ],
      "text/plain": [
       "                       level_0                         level_1         0\n",
       "1134                    city_3                       country_3  1.000000\n",
       "966                  country_6                          city_6  1.000000\n",
       "1014                    city_1                       country_1  1.000000\n",
       "1074                    city_2                       country_2  1.000000\n",
       "1194                    city_4                       country_4  1.000000\n",
       "1254                    city_5                       country_5  1.000000\n",
       "1381  hotel_distance_to_center  hotel_distance_to_center_round  0.999976\n",
       "3121   n_review_sentiments_neu         n_review_sentiments_pos  0.940379\n",
       "599             reviewer_score                          sample  0.931753\n",
       "1481            year of review               days_since_review  0.917266\n",
       "2281          reason_of_trip_1                reason_of_trip_2  0.904034\n",
       "2938           count_of_room_3                 count_of_room_1  0.859558\n",
       "774                  country_3                             lat  0.844601\n",
       "1128                    city_3                             lat  0.844601\n",
       "1306                    city_6                             lng  0.824934\n",
       "952                  country_6                             lng  0.824934\n",
       "177    total_number_of_reviews    additional_number_of_scoring  0.824884\n",
       "2699            young_children             type_of_travalers_4  0.799937\n",
       "3421   p_review_sentiments_pos    p_review_sentiments_compound  0.698729\n",
       "3181   n_review_sentiments_pos    n_review_sentiments_compound  0.697847"
      ]
     },
     "execution_count": 56,
     "metadata": {},
     "output_type": "execute_result"
    },
    {
     "data": {
      "image/png": "[encoded data removed]",
      "text/plain": [
       "<Figure size 1440x720 with 2 Axes>"
      ]
     },
     "metadata": {},
     "output_type": "display_data"
    }
   ],
   "source": [
    "# постройте корреляционную матрицу и оцените данные на предмет наличия мультиколлинеарности\n",
    "corr = data.corr()\n",
    "sns.set(rc={'figure.figsize':(20, 10)})\n",
    "ax = sns.heatmap(\n",
    "    corr, \n",
    "    vmin=-1, \n",
    "    vmax=1, \n",
    "    center=0,\n",
    "    cmap=sns.diverging_palette(20, 220, n=200),\n",
    "    square=True,\n",
    ");\n",
    "print('Наиболее высокая корреляция между признаками:')\n",
    "corr_unstack = corr.abs().unstack().reset_index()\n",
    "corr_unstack = corr_unstack.sort_values(by=[0], ascending=False)\n",
    "mask = corr_unstack['level_0'] != corr_unstack['level_1']\n",
    "corr_unstack = corr_unstack[mask]\n",
    "corr_unstack['pr1'] = corr_unstack['level_0'] + corr_unstack['level_1']\n",
    "corr_unstack['pr1'] = corr_unstack['pr1'].apply(lambda x: ''.join(sorted(list(x))))\n",
    "corr_unstack = corr_unstack.drop_duplicates(subset=['pr1'])\n",
    "corr_unstack = corr_unstack.drop(['pr1'], axis=1)\n",
    "corr_unstack.iloc[:20, :]"
   ]
  },
  {
   "cell_type": "code",
   "execution_count": 57,
   "id": "f48a743b",
   "metadata": {
    "execution": {
     "iopub.execute_input": "2023-01-15T09:21:32.729271Z",
     "iopub.status.busy": "2023-01-15T09:21:32.728648Z",
     "iopub.status.idle": "2023-01-15T09:21:33.126031Z",
     "shell.execute_reply": "2023-01-15T09:21:33.125484Z",
     "shell.execute_reply.started": "2023-01-15T09:07:48.079445Z"
    },
    "papermill": {
     "duration": 0.486491,
     "end_time": "2023-01-15T09:21:33.126202",
     "exception": false,
     "start_time": "2023-01-15T09:21:32.639711",
     "status": "completed"
    },
    "tags": []
   },
   "outputs": [],
   "source": [
    "#Удалим признаки с корреляцией больше 0.75\n",
    "data.drop(columns = ['city_1', 'city_2','city_3', 'city_4', 'city_5', 'city_6', 'days_since_review','n_review_sentiments_neu', 'days_since_review', 'lat', 'lng', 'total_number_of_reviews'], inplace = True)"
   ]
  },
  {
   "cell_type": "code",
   "execution_count": 58,
   "id": "e19e4fa8",
   "metadata": {
    "execution": {
     "iopub.execute_input": "2023-01-15T09:21:33.302647Z",
     "iopub.status.busy": "2023-01-15T09:21:33.301584Z",
     "iopub.status.idle": "2023-01-15T09:21:36.762317Z",
     "shell.execute_reply": "2023-01-15T09:21:36.762739Z",
     "shell.execute_reply.started": "2023-01-15T09:07:52.176581Z"
    },
    "papermill": {
     "duration": 3.55348,
     "end_time": "2023-01-15T09:21:36.762891",
     "exception": false,
     "start_time": "2023-01-15T09:21:33.209411",
     "status": "completed"
    },
    "tags": []
   },
   "outputs": [
    {
     "name": "stdout",
     "output_type": "stream",
     "text": [
      "Наиболее высокая корреляция между признаками:\n"
     ]
    },
    {
     "data": {
      "text/html": [
       "<div>\n",
       "<style scoped>\n",
       "    .dataframe tbody tr th:only-of-type {\n",
       "        vertical-align: middle;\n",
       "    }\n",
       "\n",
       "    .dataframe tbody tr th {\n",
       "        vertical-align: top;\n",
       "    }\n",
       "\n",
       "    .dataframe thead th {\n",
       "        text-align: right;\n",
       "    }\n",
       "</style>\n",
       "<table border=\"1\" class=\"dataframe\">\n",
       "  <thead>\n",
       "    <tr style=\"text-align: right;\">\n",
       "      <th></th>\n",
       "      <th>level_0</th>\n",
       "      <th>level_1</th>\n",
       "      <th>0</th>\n",
       "    </tr>\n",
       "  </thead>\n",
       "  <tbody>\n",
       "    <tr>\n",
       "      <th>638</th>\n",
       "      <td>hotel_distance_to_center</td>\n",
       "      <td>hotel_distance_to_center_round</td>\n",
       "      <td>0.999976</td>\n",
       "    </tr>\n",
       "    <tr>\n",
       "      <th>293</th>\n",
       "      <td>reviewer_score</td>\n",
       "      <td>sample</td>\n",
       "      <td>0.931753</td>\n",
       "    </tr>\n",
       "    <tr>\n",
       "      <th>1420</th>\n",
       "      <td>reason_of_trip_2</td>\n",
       "      <td>reason_of_trip_1</td>\n",
       "      <td>0.904034</td>\n",
       "    </tr>\n",
       "    <tr>\n",
       "      <th>1815</th>\n",
       "      <td>count_of_room_1</td>\n",
       "      <td>count_of_room_3</td>\n",
       "      <td>0.859558</td>\n",
       "    </tr>\n",
       "    <tr>\n",
       "      <th>1667</th>\n",
       "      <td>type_of_travalers_4</td>\n",
       "      <td>young_children</td>\n",
       "      <td>0.799937</td>\n",
       "    </tr>\n",
       "    <tr>\n",
       "      <th>2302</th>\n",
       "      <td>p_review_sentiments_compound</td>\n",
       "      <td>p_review_sentiments_pos</td>\n",
       "      <td>0.698729</td>\n",
       "    </tr>\n",
       "    <tr>\n",
       "      <th>2059</th>\n",
       "      <td>n_review_sentiments_pos</td>\n",
       "      <td>n_review_sentiments_compound</td>\n",
       "      <td>0.697847</td>\n",
       "    </tr>\n",
       "    <tr>\n",
       "      <th>2300</th>\n",
       "      <td>p_review_sentiments_compound</td>\n",
       "      <td>p_review_sentiments_neg</td>\n",
       "      <td>0.690591</td>\n",
       "    </tr>\n",
       "    <tr>\n",
       "      <th>2011</th>\n",
       "      <td>n_review_sentiments_neg</td>\n",
       "      <td>n_review_sentiments_compound</td>\n",
       "      <td>0.613093</td>\n",
       "    </tr>\n",
       "    <tr>\n",
       "      <th>736</th>\n",
       "      <td>year of review</td>\n",
       "      <td>month of review</td>\n",
       "      <td>0.581331</td>\n",
       "    </tr>\n",
       "    <tr>\n",
       "      <th>2157</th>\n",
       "      <td>p_review_sentiments_neg</td>\n",
       "      <td>p_review_sentiments_neu</td>\n",
       "      <td>0.570610</td>\n",
       "    </tr>\n",
       "    <tr>\n",
       "      <th>1272</th>\n",
       "      <td>reviewer_nationality_7</td>\n",
       "      <td>reviewer_nationality_5</td>\n",
       "      <td>0.537940</td>\n",
       "    </tr>\n",
       "    <tr>\n",
       "      <th>1425</th>\n",
       "      <td>reason_of_trip_2</td>\n",
       "      <td>type_of_travalers_3</td>\n",
       "      <td>0.527649</td>\n",
       "    </tr>\n",
       "    <tr>\n",
       "      <th>2253</th>\n",
       "      <td>p_review_sentiments_pos</td>\n",
       "      <td>p_review_sentiments_neu</td>\n",
       "      <td>0.515985</td>\n",
       "    </tr>\n",
       "    <tr>\n",
       "      <th>1612</th>\n",
       "      <td>type_of_travalers_3</td>\n",
       "      <td>reason_of_trip_1</td>\n",
       "      <td>0.508151</td>\n",
       "    </tr>\n",
       "    <tr>\n",
       "      <th>1762</th>\n",
       "      <td>older_children</td>\n",
       "      <td>type_of_travalers_4</td>\n",
       "      <td>0.506718</td>\n",
       "    </tr>\n",
       "    <tr>\n",
       "      <th>1521</th>\n",
       "      <td>type_of_travalers_1</td>\n",
       "      <td>type_of_travalers_3</td>\n",
       "      <td>0.503091</td>\n",
       "    </tr>\n",
       "    <tr>\n",
       "      <th>1663</th>\n",
       "      <td>type_of_travalers_4</td>\n",
       "      <td>type_of_travalers_1</td>\n",
       "      <td>0.446981</td>\n",
       "    </tr>\n",
       "    <tr>\n",
       "      <th>10</th>\n",
       "      <td>additional_number_of_scoring</td>\n",
       "      <td>country_4</td>\n",
       "      <td>0.441090</td>\n",
       "    </tr>\n",
       "    <tr>\n",
       "      <th>2259</th>\n",
       "      <td>p_review_sentiments_compound</td>\n",
       "      <td>review_total_positive_word_counts</td>\n",
       "      <td>0.433753</td>\n",
       "    </tr>\n",
       "  </tbody>\n",
       "</table>\n",
       "</div>"
      ],
      "text/plain": [
       "                           level_0                            level_1  \\\n",
       "638       hotel_distance_to_center     hotel_distance_to_center_round   \n",
       "293                 reviewer_score                             sample   \n",
       "1420              reason_of_trip_2                   reason_of_trip_1   \n",
       "1815               count_of_room_1                    count_of_room_3   \n",
       "1667           type_of_travalers_4                     young_children   \n",
       "2302  p_review_sentiments_compound            p_review_sentiments_pos   \n",
       "2059       n_review_sentiments_pos       n_review_sentiments_compound   \n",
       "2300  p_review_sentiments_compound            p_review_sentiments_neg   \n",
       "2011       n_review_sentiments_neg       n_review_sentiments_compound   \n",
       "736                 year of review                    month of review   \n",
       "2157       p_review_sentiments_neg            p_review_sentiments_neu   \n",
       "1272        reviewer_nationality_7             reviewer_nationality_5   \n",
       "1425              reason_of_trip_2                type_of_travalers_3   \n",
       "2253       p_review_sentiments_pos            p_review_sentiments_neu   \n",
       "1612           type_of_travalers_3                   reason_of_trip_1   \n",
       "1762                older_children                type_of_travalers_4   \n",
       "1521           type_of_travalers_1                type_of_travalers_3   \n",
       "1663           type_of_travalers_4                type_of_travalers_1   \n",
       "10    additional_number_of_scoring                          country_4   \n",
       "2259  p_review_sentiments_compound  review_total_positive_word_counts   \n",
       "\n",
       "             0  \n",
       "638   0.999976  \n",
       "293   0.931753  \n",
       "1420  0.904034  \n",
       "1815  0.859558  \n",
       "1667  0.799937  \n",
       "2302  0.698729  \n",
       "2059  0.697847  \n",
       "2300  0.690591  \n",
       "2011  0.613093  \n",
       "736   0.581331  \n",
       "2157  0.570610  \n",
       "1272  0.537940  \n",
       "1425  0.527649  \n",
       "2253  0.515985  \n",
       "1612  0.508151  \n",
       "1762  0.506718  \n",
       "1521  0.503091  \n",
       "1663  0.446981  \n",
       "10    0.441090  \n",
       "2259  0.433753  "
      ]
     },
     "execution_count": 58,
     "metadata": {},
     "output_type": "execute_result"
    },
    {
     "data": {
      "image/png": "[encoded data removed]",
      "text/plain": [
       "<Figure size 1440x720 with 2 Axes>"
      ]
     },
     "metadata": {},
     "output_type": "display_data"
    }
   ],
   "source": [
    "# постройте корреляционную матрицу и оцените данные на предмет наличия мультиколлинеарности\n",
    "corr = data.corr()\n",
    "sns.set(rc={'figure.figsize':(20, 10)})\n",
    "ax = sns.heatmap(\n",
    "    corr, \n",
    "    vmin=-1, \n",
    "    vmax=1, \n",
    "    center=0,\n",
    "    cmap=sns.diverging_palette(20, 220, n=200),\n",
    "    square=True,\n",
    ");\n",
    "print('Наиболее высокая корреляция между признаками:')\n",
    "corr_unstack = corr.abs().unstack().reset_index()\n",
    "corr_unstack = corr_unstack.sort_values(by=[0], ascending=False)\n",
    "mask = corr_unstack['level_0'] != corr_unstack['level_1']\n",
    "corr_unstack = corr_unstack[mask]\n",
    "corr_unstack['pr1'] = corr_unstack['level_0'] + corr_unstack['level_1']\n",
    "corr_unstack['pr1'] = corr_unstack['pr1'].apply(lambda x: ''.join(sorted(list(x))))\n",
    "corr_unstack = corr_unstack.drop_duplicates(subset=['pr1'])\n",
    "corr_unstack = corr_unstack.drop(['pr1'], axis=1)\n",
    "corr_unstack.iloc[:20, :]"
   ]
  },
  {
   "cell_type": "code",
   "execution_count": 59,
   "id": "3f323082",
   "metadata": {
    "execution": {
     "iopub.execute_input": "2023-01-15T09:21:36.944209Z",
     "iopub.status.busy": "2023-01-15T09:21:36.943504Z",
     "iopub.status.idle": "2023-01-15T09:21:36.946170Z",
     "shell.execute_reply": "2023-01-15T09:21:36.946608Z",
     "shell.execute_reply.started": "2023-01-15T09:08:03.826380Z"
    },
    "papermill": {
     "duration": 0.09555,
     "end_time": "2023-01-15T09:21:36.946780",
     "exception": false,
     "start_time": "2023-01-15T09:21:36.851230",
     "status": "completed"
    },
    "tags": []
   },
   "outputs": [
    {
     "data": {
      "text/plain": [
       "['country',\n",
       " 'city',\n",
       " 'hotel_distance_to_center',\n",
       " 'review_date',\n",
       " 'reason_of_trip',\n",
       " 'count_of_room',\n",
       " 'tags',\n",
       " 'negative_review',\n",
       " 'positive_review']"
      ]
     },
     "execution_count": 59,
     "metadata": {},
     "output_type": "execute_result"
    }
   ],
   "source": [
    "data_drop"
   ]
  },
  {
   "cell_type": "code",
   "execution_count": 60,
   "id": "1785c047",
   "metadata": {
    "execution": {
     "iopub.execute_input": "2023-01-15T09:21:37.125959Z",
     "iopub.status.busy": "2023-01-15T09:21:37.125019Z",
     "iopub.status.idle": "2023-01-15T09:21:37.220739Z",
     "shell.execute_reply": "2023-01-15T09:21:37.221213Z",
     "shell.execute_reply.started": "2023-01-15T09:08:06.209203Z"
    },
    "papermill": {
     "duration": 0.187139,
     "end_time": "2023-01-15T09:21:37.221487",
     "exception": false,
     "start_time": "2023-01-15T09:21:37.034348",
     "status": "completed"
    },
    "tags": []
   },
   "outputs": [],
   "source": [
    "# убираем признаки из списка\n",
    "data.drop(data_drop, axis = 1, inplace=True)\n"
   ]
  },
  {
   "cell_type": "code",
   "execution_count": 61,
   "id": "c8a665ec",
   "metadata": {
    "execution": {
     "iopub.execute_input": "2023-01-15T09:21:37.620968Z",
     "iopub.status.busy": "2023-01-15T09:21:37.399293Z",
     "iopub.status.idle": "2023-01-15T09:21:37.778031Z",
     "shell.execute_reply": "2023-01-15T09:21:37.777413Z",
     "shell.execute_reply.started": "2023-01-15T09:08:08.928516Z"
    },
    "papermill": {
     "duration": 0.468664,
     "end_time": "2023-01-15T09:21:37.778196",
     "exception": false,
     "start_time": "2023-01-15T09:21:37.309532",
     "status": "completed"
    },
    "tags": []
   },
   "outputs": [],
   "source": [
    "# убираем признаки которые еще не успели обработать, \n",
    "# модель на признаках с dtypes \"object\" обучаться не будет, просто выберим их и удалим\n",
    "object_columns = [s for s in data.columns if data[s].dtypes == 'object']\n",
    "data.drop(object_columns, axis = 1, inplace=True)"
   ]
  },
  {
   "cell_type": "code",
   "execution_count": 62,
   "id": "40a5b666",
   "metadata": {
    "execution": {
     "iopub.execute_input": "2023-01-15T09:21:37.955381Z",
     "iopub.status.busy": "2023-01-15T09:21:37.954674Z",
     "iopub.status.idle": "2023-01-15T09:21:37.987624Z",
     "shell.execute_reply": "2023-01-15T09:21:37.986960Z",
     "shell.execute_reply.started": "2023-01-15T09:08:12.909306Z"
    },
    "papermill": {
     "duration": 0.123371,
     "end_time": "2023-01-15T09:21:37.987767",
     "exception": false,
     "start_time": "2023-01-15T09:21:37.864396",
     "status": "completed"
    },
    "tags": []
   },
   "outputs": [
    {
     "name": "stdout",
     "output_type": "stream",
     "text": [
      "<class 'pandas.core.frame.DataFrame'>\n",
      "RangeIndex: 515738 entries, 0 to 515737\n",
      "Data columns (total 47 columns):\n",
      " #   Column                                      Non-Null Count   Dtype  \n",
      "---  ------                                      --------------   -----  \n",
      " 0   additional_number_of_scoring                515738 non-null  int64  \n",
      " 1   average_score                               515738 non-null  float64\n",
      " 2   review_total_negative_word_counts           515738 non-null  int64  \n",
      " 3   review_total_positive_word_counts           515738 non-null  int64  \n",
      " 4   total_number_of_reviews_reviewer_has_given  515738 non-null  int64  \n",
      " 5   sample                                      515738 non-null  int64  \n",
      " 6   reviewer_score                              515738 non-null  float64\n",
      " 7   country_1                                   515738 non-null  int64  \n",
      " 8   country_2                                   515738 non-null  int64  \n",
      " 9   country_3                                   515738 non-null  int64  \n",
      " 10  country_4                                   515738 non-null  int64  \n",
      " 11  country_5                                   515738 non-null  int64  \n",
      " 12  country_6                                   515738 non-null  int64  \n",
      " 13  hotel_distance_to_center_round              515738 non-null  float64\n",
      " 14  year of review                              515738 non-null  int64  \n",
      " 15  month of review                             515738 non-null  int64  \n",
      " 16  day of review                               515738 non-null  int64  \n",
      " 17  weekday of review                           515738 non-null  int64  \n",
      " 18  reviewer_nationality_0                      515738 non-null  int64  \n",
      " 19  reviewer_nationality_1                      515738 non-null  int64  \n",
      " 20  reviewer_nationality_2                      515738 non-null  int64  \n",
      " 21  reviewer_nationality_3                      515738 non-null  int64  \n",
      " 22  reviewer_nationality_4                      515738 non-null  int64  \n",
      " 23  reviewer_nationality_5                      515738 non-null  int64  \n",
      " 24  reviewer_nationality_6                      515738 non-null  int64  \n",
      " 25  reviewer_nationality_7                      515738 non-null  int64  \n",
      " 26  nights                                      515738 non-null  int64  \n",
      " 27  reason_of_trip_1                            515738 non-null  int64  \n",
      " 28  reason_of_trip_2                            515738 non-null  int64  \n",
      " 29  reason_of_trip_3                            515738 non-null  int64  \n",
      " 30  type_of_travalers_1                         515738 non-null  int64  \n",
      " 31  type_of_travalers_2                         515738 non-null  int64  \n",
      " 32  type_of_travalers_3                         515738 non-null  int64  \n",
      " 33  type_of_travalers_4                         515738 non-null  int64  \n",
      " 34  young_children                              515738 non-null  int64  \n",
      " 35  older_children                              515738 non-null  int64  \n",
      " 36  count_of_room_1                             515738 non-null  int64  \n",
      " 37  count_of_room_2                             515738 non-null  int64  \n",
      " 38  count_of_room_3                             515738 non-null  int64  \n",
      " 39  count_of_room_4                             515738 non-null  int64  \n",
      " 40  n_review_sentiments_neg                     515738 non-null  float64\n",
      " 41  n_review_sentiments_pos                     515738 non-null  float64\n",
      " 42  n_review_sentiments_compound                515738 non-null  float64\n",
      " 43  p_review_sentiments_neg                     515738 non-null  float64\n",
      " 44  p_review_sentiments_neu                     515738 non-null  float64\n",
      " 45  p_review_sentiments_pos                     515738 non-null  float64\n",
      " 46  p_review_sentiments_compound                515738 non-null  float64\n",
      "dtypes: float64(10), int64(37)\n",
      "memory usage: 184.9 MB\n"
     ]
    }
   ],
   "source": [
    "data.info()"
   ]
  },
  {
   "cell_type": "code",
   "execution_count": 63,
   "id": "65978bd8",
   "metadata": {
    "execution": {
     "iopub.execute_input": "2023-01-15T09:21:38.167929Z",
     "iopub.status.busy": "2023-01-15T09:21:38.167400Z",
     "iopub.status.idle": "2023-01-15T09:21:38.321150Z",
     "shell.execute_reply": "2023-01-15T09:21:38.320664Z",
     "shell.execute_reply.started": "2023-01-15T09:08:16.178807Z"
    },
    "papermill": {
     "duration": 0.246352,
     "end_time": "2023-01-15T09:21:38.321277",
     "exception": false,
     "start_time": "2023-01-15T09:21:38.074925",
     "status": "completed"
    },
    "tags": []
   },
   "outputs": [],
   "source": [
    "# Теперь выделим тестовую часть\n",
    "train_data = data.query('sample == 1').drop(['sample'], axis=1)\n",
    "test_data = data.query('sample == 0').drop(['sample'], axis=1)\n",
    "\n",
    "y = train_data.reviewer_score.values            # наш таргет\n",
    "X = train_data.drop(['reviewer_score'], axis=1)"
   ]
  },
  {
   "cell_type": "code",
   "execution_count": 64,
   "id": "b182a9a0",
   "metadata": {
    "execution": {
     "iopub.execute_input": "2023-01-15T09:21:38.517168Z",
     "iopub.status.busy": "2023-01-15T09:21:38.516460Z",
     "iopub.status.idle": "2023-01-15T09:21:38.651403Z",
     "shell.execute_reply": "2023-01-15T09:21:38.651885Z",
     "shell.execute_reply.started": "2023-01-15T09:08:19.032630Z"
    },
    "papermill": {
     "duration": 0.242708,
     "end_time": "2023-01-15T09:21:38.652061",
     "exception": false,
     "start_time": "2023-01-15T09:21:38.409353",
     "status": "completed"
    },
    "tags": []
   },
   "outputs": [],
   "source": [
    "# Воспользуемся специальной функцие train_test_split для разбивки тестовых данных\n",
    "# выделим 20% данных на валидацию (параметр test_size)\n",
    "X_train, X_test, y_train, y_test = train_test_split(X, y, test_size=0.2, random_state=RANDOM_SEED)"
   ]
  },
  {
   "cell_type": "code",
   "execution_count": 65,
   "id": "9db1a9e9",
   "metadata": {
    "execution": {
     "iopub.execute_input": "2023-01-15T09:21:38.834564Z",
     "iopub.status.busy": "2023-01-15T09:21:38.833731Z",
     "iopub.status.idle": "2023-01-15T09:21:38.838534Z",
     "shell.execute_reply": "2023-01-15T09:21:38.837956Z",
     "shell.execute_reply.started": "2023-01-15T09:08:22.207962Z"
    },
    "papermill": {
     "duration": 0.098206,
     "end_time": "2023-01-15T09:21:38.838681",
     "exception": false,
     "start_time": "2023-01-15T09:21:38.740475",
     "status": "completed"
    },
    "tags": []
   },
   "outputs": [
    {
     "data": {
      "text/plain": [
       "((128935, 46), (386803, 46), (386803, 45), (309442, 45), (77361, 45))"
      ]
     },
     "execution_count": 65,
     "metadata": {},
     "output_type": "execute_result"
    }
   ],
   "source": [
    "# проверяем\n",
    "test_data.shape, train_data.shape, X.shape, X_train.shape, X_test.shape"
   ]
  },
  {
   "cell_type": "code",
   "execution_count": 66,
   "id": "fcb99c95",
   "metadata": {
    "execution": {
     "iopub.execute_input": "2023-01-15T09:21:39.019469Z",
     "iopub.status.busy": "2023-01-15T09:21:39.018804Z",
     "iopub.status.idle": "2023-01-15T09:21:39.138143Z",
     "shell.execute_reply": "2023-01-15T09:21:39.138579Z",
     "shell.execute_reply.started": "2023-01-15T09:08:27.181093Z"
    },
    "papermill": {
     "duration": 0.212283,
     "end_time": "2023-01-15T09:21:39.138744",
     "exception": false,
     "start_time": "2023-01-15T09:21:38.926461",
     "status": "completed"
    },
    "tags": []
   },
   "outputs": [],
   "source": [
    "# Импортируем необходимые библиотеки:\n",
    "from sklearn.ensemble import RandomForestRegressor # инструмент для создания и обучения модели\n",
    "from sklearn import metrics # инструменты для оценки точности модели"
   ]
  },
  {
   "cell_type": "code",
   "execution_count": 67,
   "id": "0d4dfaab",
   "metadata": {
    "execution": {
     "iopub.execute_input": "2023-01-15T09:21:39.321098Z",
     "iopub.status.busy": "2023-01-15T09:21:39.320445Z",
     "iopub.status.idle": "2023-01-15T09:21:39.323410Z",
     "shell.execute_reply": "2023-01-15T09:21:39.322867Z",
     "shell.execute_reply.started": "2023-01-15T09:08:30.209860Z"
    },
    "papermill": {
     "duration": 0.096111,
     "end_time": "2023-01-15T09:21:39.323539",
     "exception": false,
     "start_time": "2023-01-15T09:21:39.227428",
     "status": "completed"
    },
    "tags": []
   },
   "outputs": [],
   "source": [
    "# Создаём модель (НАСТРОЙКИ НЕ ТРОГАЕМ)\n",
    "model = RandomForestRegressor(n_estimators=100, verbose=1, n_jobs=-1, random_state=RANDOM_SEED)"
   ]
  },
  {
   "cell_type": "code",
   "execution_count": 68,
   "id": "40d197a8",
   "metadata": {
    "execution": {
     "iopub.execute_input": "2023-01-15T09:21:39.511517Z",
     "iopub.status.busy": "2023-01-15T09:21:39.510580Z",
     "iopub.status.idle": "2023-01-15T09:24:07.636013Z",
     "shell.execute_reply": "2023-01-15T09:24:07.635470Z",
     "shell.execute_reply.started": "2023-01-15T09:08:33.044133Z"
    },
    "papermill": {
     "duration": 148.222953,
     "end_time": "2023-01-15T09:24:07.636168",
     "exception": false,
     "start_time": "2023-01-15T09:21:39.413215",
     "status": "completed"
    },
    "tags": []
   },
   "outputs": [
    {
     "name": "stderr",
     "output_type": "stream",
     "text": [
      "[Parallel(n_jobs=-1)]: Using backend ThreadingBackend with 4 concurrent workers.\n",
      "[Parallel(n_jobs=-1)]: Done  42 tasks      | elapsed:  1.1min\n",
      "[Parallel(n_jobs=-1)]: Done 100 out of 100 | elapsed:  2.4min finished\n",
      "[Parallel(n_jobs=4)]: Using backend ThreadingBackend with 4 concurrent workers.\n",
      "[Parallel(n_jobs=4)]: Done  42 tasks      | elapsed:    0.6s\n",
      "[Parallel(n_jobs=4)]: Done 100 out of 100 | elapsed:    1.4s finished\n"
     ]
    }
   ],
   "source": [
    "# Обучаем модель на тестовом наборе данных\n",
    "model.fit(X_train, y_train)\n",
    "\n",
    "# Используем обученную модель для предсказания рейтинга ресторанов в тестовой выборке.\n",
    "# Предсказанные значения записываем в переменную y_pred\n",
    "y_pred = model.predict(X_test)"
   ]
  },
  {
   "cell_type": "code",
   "execution_count": 69,
   "id": "5214966b",
   "metadata": {
    "execution": {
     "iopub.execute_input": "2023-01-15T09:24:07.820826Z",
     "iopub.status.busy": "2023-01-15T09:24:07.820177Z",
     "iopub.status.idle": "2023-01-15T09:24:07.825527Z",
     "shell.execute_reply": "2023-01-15T09:24:07.824939Z",
     "shell.execute_reply.started": "2023-01-15T09:11:59.614036Z"
    },
    "papermill": {
     "duration": 0.100368,
     "end_time": "2023-01-15T09:24:07.825686",
     "exception": false,
     "start_time": "2023-01-15T09:24:07.725318",
     "status": "completed"
    },
    "tags": []
   },
   "outputs": [
    {
     "name": "stdout",
     "output_type": "stream",
     "text": [
      "MAPE: 0.8784792065769571\n"
     ]
    }
   ],
   "source": [
    "# Сравниваем предсказанные значения (y_pred) с реальными (y_test), и смотрим насколько они в среднем отличаются\n",
    "# Метрика называется Mean Absolute Error (MAE) и показывает среднее отклонение предсказанных значений от фактических.\n",
    "print('MAPE:', metrics.mean_absolute_error(y_test, y_pred))"
   ]
  },
  {
   "cell_type": "code",
   "execution_count": 70,
   "id": "e4b45e10",
   "metadata": {
    "execution": {
     "iopub.execute_input": "2023-01-15T09:24:08.011472Z",
     "iopub.status.busy": "2023-01-15T09:24:08.010724Z",
     "iopub.status.idle": "2023-01-15T09:24:08.418272Z",
     "shell.execute_reply": "2023-01-15T09:24:08.418679Z",
     "shell.execute_reply.started": "2023-01-15T09:12:02.553869Z"
    },
    "papermill": {
     "duration": 0.501613,
     "end_time": "2023-01-15T09:24:08.418846",
     "exception": false,
     "start_time": "2023-01-15T09:24:07.917233",
     "status": "completed"
    },
    "tags": []
   },
   "outputs": [
    {
     "data": {
      "text/plain": [
       "<AxesSubplot:>"
      ]
     },
     "execution_count": 70,
     "metadata": {},
     "output_type": "execute_result"
    },
    {
     "data": {
      "image/png": "[encoded data removed]",
      "text/plain": [
       "<Figure size 720x720 with 1 Axes>"
      ]
     },
     "metadata": {},
     "output_type": "display_data"
    }
   ],
   "source": [
    "# в RandomForestRegressor есть возможность вывести самые важные признаки для модели\n",
    "plt.rcParams['figure.figsize'] = (10,10)\n",
    "feat_importances = pd.Series(model.feature_importances_, index=X.columns)\n",
    "feat_importances.nlargest(15).plot(kind='barh')"
   ]
  },
  {
   "cell_type": "code",
   "execution_count": 71,
   "id": "9741dd54",
   "metadata": {
    "execution": {
     "iopub.execute_input": "2023-01-15T09:24:08.604388Z",
     "iopub.status.busy": "2023-01-15T09:24:08.602740Z",
     "iopub.status.idle": "2023-01-15T09:24:08.631772Z",
     "shell.execute_reply": "2023-01-15T09:24:08.631101Z",
     "shell.execute_reply.started": "2023-01-15T09:12:23.338295Z"
    },
    "papermill": {
     "duration": 0.123276,
     "end_time": "2023-01-15T09:24:08.631918",
     "exception": false,
     "start_time": "2023-01-15T09:24:08.508642",
     "status": "completed"
    },
    "tags": []
   },
   "outputs": [
    {
     "data": {
      "text/html": [
       "<div>\n",
       "<style scoped>\n",
       "    .dataframe tbody tr th:only-of-type {\n",
       "        vertical-align: middle;\n",
       "    }\n",
       "\n",
       "    .dataframe tbody tr th {\n",
       "        vertical-align: top;\n",
       "    }\n",
       "\n",
       "    .dataframe thead th {\n",
       "        text-align: right;\n",
       "    }\n",
       "</style>\n",
       "<table border=\"1\" class=\"dataframe\">\n",
       "  <thead>\n",
       "    <tr style=\"text-align: right;\">\n",
       "      <th></th>\n",
       "      <th>additional_number_of_scoring</th>\n",
       "      <th>average_score</th>\n",
       "      <th>review_total_negative_word_counts</th>\n",
       "      <th>review_total_positive_word_counts</th>\n",
       "      <th>total_number_of_reviews_reviewer_has_given</th>\n",
       "      <th>reviewer_score</th>\n",
       "      <th>country_1</th>\n",
       "      <th>country_2</th>\n",
       "      <th>country_3</th>\n",
       "      <th>country_4</th>\n",
       "      <th>...</th>\n",
       "      <th>count_of_room_2</th>\n",
       "      <th>count_of_room_3</th>\n",
       "      <th>count_of_room_4</th>\n",
       "      <th>n_review_sentiments_neg</th>\n",
       "      <th>n_review_sentiments_pos</th>\n",
       "      <th>n_review_sentiments_compound</th>\n",
       "      <th>p_review_sentiments_neg</th>\n",
       "      <th>p_review_sentiments_neu</th>\n",
       "      <th>p_review_sentiments_pos</th>\n",
       "      <th>p_review_sentiments_compound</th>\n",
       "    </tr>\n",
       "  </thead>\n",
       "  <tbody>\n",
       "    <tr>\n",
       "      <th>110261</th>\n",
       "      <td>114</td>\n",
       "      <td>8.3</td>\n",
       "      <td>2</td>\n",
       "      <td>3</td>\n",
       "      <td>7</td>\n",
       "      <td>0.0</td>\n",
       "      <td>0</td>\n",
       "      <td>0</td>\n",
       "      <td>0</td>\n",
       "      <td>0</td>\n",
       "      <td>...</td>\n",
       "      <td>0</td>\n",
       "      <td>0</td>\n",
       "      <td>0</td>\n",
       "      <td>0.000</td>\n",
       "      <td>0.000</td>\n",
       "      <td>0.0000</td>\n",
       "      <td>0.0</td>\n",
       "      <td>1.000</td>\n",
       "      <td>0.000</td>\n",
       "      <td>0.0000</td>\n",
       "    </tr>\n",
       "    <tr>\n",
       "      <th>16982</th>\n",
       "      <td>16</td>\n",
       "      <td>8.4</td>\n",
       "      <td>0</td>\n",
       "      <td>15</td>\n",
       "      <td>49</td>\n",
       "      <td>0.0</td>\n",
       "      <td>0</td>\n",
       "      <td>0</td>\n",
       "      <td>0</td>\n",
       "      <td>0</td>\n",
       "      <td>...</td>\n",
       "      <td>0</td>\n",
       "      <td>0</td>\n",
       "      <td>0</td>\n",
       "      <td>0.000</td>\n",
       "      <td>1.000</td>\n",
       "      <td>0.5574</td>\n",
       "      <td>0.0</td>\n",
       "      <td>0.667</td>\n",
       "      <td>0.333</td>\n",
       "      <td>0.7184</td>\n",
       "    </tr>\n",
       "    <tr>\n",
       "      <th>91598</th>\n",
       "      <td>397</td>\n",
       "      <td>8.3</td>\n",
       "      <td>0</td>\n",
       "      <td>3</td>\n",
       "      <td>2</td>\n",
       "      <td>0.0</td>\n",
       "      <td>0</td>\n",
       "      <td>0</td>\n",
       "      <td>0</td>\n",
       "      <td>1</td>\n",
       "      <td>...</td>\n",
       "      <td>0</td>\n",
       "      <td>0</td>\n",
       "      <td>0</td>\n",
       "      <td>0.000</td>\n",
       "      <td>1.000</td>\n",
       "      <td>0.5574</td>\n",
       "      <td>0.0</td>\n",
       "      <td>1.000</td>\n",
       "      <td>0.000</td>\n",
       "      <td>0.0000</td>\n",
       "    </tr>\n",
       "    <tr>\n",
       "      <th>110483</th>\n",
       "      <td>438</td>\n",
       "      <td>7.4</td>\n",
       "      <td>31</td>\n",
       "      <td>29</td>\n",
       "      <td>10</td>\n",
       "      <td>0.0</td>\n",
       "      <td>0</td>\n",
       "      <td>0</td>\n",
       "      <td>0</td>\n",
       "      <td>1</td>\n",
       "      <td>...</td>\n",
       "      <td>0</td>\n",
       "      <td>0</td>\n",
       "      <td>0</td>\n",
       "      <td>0.000</td>\n",
       "      <td>0.000</td>\n",
       "      <td>0.0000</td>\n",
       "      <td>0.0</td>\n",
       "      <td>0.571</td>\n",
       "      <td>0.429</td>\n",
       "      <td>0.9409</td>\n",
       "    </tr>\n",
       "    <tr>\n",
       "      <th>12980</th>\n",
       "      <td>457</td>\n",
       "      <td>6.8</td>\n",
       "      <td>12</td>\n",
       "      <td>2</td>\n",
       "      <td>4</td>\n",
       "      <td>0.0</td>\n",
       "      <td>0</td>\n",
       "      <td>0</td>\n",
       "      <td>0</td>\n",
       "      <td>1</td>\n",
       "      <td>...</td>\n",
       "      <td>0</td>\n",
       "      <td>0</td>\n",
       "      <td>1</td>\n",
       "      <td>0.198</td>\n",
       "      <td>0.000</td>\n",
       "      <td>-0.2449</td>\n",
       "      <td>0.0</td>\n",
       "      <td>1.000</td>\n",
       "      <td>0.000</td>\n",
       "      <td>0.0000</td>\n",
       "    </tr>\n",
       "    <tr>\n",
       "      <th>61312</th>\n",
       "      <td>185</td>\n",
       "      <td>8.8</td>\n",
       "      <td>10</td>\n",
       "      <td>0</td>\n",
       "      <td>9</td>\n",
       "      <td>0.0</td>\n",
       "      <td>0</td>\n",
       "      <td>0</td>\n",
       "      <td>1</td>\n",
       "      <td>0</td>\n",
       "      <td>...</td>\n",
       "      <td>0</td>\n",
       "      <td>0</td>\n",
       "      <td>0</td>\n",
       "      <td>0.318</td>\n",
       "      <td>0.000</td>\n",
       "      <td>-0.4215</td>\n",
       "      <td>1.0</td>\n",
       "      <td>0.000</td>\n",
       "      <td>0.000</td>\n",
       "      <td>-0.5719</td>\n",
       "    </tr>\n",
       "    <tr>\n",
       "      <th>85488</th>\n",
       "      <td>434</td>\n",
       "      <td>8.6</td>\n",
       "      <td>6</td>\n",
       "      <td>13</td>\n",
       "      <td>1</td>\n",
       "      <td>0.0</td>\n",
       "      <td>0</td>\n",
       "      <td>0</td>\n",
       "      <td>1</td>\n",
       "      <td>0</td>\n",
       "      <td>...</td>\n",
       "      <td>0</td>\n",
       "      <td>0</td>\n",
       "      <td>0</td>\n",
       "      <td>0.420</td>\n",
       "      <td>0.000</td>\n",
       "      <td>-0.4404</td>\n",
       "      <td>0.0</td>\n",
       "      <td>0.606</td>\n",
       "      <td>0.394</td>\n",
       "      <td>0.7050</td>\n",
       "    </tr>\n",
       "    <tr>\n",
       "      <th>36375</th>\n",
       "      <td>224</td>\n",
       "      <td>7.7</td>\n",
       "      <td>6</td>\n",
       "      <td>0</td>\n",
       "      <td>1</td>\n",
       "      <td>0.0</td>\n",
       "      <td>0</td>\n",
       "      <td>1</td>\n",
       "      <td>0</td>\n",
       "      <td>0</td>\n",
       "      <td>...</td>\n",
       "      <td>0</td>\n",
       "      <td>0</td>\n",
       "      <td>0</td>\n",
       "      <td>0.310</td>\n",
       "      <td>0.000</td>\n",
       "      <td>-0.2023</td>\n",
       "      <td>1.0</td>\n",
       "      <td>0.000</td>\n",
       "      <td>0.000</td>\n",
       "      <td>-0.5719</td>\n",
       "    </tr>\n",
       "    <tr>\n",
       "      <th>91748</th>\n",
       "      <td>155</td>\n",
       "      <td>9.4</td>\n",
       "      <td>3</td>\n",
       "      <td>9</td>\n",
       "      <td>2</td>\n",
       "      <td>0.0</td>\n",
       "      <td>0</td>\n",
       "      <td>0</td>\n",
       "      <td>0</td>\n",
       "      <td>0</td>\n",
       "      <td>...</td>\n",
       "      <td>0</td>\n",
       "      <td>0</td>\n",
       "      <td>0</td>\n",
       "      <td>0.000</td>\n",
       "      <td>0.000</td>\n",
       "      <td>0.0000</td>\n",
       "      <td>0.0</td>\n",
       "      <td>0.431</td>\n",
       "      <td>0.569</td>\n",
       "      <td>0.7650</td>\n",
       "    </tr>\n",
       "    <tr>\n",
       "      <th>58696</th>\n",
       "      <td>158</td>\n",
       "      <td>8.4</td>\n",
       "      <td>9</td>\n",
       "      <td>13</td>\n",
       "      <td>9</td>\n",
       "      <td>0.0</td>\n",
       "      <td>0</td>\n",
       "      <td>0</td>\n",
       "      <td>1</td>\n",
       "      <td>0</td>\n",
       "      <td>...</td>\n",
       "      <td>0</td>\n",
       "      <td>0</td>\n",
       "      <td>0</td>\n",
       "      <td>0.000</td>\n",
       "      <td>0.295</td>\n",
       "      <td>0.2724</td>\n",
       "      <td>0.0</td>\n",
       "      <td>0.353</td>\n",
       "      <td>0.647</td>\n",
       "      <td>0.9001</td>\n",
       "    </tr>\n",
       "  </tbody>\n",
       "</table>\n",
       "<p>10 rows × 46 columns</p>\n",
       "</div>"
      ],
      "text/plain": [
       "        additional_number_of_scoring  average_score  \\\n",
       "110261                           114            8.3   \n",
       "16982                             16            8.4   \n",
       "91598                            397            8.3   \n",
       "110483                           438            7.4   \n",
       "12980                            457            6.8   \n",
       "61312                            185            8.8   \n",
       "85488                            434            8.6   \n",
       "36375                            224            7.7   \n",
       "91748                            155            9.4   \n",
       "58696                            158            8.4   \n",
       "\n",
       "        review_total_negative_word_counts  review_total_positive_word_counts  \\\n",
       "110261                                  2                                  3   \n",
       "16982                                   0                                 15   \n",
       "91598                                   0                                  3   \n",
       "110483                                 31                                 29   \n",
       "12980                                  12                                  2   \n",
       "61312                                  10                                  0   \n",
       "85488                                   6                                 13   \n",
       "36375                                   6                                  0   \n",
       "91748                                   3                                  9   \n",
       "58696                                   9                                 13   \n",
       "\n",
       "        total_number_of_reviews_reviewer_has_given  reviewer_score  country_1  \\\n",
       "110261                                           7             0.0          0   \n",
       "16982                                           49             0.0          0   \n",
       "91598                                            2             0.0          0   \n",
       "110483                                          10             0.0          0   \n",
       "12980                                            4             0.0          0   \n",
       "61312                                            9             0.0          0   \n",
       "85488                                            1             0.0          0   \n",
       "36375                                            1             0.0          0   \n",
       "91748                                            2             0.0          0   \n",
       "58696                                            9             0.0          0   \n",
       "\n",
       "        country_2  country_3  country_4  ...  count_of_room_2  \\\n",
       "110261          0          0          0  ...                0   \n",
       "16982           0          0          0  ...                0   \n",
       "91598           0          0          1  ...                0   \n",
       "110483          0          0          1  ...                0   \n",
       "12980           0          0          1  ...                0   \n",
       "61312           0          1          0  ...                0   \n",
       "85488           0          1          0  ...                0   \n",
       "36375           1          0          0  ...                0   \n",
       "91748           0          0          0  ...                0   \n",
       "58696           0          1          0  ...                0   \n",
       "\n",
       "        count_of_room_3  count_of_room_4  n_review_sentiments_neg  \\\n",
       "110261                0                0                    0.000   \n",
       "16982                 0                0                    0.000   \n",
       "91598                 0                0                    0.000   \n",
       "110483                0                0                    0.000   \n",
       "12980                 0                1                    0.198   \n",
       "61312                 0                0                    0.318   \n",
       "85488                 0                0                    0.420   \n",
       "36375                 0                0                    0.310   \n",
       "91748                 0                0                    0.000   \n",
       "58696                 0                0                    0.000   \n",
       "\n",
       "        n_review_sentiments_pos  n_review_sentiments_compound  \\\n",
       "110261                    0.000                        0.0000   \n",
       "16982                     1.000                        0.5574   \n",
       "91598                     1.000                        0.5574   \n",
       "110483                    0.000                        0.0000   \n",
       "12980                     0.000                       -0.2449   \n",
       "61312                     0.000                       -0.4215   \n",
       "85488                     0.000                       -0.4404   \n",
       "36375                     0.000                       -0.2023   \n",
       "91748                     0.000                        0.0000   \n",
       "58696                     0.295                        0.2724   \n",
       "\n",
       "        p_review_sentiments_neg  p_review_sentiments_neu  \\\n",
       "110261                      0.0                    1.000   \n",
       "16982                       0.0                    0.667   \n",
       "91598                       0.0                    1.000   \n",
       "110483                      0.0                    0.571   \n",
       "12980                       0.0                    1.000   \n",
       "61312                       1.0                    0.000   \n",
       "85488                       0.0                    0.606   \n",
       "36375                       1.0                    0.000   \n",
       "91748                       0.0                    0.431   \n",
       "58696                       0.0                    0.353   \n",
       "\n",
       "        p_review_sentiments_pos  p_review_sentiments_compound  \n",
       "110261                    0.000                        0.0000  \n",
       "16982                     0.333                        0.7184  \n",
       "91598                     0.000                        0.0000  \n",
       "110483                    0.429                        0.9409  \n",
       "12980                     0.000                        0.0000  \n",
       "61312                     0.000                       -0.5719  \n",
       "85488                     0.394                        0.7050  \n",
       "36375                     0.000                       -0.5719  \n",
       "91748                     0.569                        0.7650  \n",
       "58696                     0.647                        0.9001  \n",
       "\n",
       "[10 rows x 46 columns]"
      ]
     },
     "execution_count": 71,
     "metadata": {},
     "output_type": "execute_result"
    }
   ],
   "source": [
    "test_data.sample(10)"
   ]
  },
  {
   "cell_type": "code",
   "execution_count": 72,
   "id": "4f05f86a",
   "metadata": {
    "execution": {
     "iopub.execute_input": "2023-01-15T09:24:08.828427Z",
     "iopub.status.busy": "2023-01-15T09:24:08.819879Z",
     "iopub.status.idle": "2023-01-15T09:24:08.832560Z",
     "shell.execute_reply": "2023-01-15T09:24:08.832021Z",
     "shell.execute_reply.started": "2023-01-15T09:12:32.866705Z"
    },
    "papermill": {
     "duration": 0.107774,
     "end_time": "2023-01-15T09:24:08.832725",
     "exception": false,
     "start_time": "2023-01-15T09:24:08.724951",
     "status": "completed"
    },
    "tags": []
   },
   "outputs": [],
   "source": [
    "test_data = test_data.drop(['reviewer_score'], axis=1)"
   ]
  },
  {
   "cell_type": "code",
   "execution_count": 73,
   "id": "6129095b",
   "metadata": {
    "execution": {
     "iopub.execute_input": "2023-01-15T09:24:09.025386Z",
     "iopub.status.busy": "2023-01-15T09:24:09.024745Z",
     "iopub.status.idle": "2023-01-15T09:24:09.029928Z",
     "shell.execute_reply": "2023-01-15T09:24:09.029010Z",
     "shell.execute_reply.started": "2023-01-15T09:12:35.695119Z"
    },
    "papermill": {
     "duration": 0.105263,
     "end_time": "2023-01-15T09:24:09.030109",
     "exception": false,
     "start_time": "2023-01-15T09:24:08.924846",
     "status": "completed"
    },
    "tags": []
   },
   "outputs": [
    {
     "data": {
      "text/html": [
       "<div>\n",
       "<style scoped>\n",
       "    .dataframe tbody tr th:only-of-type {\n",
       "        vertical-align: middle;\n",
       "    }\n",
       "\n",
       "    .dataframe tbody tr th {\n",
       "        vertical-align: top;\n",
       "    }\n",
       "\n",
       "    .dataframe thead th {\n",
       "        text-align: right;\n",
       "    }\n",
       "</style>\n",
       "<table border=\"1\" class=\"dataframe\">\n",
       "  <thead>\n",
       "    <tr style=\"text-align: right;\">\n",
       "      <th></th>\n",
       "      <th>reviewer_score</th>\n",
       "      <th>id</th>\n",
       "    </tr>\n",
       "  </thead>\n",
       "  <tbody>\n",
       "    <tr>\n",
       "      <th>0</th>\n",
       "      <td>1</td>\n",
       "      <td>488440</td>\n",
       "    </tr>\n",
       "    <tr>\n",
       "      <th>1</th>\n",
       "      <td>10</td>\n",
       "      <td>274649</td>\n",
       "    </tr>\n",
       "    <tr>\n",
       "      <th>2</th>\n",
       "      <td>3</td>\n",
       "      <td>374688</td>\n",
       "    </tr>\n",
       "    <tr>\n",
       "      <th>3</th>\n",
       "      <td>10</td>\n",
       "      <td>404352</td>\n",
       "    </tr>\n",
       "    <tr>\n",
       "      <th>4</th>\n",
       "      <td>9</td>\n",
       "      <td>451596</td>\n",
       "    </tr>\n",
       "    <tr>\n",
       "      <th>...</th>\n",
       "      <td>...</td>\n",
       "      <td>...</td>\n",
       "    </tr>\n",
       "    <tr>\n",
       "      <th>128930</th>\n",
       "      <td>7</td>\n",
       "      <td>495812</td>\n",
       "    </tr>\n",
       "    <tr>\n",
       "      <th>128931</th>\n",
       "      <td>1</td>\n",
       "      <td>315577</td>\n",
       "    </tr>\n",
       "    <tr>\n",
       "      <th>128932</th>\n",
       "      <td>3</td>\n",
       "      <td>511968</td>\n",
       "    </tr>\n",
       "    <tr>\n",
       "      <th>128933</th>\n",
       "      <td>6</td>\n",
       "      <td>303386</td>\n",
       "    </tr>\n",
       "    <tr>\n",
       "      <th>128934</th>\n",
       "      <td>5</td>\n",
       "      <td>103157</td>\n",
       "    </tr>\n",
       "  </tbody>\n",
       "</table>\n",
       "<p>128935 rows × 2 columns</p>\n",
       "</div>"
      ],
      "text/plain": [
       "        reviewer_score      id\n",
       "0                    1  488440\n",
       "1                   10  274649\n",
       "2                    3  374688\n",
       "3                   10  404352\n",
       "4                    9  451596\n",
       "...                ...     ...\n",
       "128930               7  495812\n",
       "128931               1  315577\n",
       "128932               3  511968\n",
       "128933               6  303386\n",
       "128934               5  103157\n",
       "\n",
       "[128935 rows x 2 columns]"
      ]
     },
     "execution_count": 73,
     "metadata": {},
     "output_type": "execute_result"
    }
   ],
   "source": [
    "sample_submission"
   ]
  },
  {
   "cell_type": "code",
   "execution_count": 74,
   "id": "32b0b021",
   "metadata": {
    "execution": {
     "iopub.execute_input": "2023-01-15T09:24:09.218193Z",
     "iopub.status.busy": "2023-01-15T09:24:09.217544Z",
     "iopub.status.idle": "2023-01-15T09:24:11.452428Z",
     "shell.execute_reply": "2023-01-15T09:24:11.451909Z",
     "shell.execute_reply.started": "2023-01-15T09:12:38.115496Z"
    },
    "papermill": {
     "duration": 2.329796,
     "end_time": "2023-01-15T09:24:11.452564",
     "exception": false,
     "start_time": "2023-01-15T09:24:09.122768",
     "status": "completed"
    },
    "tags": []
   },
   "outputs": [
    {
     "name": "stderr",
     "output_type": "stream",
     "text": [
      "[Parallel(n_jobs=4)]: Using backend ThreadingBackend with 4 concurrent workers.\n",
      "[Parallel(n_jobs=4)]: Done  42 tasks      | elapsed:    0.9s\n",
      "[Parallel(n_jobs=4)]: Done 100 out of 100 | elapsed:    2.1s finished\n"
     ]
    }
   ],
   "source": [
    "predict_submission = model.predict(test_data)"
   ]
  },
  {
   "cell_type": "code",
   "execution_count": 75,
   "id": "b082fd7a",
   "metadata": {
    "execution": {
     "iopub.execute_input": "2023-01-15T09:24:11.676418Z",
     "iopub.status.busy": "2023-01-15T09:24:11.675719Z",
     "iopub.status.idle": "2023-01-15T09:24:11.680540Z",
     "shell.execute_reply": "2023-01-15T09:24:11.679980Z",
     "shell.execute_reply.started": "2023-01-15T09:12:48.419341Z"
    },
    "papermill": {
     "duration": 0.115244,
     "end_time": "2023-01-15T09:24:11.680692",
     "exception": false,
     "start_time": "2023-01-15T09:24:11.565448",
     "status": "completed"
    },
    "tags": []
   },
   "outputs": [
    {
     "data": {
      "text/plain": [
       "array([8.488, 7.488, 8.707, ..., 8.216, 9.516, 7.175])"
      ]
     },
     "execution_count": 75,
     "metadata": {},
     "output_type": "execute_result"
    }
   ],
   "source": [
    "predict_submission"
   ]
  },
  {
   "cell_type": "code",
   "execution_count": 76,
   "id": "9fbb05ec",
   "metadata": {
    "execution": {
     "iopub.execute_input": "2023-01-15T09:24:11.880606Z",
     "iopub.status.busy": "2023-01-15T09:24:11.879965Z",
     "iopub.status.idle": "2023-01-15T09:24:11.882689Z",
     "shell.execute_reply": "2023-01-15T09:24:11.883301Z",
     "shell.execute_reply.started": "2023-01-15T09:12:52.631524Z"
    },
    "papermill": {
     "duration": 0.100026,
     "end_time": "2023-01-15T09:24:11.883468",
     "exception": false,
     "start_time": "2023-01-15T09:24:11.783442",
     "status": "completed"
    },
    "tags": []
   },
   "outputs": [
    {
     "data": {
      "text/plain": [
       "['reviewer_score', 'id']"
      ]
     },
     "execution_count": 76,
     "metadata": {},
     "output_type": "execute_result"
    }
   ],
   "source": [
    "list(sample_submission)"
   ]
  },
  {
   "cell_type": "code",
   "execution_count": 77,
   "id": "cb48e2ba",
   "metadata": {
    "execution": {
     "iopub.execute_input": "2023-01-15T09:24:12.074925Z",
     "iopub.status.busy": "2023-01-15T09:24:12.074043Z",
     "iopub.status.idle": "2023-01-15T09:24:12.290546Z",
     "shell.execute_reply": "2023-01-15T09:24:12.291196Z",
     "shell.execute_reply.started": "2023-01-15T09:12:56.812705Z"
    },
    "papermill": {
     "duration": 0.312252,
     "end_time": "2023-01-15T09:24:12.291385",
     "exception": false,
     "start_time": "2023-01-15T09:24:11.979133",
     "status": "completed"
    },
    "tags": []
   },
   "outputs": [
    {
     "data": {
      "text/html": [
       "<div>\n",
       "<style scoped>\n",
       "    .dataframe tbody tr th:only-of-type {\n",
       "        vertical-align: middle;\n",
       "    }\n",
       "\n",
       "    .dataframe tbody tr th {\n",
       "        vertical-align: top;\n",
       "    }\n",
       "\n",
       "    .dataframe thead th {\n",
       "        text-align: right;\n",
       "    }\n",
       "</style>\n",
       "<table border=\"1\" class=\"dataframe\">\n",
       "  <thead>\n",
       "    <tr style=\"text-align: right;\">\n",
       "      <th></th>\n",
       "      <th>reviewer_score</th>\n",
       "      <th>id</th>\n",
       "    </tr>\n",
       "  </thead>\n",
       "  <tbody>\n",
       "    <tr>\n",
       "      <th>0</th>\n",
       "      <td>8.488</td>\n",
       "      <td>488440</td>\n",
       "    </tr>\n",
       "    <tr>\n",
       "      <th>1</th>\n",
       "      <td>7.488</td>\n",
       "      <td>274649</td>\n",
       "    </tr>\n",
       "    <tr>\n",
       "      <th>2</th>\n",
       "      <td>8.707</td>\n",
       "      <td>374688</td>\n",
       "    </tr>\n",
       "    <tr>\n",
       "      <th>3</th>\n",
       "      <td>9.791</td>\n",
       "      <td>404352</td>\n",
       "    </tr>\n",
       "    <tr>\n",
       "      <th>4</th>\n",
       "      <td>9.526</td>\n",
       "      <td>451596</td>\n",
       "    </tr>\n",
       "    <tr>\n",
       "      <th>5</th>\n",
       "      <td>9.005</td>\n",
       "      <td>302161</td>\n",
       "    </tr>\n",
       "    <tr>\n",
       "      <th>6</th>\n",
       "      <td>7.199</td>\n",
       "      <td>317079</td>\n",
       "    </tr>\n",
       "    <tr>\n",
       "      <th>7</th>\n",
       "      <td>7.539</td>\n",
       "      <td>13963</td>\n",
       "    </tr>\n",
       "    <tr>\n",
       "      <th>8</th>\n",
       "      <td>8.480</td>\n",
       "      <td>159785</td>\n",
       "    </tr>\n",
       "    <tr>\n",
       "      <th>9</th>\n",
       "      <td>7.404</td>\n",
       "      <td>195089</td>\n",
       "    </tr>\n",
       "  </tbody>\n",
       "</table>\n",
       "</div>"
      ],
      "text/plain": [
       "   reviewer_score      id\n",
       "0           8.488  488440\n",
       "1           7.488  274649\n",
       "2           8.707  374688\n",
       "3           9.791  404352\n",
       "4           9.526  451596\n",
       "5           9.005  302161\n",
       "6           7.199  317079\n",
       "7           7.539   13963\n",
       "8           8.480  159785\n",
       "9           7.404  195089"
      ]
     },
     "execution_count": 77,
     "metadata": {},
     "output_type": "execute_result"
    }
   ],
   "source": [
    "sample_submission['reviewer_score'] = predict_submission\n",
    "sample_submission.to_csv('submission.csv', index=False)\n",
    "sample_submission.head(10)"
   ]
  },
  {
   "cell_type": "code",
   "execution_count": null,
   "id": "51ad50f5",
   "metadata": {
    "papermill": {
     "duration": 0.094018,
     "end_time": "2023-01-15T09:24:12.479062",
     "exception": false,
     "start_time": "2023-01-15T09:24:12.385044",
     "status": "completed"
    },
    "tags": []
   },
   "outputs": [],
   "source": []
  },
  {
   "cell_type": "code",
   "execution_count": null,
   "id": "11b3dc8c",
   "metadata": {
    "papermill": {
     "duration": 0.093044,
     "end_time": "2023-01-15T09:24:12.667217",
     "exception": false,
     "start_time": "2023-01-15T09:24:12.574173",
     "status": "completed"
    },
    "tags": []
   },
   "outputs": [],
   "source": []
  },
  {
   "cell_type": "code",
   "execution_count": null,
   "id": "47f14a1e",
   "metadata": {
    "papermill": {
     "duration": 0.093549,
     "end_time": "2023-01-15T09:24:12.855265",
     "exception": false,
     "start_time": "2023-01-15T09:24:12.761716",
     "status": "completed"
    },
    "tags": []
   },
   "outputs": [],
   "source": []
  }
 ],
 "metadata": {
  "kernelspec": {
   "display_name": "Python 3",
   "language": "python",
   "name": "python3"
  },
  "language_info": {
   "codemirror_mode": {
    "name": "ipython",
    "version": 3
   },
   "file_extension": ".py",
   "mimetype": "text/x-python",
   "name": "python",
   "nbconvert_exporter": "python",
   "pygments_lexer": "ipython3",
   "version": "3.7.12"
  },
  "papermill": {
   "default_parameters": {},
   "duration": 597.676172,
   "end_time": "2023-01-15T09:24:14.162666",
   "environment_variables": {},
   "exception": null,
   "input_path": "__notebook__.ipynb",
   "output_path": "__notebook__.ipynb",
   "parameters": {},
   "start_time": "2023-01-15T09:14:16.486494",
   "version": "2.3.3"
  }
 },
 "nbformat": 4,
 "nbformat_minor": 5
}
